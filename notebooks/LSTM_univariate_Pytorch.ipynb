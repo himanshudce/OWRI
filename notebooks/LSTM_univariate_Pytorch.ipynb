{
 "cells": [
  {
   "cell_type": "code",
   "execution_count": 161,
   "metadata": {},
   "outputs": [],
   "source": [
    "import keras\n",
    "import math\n",
    "import pandas as pd\n",
    "import numpy as np\n",
    "from keras.callbacks import EarlyStopping\n",
    "from sklearn.model_selection import train_test_split\n",
    "from sklearn.model_selection import GridSearchCV\n",
    "from sklearn.preprocessing import StandardScaler\n",
    "from sklearn.metrics import roc_auc_score\n",
    "import matplotlib.pyplot as plt\n",
    "from sklearn.metrics import mean_squared_error, mean_absolute_error, r2_score\n",
    "import time\n",
    "from torch.utils.data import Dataset, DataLoader\n",
    "import pickle\n",
    "pd.set_option('display.max_rows', 500)\n",
    "import os\n",
    "import tensorflow as tf\n",
    "import torch\n",
    "import torch.nn as nn\n",
    "from math import sqrt\n",
    "# import rmse from sklearn\n",
    "from sklearn.metrics import mean_squared_error\n",
    "\n",
    "\n",
    "# define random seeds for Neural Networks\n",
    "torch.manual_seed(0)\n",
    "np.random.seed(0)\n",
    "tf.random.set_seed(0)\n",
    "# ignore warnings jupyter notebook\n",
    "import warnings\n",
    "warnings.filterwarnings('ignore')"
   ]
  },
  {
   "cell_type": "code",
   "execution_count": null,
   "metadata": {},
   "outputs": [],
   "source": [
    "# from google.colab import drive\n",
    "# drive.mount('/content/drive')"
   ]
  },
  {
   "attachments": {},
   "cell_type": "markdown",
   "metadata": {},
   "source": [
    "# OWRI FRAMEWORK"
   ]
  },
  {
   "cell_type": "code",
   "execution_count": null,
   "metadata": {},
   "outputs": [],
   "source": [
    "# from google.colab import drive\n",
    "# drive.mount('/content/drive/')"
   ]
  },
  {
   "cell_type": "code",
   "execution_count": 162,
   "metadata": {},
   "outputs": [],
   "source": [
    "def merge_trejectory_data(results, trajectory, direction):\n",
    "    data = pd.DataFrame()\n",
    "    for intersection_name in results[trajectory][direction]['raw']:\n",
    "        intersection = results[trajectory][direction]['raw'][intersection_name]\n",
    "        intersection = intersection.rename(columns={\"cars\": intersection_name})\n",
    "        intersection = intersection.set_index(pd.DatetimeIndex(intersection['timestamp']))\n",
    "        intersection = intersection.drop(columns=['timestamp'])\n",
    "        data = pd.merge(data, intersection, left_index=True, right_index=True, how='outer')\n",
    "    data.dropna(inplace=True)\n",
    "    return data"
   ]
  },
  {
   "cell_type": "code",
   "execution_count": 163,
   "metadata": {},
   "outputs": [],
   "source": [
    "def merge_trejectory_data_metr(results):\n",
    "    data = pd.DataFrame()\n",
    "    for intersection_name in results['raw']:\n",
    "        intersection = results['raw'][intersection_name]\n",
    "        intersection = intersection.rename(columns={\"cars\": intersection_name})\n",
    "        intersection = intersection.set_index(pd.DatetimeIndex(intersection['timestamp']))\n",
    "        intersection = intersection.drop(columns=['timestamp'])\n",
    "        data = pd.merge(data, intersection, left_index=True, right_index=True, how='outer')\n",
    "    data.dropna(inplace=True)\n",
    "    return data"
   ]
  },
  {
   "cell_type": "code",
   "execution_count": 164,
   "metadata": {},
   "outputs": [],
   "source": [
    "def preprocess_df(df,n_obs, n_features, sequence_length, train_portion = 0.8):\n",
    "    #do scaling:\n",
    "    scaler = StandardScaler()\n",
    "    df_train = df[:math.ceil(len(df)*train_portion)].values\n",
    "    df_test = df[math.ceil(len(df)*(train_portion)):].values\n",
    "    train_X, train_y = df_train[:, :n_obs], df_train[:, -n_features]\n",
    "    test_X, test_y = df_test[:, :n_obs], df_test[:, -n_features]\n",
    "    scl = scaler.fit(train_X) # fit only on training data\n",
    "    train_X = scl.transform(train_X)\n",
    "    test_X = scl.transform(test_X)\n",
    "    train_X = train_X.reshape((train_X.shape[0], sequence_length, n_features))\n",
    "    test_X = test_X.reshape((test_X.shape[0], sequence_length, n_features))\n",
    "    return train_X, train_y, test_X, test_y, scl"
   ]
  },
  {
   "cell_type": "code",
   "execution_count": 165,
   "metadata": {},
   "outputs": [],
   "source": [
    "def series_to_supervised(data, n_in=1, n_out=1, dropnan=True):\n",
    "\tn_vars = 1 if type(data) is list else data.shape[1]\n",
    "\tdf = pd.DataFrame(data)\n",
    "\tcols, names = list(), list()\n",
    "\t# input sequence (t-n, ... t-1)\n",
    "\tfor i in range(n_in, 0, -1):\n",
    "\t\tcols.append(df.shift(i))\n",
    "\t\tnames += [('var%d(t-%d)' % (j+1, i)) for j in range(n_vars)]\n",
    "\t# forecast sequence (t, t+1, ... t+n)\n",
    "\tfor i in range(0, n_out):\n",
    "\t\tcols.append(df.shift(-i))\n",
    "\t\tif i == 0:\n",
    "\t\t\tnames += [('var%d(t)' % (j+1)) for j in range(n_vars)]\n",
    "\t\telse:\n",
    "\t\t\tnames += [('var%d(t+%d)' % (j+1, i)) for j in range(n_vars)]\n",
    "\t# put it all together\n",
    "\tagg = pd.concat(cols, axis=1)\n",
    "\tagg.columns = names\n",
    "\t# drop rows with NaN values\n",
    "\tif dropnan:\n",
    "\t\tagg.dropna(inplace=True)\n",
    "\treturn agg"
   ]
  },
  {
   "cell_type": "code",
   "execution_count": 166,
   "metadata": {},
   "outputs": [],
   "source": [
    "class LSTM_uni(nn.Module):\n",
    "    def __init__(self, input_dim, hidden_dim, output_dim, layer_dim=1, dropout_prob = 0.2, device = 'cpu'):\n",
    "        super(LSTM_uni, self).__init__()\n",
    "        self.hidden_dim = hidden_dim # number of hidden units in hidden state\n",
    "        self.layer_dim = layer_dim # number of stacked lstm layers\n",
    "        self.device = device\n",
    "        # batch_first=True causes input/output tensors to be of shape\n",
    "        # (batch_dim, seq_dim, feature_dim)\n",
    "        self.lstm = nn.LSTM(input_dim, hidden_dim, layer_dim, batch_first=True, dropout=dropout_prob)\n",
    "        self.fc = nn.Linear(hidden_dim, output_dim) # fully connected layer\n",
    "\n",
    "    def forward(self, x, future=False):\n",
    "        # input x is expected to be of shape (batch_dim, seq_dim, feature_dim)\n",
    "        # hidden and cell states are expected along with input x in LSTMs = (h_0, c_0)\n",
    "        # Initialize hidden state with zeros (layer_dim, batch_size, hidden_dim)\n",
    "        h0 = torch.zeros(self.layer_dim, x.size(0), self.hidden_dim, device=self.device).requires_grad_()\n",
    "        c0 = torch.zeros(self.layer_dim, x.size(0), self.hidden_dim, device=self.device).requires_grad_()\n",
    "\n",
    "        # LSTM output is Outputs: output, (h_n, c_n)\n",
    "        # output is of shape (batch_dim, seq_dim, hidden_dim), h_n and c_n are of shape (layer_dim, batch_dim, hidden_dim)\n",
    "        out, (hn, cn) = self.lstm(x, (h0.detach(), c0.detach()))\n",
    "        out = out[:, -1, :] # only take the last output of the sequence\n",
    "        out = self.fc(out) # fully connected layer\n",
    "\n",
    "        return out"
   ]
  },
  {
   "cell_type": "code",
   "execution_count": 167,
   "metadata": {},
   "outputs": [],
   "source": [
    "def train_model(model, train_X,train_y, loss_fn, optimiser, device, batch_size, epochs=100):\n",
    "    history = {}\n",
    "    history['train_loss'] = []\n",
    "\n",
    "    train_X_loader = DataLoader(train_X, batch_size=batch_size, shuffle=False)\n",
    "    train_y_loader = DataLoader(train_y, batch_size=batch_size, shuffle=False)\n",
    "\n",
    "    for epoch in range(epochs):\n",
    "        history[epoch] = []\n",
    "        running_loss = 0.0\n",
    "        for bx, data in enumerate(zip(train_X_loader,train_y_loader)):\n",
    "            X = data[0].to(device)\n",
    "            y = data[1].to(device)\n",
    "            bt = model(X)\n",
    "            loss = loss_fn(bt.reshape(-1), y.reshape(-1)) # calculate loss for input and recreated output\n",
    "            history[epoch].append(loss.item())\n",
    "            optimiser.zero_grad()\n",
    "            loss.backward()\n",
    "            optimiser.step()\n",
    "            running_loss += loss.item()\n",
    "        epoch_loss = running_loss/train_X.shape[0]\n",
    "        history['train_loss'].append(epoch_loss)\n",
    "    \n",
    "    return history\n",
    "    "
   ]
  },
  {
   "cell_type": "code",
   "execution_count": 168,
   "metadata": {},
   "outputs": [],
   "source": [
    "def model_evaluation( model, test_X, device):\n",
    "    test_X_loader = DataLoader(test_X, batch_size=128, shuffle=False)\n",
    "    model = model.eval()\n",
    "    preds = []\n",
    "    with torch.no_grad():\n",
    "        for bx, data in enumerate(test_X_loader):\n",
    "            X = data.to(device)\n",
    "            bt = model(X)\n",
    "            preds.append(bt.cpu().numpy())\n",
    "    preds = np.vstack(preds)\n",
    "    preds = preds.reshape(-1)\n",
    "    return preds"
   ]
  },
  {
   "cell_type": "code",
   "execution_count": null,
   "metadata": {},
   "outputs": [],
   "source": []
  },
  {
   "cell_type": "markdown",
   "metadata": {},
   "source": [
    "#### ---------------------------- Hauge data processing ---------------------------- "
   ]
  },
  {
   "cell_type": "code",
   "execution_count": 201,
   "metadata": {},
   "outputs": [],
   "source": [
    "# results save path\n",
    "outlier_model_name = ''\n",
    "data_name = 'hauge'\n",
    "base_result_path = f'../results/{data_name}/LSTM'\n",
    "# base_result_path = f'drive/MyDrive/OWRI/results/{data_name}/LSTM' # for google colab\n",
    "exp_name = f'univariate_{outlier_model_name}_outlier_weighted.pkl'\n",
    "results_save_path = os.path.join(base_result_path, exp_name)"
   ]
  },
  {
   "cell_type": "code",
   "execution_count": 202,
   "metadata": {},
   "outputs": [],
   "source": [
    "with open(f'../data/{data_name}/processed/featured_fpds_raw.pickle', 'rb') as f:\n",
    "    results = pickle.load(f)\n",
    "\n",
    "# with open(f'drive/MyDrive/OWRI/data/{data_name}/processed/featured_fpds_raw.pickle', 'rb') as f:\n",
    "#     results = pickle.load(f)  # for google colab"
   ]
  },
  {
   "cell_type": "code",
   "execution_count": 203,
   "metadata": {},
   "outputs": [],
   "source": [
    "# load data of correlated results from pickle file\n",
    "with open(f'../results/{data_name}/outlier_scores/{outlier_model_name}/correlated_results.pickle', 'rb') as f:\n",
    "    correlated_results = pickle.load(f)\n",
    "\n",
    "# with open(f'drive/MyDrive/OWRI/results/{data_name}/outlier_scores/{outlier_model_name}/correlated_results.pickle', 'rb') as f:\n",
    "#     correlated_results = pickle.load(f)   # for google colab"
   ]
  },
  {
   "cell_type": "code",
   "execution_count": 204,
   "metadata": {},
   "outputs": [],
   "source": [
    "thresholds = [0,0.05,0.1,0.25,0.5, 0.75, 1] # thresholds for the percentage of correlated columns to keep\n",
    "# get target intersections for each trajectory and direction\n",
    "target_intersections={\"T1\":{\"North\":\"K504\", \"South\":\"K561\"},\n",
    "                      \"T2\":{\"North\":\"K703\", \"South\":\"K206\"}}\n",
    "# declare variables\n",
    "epoch = 100\n",
    "batch_size = 64\n",
    "learning_rate = 0.1\n",
    "hidden_size = 32\n",
    "num_layers = 1\n",
    "dropout = 0.2\n",
    "sequence_length = 12\n",
    "output_pred = 1 # number of time steps to predict\n",
    "train_portion = 0.8 # percentage of data to use for training\n",
    "device = 'mps' if torch.backends.mps.is_available() else 'cpu'\n",
    "# device = 'cuda' if torch.cuda.is_available() else 'cpu' # for google colab\n"
   ]
  },
  {
   "cell_type": "code",
   "execution_count": 205,
   "metadata": {},
   "outputs": [
    {
     "name": "stdout",
     "output_type": "stream",
     "text": [
      "\n",
      " \n",
      " Starting trajectory: T1\n",
      "Starting direction: North\n",
      "Starting threshold: 0\n",
      "Training time: 2202.3177268505096\n",
      "RMSE: 10.285794537851821, MAE: 7.137937068939209, R2: 0.8702443437375684\n",
      "Starting threshold: 0.05\n",
      "Training time: 2091.1715800762177\n",
      "RMSE: 10.28744922871072, MAE: 7.124786376953125, R2: 0.870202588379974\n",
      "Starting threshold: 0.1\n"
     ]
    },
    {
     "ename": "KeyboardInterrupt",
     "evalue": "",
     "output_type": "error",
     "traceback": [
      "\u001b[0;31m---------------------------------------------------------------------------\u001b[0m",
      "\u001b[0;31mKeyboardInterrupt\u001b[0m                         Traceback (most recent call last)",
      "Cell \u001b[0;32mIn[205], line 39\u001b[0m\n\u001b[1;32m     37\u001b[0m optimiser \u001b[39m=\u001b[39m torch\u001b[39m.\u001b[39moptim\u001b[39m.\u001b[39mAdam(model\u001b[39m.\u001b[39mparameters(), lr\u001b[39m=\u001b[39m\u001b[39m0.01\u001b[39m)\n\u001b[1;32m     38\u001b[0m start \u001b[39m=\u001b[39m time\u001b[39m.\u001b[39mtime()\n\u001b[0;32m---> 39\u001b[0m history \u001b[39m=\u001b[39m train_model(model, train_X,train_y, loss_fn, optimiser, device, batch_size, epochs\u001b[39m=\u001b[39;49mepoch)\n\u001b[1;32m     40\u001b[0m end \u001b[39m=\u001b[39m time\u001b[39m.\u001b[39mtime()\n\u001b[1;32m     41\u001b[0m \u001b[39mprint\u001b[39m(\u001b[39m\"\u001b[39m\u001b[39mTraining time: \u001b[39m\u001b[39m{}\u001b[39;00m\u001b[39m\"\u001b[39m\u001b[39m.\u001b[39mformat(end\u001b[39m-\u001b[39mstart))\n",
      "Cell \u001b[0;32mIn[167], line 20\u001b[0m, in \u001b[0;36mtrain_model\u001b[0;34m(model, train_X, train_y, loss_fn, optimiser, device, batch_size, epochs)\u001b[0m\n\u001b[1;32m     18\u001b[0m     loss\u001b[39m.\u001b[39mbackward()\n\u001b[1;32m     19\u001b[0m     optimiser\u001b[39m.\u001b[39mstep()\n\u001b[0;32m---> 20\u001b[0m     running_loss \u001b[39m+\u001b[39m\u001b[39m=\u001b[39m loss\u001b[39m.\u001b[39;49mitem()\n\u001b[1;32m     21\u001b[0m epoch_loss \u001b[39m=\u001b[39m running_loss\u001b[39m/\u001b[39mtrain_X\u001b[39m.\u001b[39mshape[\u001b[39m0\u001b[39m]\n\u001b[1;32m     22\u001b[0m history[\u001b[39m'\u001b[39m\u001b[39mtrain_loss\u001b[39m\u001b[39m'\u001b[39m]\u001b[39m.\u001b[39mappend(epoch_loss)\n",
      "\u001b[0;31mKeyboardInterrupt\u001b[0m: "
     ]
    }
   ],
   "source": [
    "errors={}\n",
    "dfs={}\n",
    "intersection_arrays = []\n",
    "for trajectory in results.keys():\n",
    "    errors[trajectory]={}\n",
    "    print(\"\\n \\n Starting trajectory: {}\".format(trajectory))\n",
    "    for direction in results[trajectory]:\n",
    "        key = trajectory+\"_\"+direction\n",
    "        target = target_intersections[trajectory][direction]\n",
    "        errors[trajectory][direction]={}\n",
    "        print(\"Starting direction: {}\".format(direction))\n",
    "        for threshold in thresholds:\n",
    "            errors[trajectory][direction][threshold]={}\n",
    "            print(\"Starting threshold: {}\".format(threshold))\n",
    "            # ------------------------------------ data processing ---------------------------------------- #\n",
    "            data = merge_trejectory_data(results, trajectory, direction)# get raw data of the current trajectory and direction\n",
    "            ae_score = correlated_results[key] # AE scores of the current trajectory and direction\n",
    "            number_of_cols = math.ceil(len(ae_score.columns)*threshold) # number of outlier weighted intersections\n",
    "            if number_of_cols==0: # if threshold is 0, then use the target intersection only\n",
    "                number_of_cols=1\n",
    "            top_corr_df = ae_score.corr()[target].sort_values(ascending=False)[:number_of_cols] # get the top correlated intersections\n",
    "            isct_inc = top_corr_df.index.tolist()\n",
    "            df = data[isct_inc].copy(deep=True)\n",
    "            df = df[ [target] + [ col for col in df.columns if col != target ] ]  #move target var to front of DF\n",
    "            df = df.mul(top_corr_df, axis=1)\n",
    "            df = df.astype('float32')\n",
    "            n_features = len(isct_inc) # number of features (correlated intersections)\n",
    "            n_obs = sequence_length * n_features # number of columns in the input\n",
    "            reframed = series_to_supervised(df, sequence_length, output_pred)\n",
    "            train_X, train_y, test_X, test_y, scl = preprocess_df(reframed, n_obs, n_features, sequence_length)\n",
    "\n",
    "#             # # ------------------------------------ modelling ---------------------------------------------- #\n",
    "            # define model, loss function and optimizer\n",
    "            model = LSTM_uni(input_dim = n_features, hidden_dim = hidden_size, output_dim = output_pred, layer_dim = num_layers, dropout_prob= dropout, device = device)\n",
    "            model = model.to(device)\n",
    "            loss_fn = torch.nn.MSELoss()\n",
    "            optimiser = torch.optim.Adam(model.parameters(), lr=0.01)\n",
    "            start = time.time()\n",
    "            history = train_model(model, train_X,train_y, loss_fn, optimiser, device, batch_size, epochs=epoch)\n",
    "            end = time.time()\n",
    "            print(\"Training time: {}\".format(end-start))\n",
    "\n",
    "\n",
    "            # ------------------------------------ evaluation ---------------------------------------------- #\n",
    "            yhat = model_evaluation( model, test_X , device)\n",
    "            errors[trajectory][direction][threshold]['RMSE'] = sqrt(mean_squared_error(yhat,test_y))\n",
    "            errors[trajectory][direction][threshold]['MAE'] = mean_absolute_error(yhat,test_y)\n",
    "            errors[trajectory][direction][threshold]['R2'] = r2_score(test_y, yhat)\n",
    "            errors[trajectory][direction][threshold]['history'] = history\n",
    "            errors[trajectory][direction][threshold]['df'] = pd.DataFrame({\"Real\":test_y,\"Predicted\":yhat})\n",
    "            errors[trajectory][direction][threshold]['train_time'] = end-start\n",
    "            print(f\"RMSE: {errors[trajectory][direction][threshold]['RMSE']}, MAE: {errors[trajectory][direction][threshold]['MAE']}, R2: {errors[trajectory][direction][threshold]['R2']}\")\n",
    "\n",
    "\n",
    "# save errors in save path as pickle file\n",
    "with open(results_save_path, 'wb') as handle:\n",
    "    pickle.dump(errors, handle)"
   ]
  },
  {
   "cell_type": "code",
   "execution_count": null,
   "metadata": {},
   "outputs": [],
   "source": []
  },
  {
   "cell_type": "markdown",
   "metadata": {},
   "source": [
    "#### ---------------------------- METR-LA data processing ---------------------------- "
   ]
  },
  {
   "cell_type": "code",
   "execution_count": 190,
   "metadata": {},
   "outputs": [],
   "source": [
    "# results save path\n",
    "outlier_model_name = 'DAE'\n",
    "data_name = 'METR-LA'\n",
    "base_result_path = f'../results/{data_name}/LSTM'\n",
    "exp_name = f'univariate_{outlier_model_name}_outlier_weighted.pkl'\n",
    "results_save_path = os.path.join(base_result_path, exp_name)"
   ]
  },
  {
   "cell_type": "code",
   "execution_count": null,
   "metadata": {},
   "outputs": [],
   "source": [
    "with open(f'../data/{data_name}/processed/featured_fpds_raw.pickle', 'rb') as f:\n",
    "    results = pickle.load(f)\n",
    "\n",
    "# with open(f'drive/MyDrive/OWRI/data/{data_name}/processed/featured_fpds_raw.pickle', 'rb') as f:\n",
    "#     results = pickle.load(f)  # for google colab"
   ]
  },
  {
   "cell_type": "code",
   "execution_count": null,
   "metadata": {},
   "outputs": [],
   "source": [
    "# load data of correlated results from pickle file\n",
    "with open(f'../results/{data_name}/outlier_scores/{outlier_model_name}/correlated_results.pickle', 'rb') as f:\n",
    "    correlated_results = pickle.load(f)\n",
    "\n",
    "# with open(f'drive/MyDrive/OWRI/results/{data_name}/outlier_scores/{outlier_model_name}/correlated_results.pickle', 'rb') as f:\n",
    "#     correlated_results = pickle.load(f)   # for google colab"
   ]
  },
  {
   "cell_type": "code",
   "execution_count": 193,
   "metadata": {},
   "outputs": [],
   "source": [
    "thresholds = [0,0.05,0.1,0.25,0.5, 0.75, 1] # thresholds for the percentage of correlated columns to keep\n",
    "target_intersections = list(np.random.choice(list(results['raw'].keys()), 5, replace=False)) # select 10 intersections randomly from the 207 intersections\n",
    "# declare variables\n",
    "epoch = 100\n",
    "batch_size = 64\n",
    "learning_rate = 0.1\n",
    "hidden_size = 32\n",
    "num_layers = 1\n",
    "dropout = 0.2\n",
    "sequence_length = 12\n",
    "output_pred = 1 # number of time steps to predict\n",
    "train_portion = 0.8 # percentage of data to use for training\n",
    "# device = 'mps' if torch.backends.mps.is_available() else 'cpu'\n",
    "device = 'cuda' if torch.cuda.is_available() else 'cpu' # for google colab"
   ]
  },
  {
   "cell_type": "code",
   "execution_count": 131,
   "metadata": {},
   "outputs": [
    {
     "name": "stdout",
     "output_type": "stream",
     "text": [
      "\n",
      " \n",
      " Starting target: 762329\n",
      "Starting threshold: 0\n"
     ]
    },
    {
     "ename": "KeyboardInterrupt",
     "evalue": "",
     "output_type": "error",
     "traceback": [
      "\u001b[0;31m---------------------------------------------------------------------------\u001b[0m",
      "\u001b[0;31mKeyboardInterrupt\u001b[0m                         Traceback (most recent call last)",
      "Cell \u001b[0;32mIn[131], line 35\u001b[0m\n\u001b[1;32m     33\u001b[0m optimiser \u001b[39m=\u001b[39m torch\u001b[39m.\u001b[39moptim\u001b[39m.\u001b[39mAdam(model\u001b[39m.\u001b[39mparameters(), lr\u001b[39m=\u001b[39m\u001b[39m0.01\u001b[39m)\n\u001b[1;32m     34\u001b[0m start \u001b[39m=\u001b[39m time\u001b[39m.\u001b[39mtime()\n\u001b[0;32m---> 35\u001b[0m history \u001b[39m=\u001b[39m train_model(model, train_X,train_y, loss_fn, optimiser, device, batch_size, epochs\u001b[39m=\u001b[39;49mepoch)\n\u001b[1;32m     36\u001b[0m end \u001b[39m=\u001b[39m time\u001b[39m.\u001b[39mtime()\n\u001b[1;32m     37\u001b[0m \u001b[39mprint\u001b[39m(\u001b[39m\"\u001b[39m\u001b[39mTraining time: \u001b[39m\u001b[39m{}\u001b[39;00m\u001b[39m\"\u001b[39m\u001b[39m.\u001b[39mformat(end\u001b[39m-\u001b[39mstart))\n",
      "Cell \u001b[0;32mIn[128], line 19\u001b[0m, in \u001b[0;36mtrain_model\u001b[0;34m(model, train_X, train_y, loss_fn, optimiser, device, batch_size, epochs)\u001b[0m\n\u001b[1;32m     17\u001b[0m     optimiser\u001b[39m.\u001b[39mzero_grad()\n\u001b[1;32m     18\u001b[0m     loss\u001b[39m.\u001b[39mbackward()\n\u001b[0;32m---> 19\u001b[0m     optimiser\u001b[39m.\u001b[39;49mstep()\n\u001b[1;32m     20\u001b[0m     running_loss \u001b[39m+\u001b[39m\u001b[39m=\u001b[39m loss\u001b[39m.\u001b[39mitem()\n\u001b[1;32m     21\u001b[0m epoch_loss \u001b[39m=\u001b[39m running_loss\u001b[39m/\u001b[39mtrain_X\u001b[39m.\u001b[39mshape[\u001b[39m0\u001b[39m]\n",
      "File \u001b[0;32m/opt/homebrew/anaconda3/envs/OWRI/lib/python3.10/site-packages/torch/optim/optimizer.py:280\u001b[0m, in \u001b[0;36mOptimizer.profile_hook_step.<locals>.wrapper\u001b[0;34m(*args, **kwargs)\u001b[0m\n\u001b[1;32m    276\u001b[0m         \u001b[39melse\u001b[39;00m:\n\u001b[1;32m    277\u001b[0m             \u001b[39mraise\u001b[39;00m \u001b[39mRuntimeError\u001b[39;00m(\u001b[39mf\u001b[39m\u001b[39m\"\u001b[39m\u001b[39m{\u001b[39;00mfunc\u001b[39m}\u001b[39;00m\u001b[39m must return None or a tuple of (new_args, new_kwargs),\u001b[39m\u001b[39m\"\u001b[39m\n\u001b[1;32m    278\u001b[0m                                \u001b[39mf\u001b[39m\u001b[39m\"\u001b[39m\u001b[39mbut got \u001b[39m\u001b[39m{\u001b[39;00mresult\u001b[39m}\u001b[39;00m\u001b[39m.\u001b[39m\u001b[39m\"\u001b[39m)\n\u001b[0;32m--> 280\u001b[0m out \u001b[39m=\u001b[39m func(\u001b[39m*\u001b[39;49margs, \u001b[39m*\u001b[39;49m\u001b[39m*\u001b[39;49mkwargs)\n\u001b[1;32m    281\u001b[0m \u001b[39mself\u001b[39m\u001b[39m.\u001b[39m_optimizer_step_code()\n\u001b[1;32m    283\u001b[0m \u001b[39m# call optimizer step post hooks\u001b[39;00m\n",
      "File \u001b[0;32m/opt/homebrew/anaconda3/envs/OWRI/lib/python3.10/site-packages/torch/optim/optimizer.py:33\u001b[0m, in \u001b[0;36m_use_grad_for_differentiable.<locals>._use_grad\u001b[0;34m(self, *args, **kwargs)\u001b[0m\n\u001b[1;32m     31\u001b[0m \u001b[39mtry\u001b[39;00m:\n\u001b[1;32m     32\u001b[0m     torch\u001b[39m.\u001b[39mset_grad_enabled(\u001b[39mself\u001b[39m\u001b[39m.\u001b[39mdefaults[\u001b[39m'\u001b[39m\u001b[39mdifferentiable\u001b[39m\u001b[39m'\u001b[39m])\n\u001b[0;32m---> 33\u001b[0m     ret \u001b[39m=\u001b[39m func(\u001b[39mself\u001b[39;49m, \u001b[39m*\u001b[39;49margs, \u001b[39m*\u001b[39;49m\u001b[39m*\u001b[39;49mkwargs)\n\u001b[1;32m     34\u001b[0m \u001b[39mfinally\u001b[39;00m:\n\u001b[1;32m     35\u001b[0m     torch\u001b[39m.\u001b[39mset_grad_enabled(prev_grad)\n",
      "File \u001b[0;32m/opt/homebrew/anaconda3/envs/OWRI/lib/python3.10/site-packages/torch/optim/adam.py:141\u001b[0m, in \u001b[0;36mAdam.step\u001b[0;34m(self, closure)\u001b[0m\n\u001b[1;32m    130\u001b[0m     beta1, beta2 \u001b[39m=\u001b[39m group[\u001b[39m'\u001b[39m\u001b[39mbetas\u001b[39m\u001b[39m'\u001b[39m]\n\u001b[1;32m    132\u001b[0m     \u001b[39mself\u001b[39m\u001b[39m.\u001b[39m_init_group(\n\u001b[1;32m    133\u001b[0m         group,\n\u001b[1;32m    134\u001b[0m         params_with_grad,\n\u001b[0;32m   (...)\u001b[0m\n\u001b[1;32m    138\u001b[0m         max_exp_avg_sqs,\n\u001b[1;32m    139\u001b[0m         state_steps)\n\u001b[0;32m--> 141\u001b[0m     adam(\n\u001b[1;32m    142\u001b[0m         params_with_grad,\n\u001b[1;32m    143\u001b[0m         grads,\n\u001b[1;32m    144\u001b[0m         exp_avgs,\n\u001b[1;32m    145\u001b[0m         exp_avg_sqs,\n\u001b[1;32m    146\u001b[0m         max_exp_avg_sqs,\n\u001b[1;32m    147\u001b[0m         state_steps,\n\u001b[1;32m    148\u001b[0m         amsgrad\u001b[39m=\u001b[39;49mgroup[\u001b[39m'\u001b[39;49m\u001b[39mamsgrad\u001b[39;49m\u001b[39m'\u001b[39;49m],\n\u001b[1;32m    149\u001b[0m         beta1\u001b[39m=\u001b[39;49mbeta1,\n\u001b[1;32m    150\u001b[0m         beta2\u001b[39m=\u001b[39;49mbeta2,\n\u001b[1;32m    151\u001b[0m         lr\u001b[39m=\u001b[39;49mgroup[\u001b[39m'\u001b[39;49m\u001b[39mlr\u001b[39;49m\u001b[39m'\u001b[39;49m],\n\u001b[1;32m    152\u001b[0m         weight_decay\u001b[39m=\u001b[39;49mgroup[\u001b[39m'\u001b[39;49m\u001b[39mweight_decay\u001b[39;49m\u001b[39m'\u001b[39;49m],\n\u001b[1;32m    153\u001b[0m         eps\u001b[39m=\u001b[39;49mgroup[\u001b[39m'\u001b[39;49m\u001b[39meps\u001b[39;49m\u001b[39m'\u001b[39;49m],\n\u001b[1;32m    154\u001b[0m         maximize\u001b[39m=\u001b[39;49mgroup[\u001b[39m'\u001b[39;49m\u001b[39mmaximize\u001b[39;49m\u001b[39m'\u001b[39;49m],\n\u001b[1;32m    155\u001b[0m         foreach\u001b[39m=\u001b[39;49mgroup[\u001b[39m'\u001b[39;49m\u001b[39mforeach\u001b[39;49m\u001b[39m'\u001b[39;49m],\n\u001b[1;32m    156\u001b[0m         capturable\u001b[39m=\u001b[39;49mgroup[\u001b[39m'\u001b[39;49m\u001b[39mcapturable\u001b[39;49m\u001b[39m'\u001b[39;49m],\n\u001b[1;32m    157\u001b[0m         differentiable\u001b[39m=\u001b[39;49mgroup[\u001b[39m'\u001b[39;49m\u001b[39mdifferentiable\u001b[39;49m\u001b[39m'\u001b[39;49m],\n\u001b[1;32m    158\u001b[0m         fused\u001b[39m=\u001b[39;49mgroup[\u001b[39m'\u001b[39;49m\u001b[39mfused\u001b[39;49m\u001b[39m'\u001b[39;49m],\n\u001b[1;32m    159\u001b[0m         grad_scale\u001b[39m=\u001b[39;49m\u001b[39mgetattr\u001b[39;49m(\u001b[39mself\u001b[39;49m, \u001b[39m\"\u001b[39;49m\u001b[39mgrad_scale\u001b[39;49m\u001b[39m\"\u001b[39;49m, \u001b[39mNone\u001b[39;49;00m),\n\u001b[1;32m    160\u001b[0m         found_inf\u001b[39m=\u001b[39;49m\u001b[39mgetattr\u001b[39;49m(\u001b[39mself\u001b[39;49m, \u001b[39m\"\u001b[39;49m\u001b[39mfound_inf\u001b[39;49m\u001b[39m\"\u001b[39;49m, \u001b[39mNone\u001b[39;49;00m),\n\u001b[1;32m    161\u001b[0m     )\n\u001b[1;32m    163\u001b[0m \u001b[39mreturn\u001b[39;00m loss\n",
      "File \u001b[0;32m/opt/homebrew/anaconda3/envs/OWRI/lib/python3.10/site-packages/torch/optim/adam.py:281\u001b[0m, in \u001b[0;36madam\u001b[0;34m(params, grads, exp_avgs, exp_avg_sqs, max_exp_avg_sqs, state_steps, foreach, capturable, differentiable, fused, grad_scale, found_inf, amsgrad, beta1, beta2, lr, weight_decay, eps, maximize)\u001b[0m\n\u001b[1;32m    278\u001b[0m \u001b[39melse\u001b[39;00m:\n\u001b[1;32m    279\u001b[0m     func \u001b[39m=\u001b[39m _single_tensor_adam\n\u001b[0;32m--> 281\u001b[0m func(params,\n\u001b[1;32m    282\u001b[0m      grads,\n\u001b[1;32m    283\u001b[0m      exp_avgs,\n\u001b[1;32m    284\u001b[0m      exp_avg_sqs,\n\u001b[1;32m    285\u001b[0m      max_exp_avg_sqs,\n\u001b[1;32m    286\u001b[0m      state_steps,\n\u001b[1;32m    287\u001b[0m      amsgrad\u001b[39m=\u001b[39;49mamsgrad,\n\u001b[1;32m    288\u001b[0m      beta1\u001b[39m=\u001b[39;49mbeta1,\n\u001b[1;32m    289\u001b[0m      beta2\u001b[39m=\u001b[39;49mbeta2,\n\u001b[1;32m    290\u001b[0m      lr\u001b[39m=\u001b[39;49mlr,\n\u001b[1;32m    291\u001b[0m      weight_decay\u001b[39m=\u001b[39;49mweight_decay,\n\u001b[1;32m    292\u001b[0m      eps\u001b[39m=\u001b[39;49meps,\n\u001b[1;32m    293\u001b[0m      maximize\u001b[39m=\u001b[39;49mmaximize,\n\u001b[1;32m    294\u001b[0m      capturable\u001b[39m=\u001b[39;49mcapturable,\n\u001b[1;32m    295\u001b[0m      differentiable\u001b[39m=\u001b[39;49mdifferentiable,\n\u001b[1;32m    296\u001b[0m      grad_scale\u001b[39m=\u001b[39;49mgrad_scale,\n\u001b[1;32m    297\u001b[0m      found_inf\u001b[39m=\u001b[39;49mfound_inf)\n",
      "File \u001b[0;32m/opt/homebrew/anaconda3/envs/OWRI/lib/python3.10/site-packages/torch/optim/adam.py:345\u001b[0m, in \u001b[0;36m_single_tensor_adam\u001b[0;34m(params, grads, exp_avgs, exp_avg_sqs, max_exp_avg_sqs, state_steps, grad_scale, found_inf, amsgrad, beta1, beta2, lr, weight_decay, eps, maximize, capturable, differentiable)\u001b[0m\n\u001b[1;32m    343\u001b[0m \u001b[39m# Decay the first and second moment running average coefficient\u001b[39;00m\n\u001b[1;32m    344\u001b[0m exp_avg\u001b[39m.\u001b[39mmul_(beta1)\u001b[39m.\u001b[39madd_(grad, alpha\u001b[39m=\u001b[39m\u001b[39m1\u001b[39m \u001b[39m-\u001b[39m beta1)\n\u001b[0;32m--> 345\u001b[0m exp_avg_sq\u001b[39m.\u001b[39;49mmul_(beta2)\u001b[39m.\u001b[39maddcmul_(grad, grad\u001b[39m.\u001b[39mconj(), value\u001b[39m=\u001b[39m\u001b[39m1\u001b[39m \u001b[39m-\u001b[39m beta2)\n\u001b[1;32m    347\u001b[0m \u001b[39mif\u001b[39;00m capturable \u001b[39mor\u001b[39;00m differentiable:\n\u001b[1;32m    348\u001b[0m     step \u001b[39m=\u001b[39m step_t\n",
      "\u001b[0;31mKeyboardInterrupt\u001b[0m: "
     ]
    }
   ],
   "source": [
    "# ------------------------------------ for metr-la dataset ---------------------------------------- #\n",
    "errors={}\n",
    "dfs={}\n",
    "intersection_arrays = []\n",
    "for target in target_intersections:\n",
    "    errors[target]={}\n",
    "    print(\"\\n \\n Starting target: {}\".format(target))\n",
    "    for threshold in thresholds:\n",
    "        errors[target][threshold]={}\n",
    "        print(\"Starting threshold: {}\".format(threshold))\n",
    "\n",
    "        # ------------------------------------ data processing ---------------------------------------- #\n",
    "        data = merge_trejectory_data_metr(results)# get raw data of the current trajectory and direction\n",
    "        ae_score = correlated_results['df'] # AE scores of the current trajectory and direction\n",
    "        number_of_cols = math.ceil(len(ae_score.columns)*threshold) # number of outlier weighted intersections\n",
    "        if number_of_cols==0: # if threshold is 0, then use the target intersection only\n",
    "            number_of_cols=1\n",
    "        top_corr_df = ae_score.corr()[target].sort_values(ascending=False)[:number_of_cols] # get the top correlated intersections\n",
    "        isct_inc = top_corr_df.index.tolist()\n",
    "        df = data[isct_inc].copy(deep=True)\n",
    "        df = df.mul(top_corr_df, axis=1)\n",
    "        df = df.astype('float32')\n",
    "        n_features = len(isct_inc) # number of features (correlated intersections)\n",
    "        n_obs = sequence_length * n_features # number of columns in the input\n",
    "        reframed = series_to_supervised(df, sequence_length, output_pred)\n",
    "        train_X, train_y, test_X, test_y, scl = preprocess_df(reframed, n_obs, n_features, sequence_length,train_portion)\n",
    "\n",
    "        # ------------------------------------ modelling ---------------------------------------------- #\n",
    "        # define model, loss function and optimizer\n",
    "        model = LSTM_uni(input_dim = n_features, hidden_dim = hidden_size, output_dim = output_pred, layer_dim = num_layers, dropout_prob= dropout, device = device)\n",
    "        model = model.to(device)\n",
    "        loss_fn = torch.nn.MSELoss()\n",
    "        optimiser = torch.optim.Adam(model.parameters(), lr=0.01)\n",
    "        start = time.time()\n",
    "        history = train_model(model, train_X,train_y, loss_fn, optimiser, device, batch_size, epochs=epoch)\n",
    "        end = time.time()\n",
    "        print(\"Training time: {}\".format(end-start))\n",
    "\n",
    "        # ------------------------------------ evaluation ---------------------------------------------- #\n",
    "        yhat = model_evaluation( model, test_X , device)\n",
    "        errors[target][threshold]['RMSE'] = sqrt(mean_squared_error(yhat,test_y))\n",
    "        errors[target][threshold]['MAE'] = mean_absolute_error(yhat,test_y)\n",
    "        errors[target][threshold]['R2'] = r2_score(test_y, yhat)\n",
    "        errors[target][threshold]['history'] = history\n",
    "        errors[target][threshold]['df'] = pd.DataFrame({\"Real\":test_y,\"Predicted\":yhat})\n",
    "        errors[target][threshold]['train_time'] = end-start\n",
    "        print(f\"RMSE: {errors[target][threshold]['RMSE']}, MAE: {errors[target][threshold]['MAE']}, R2: {errors[target][threshold]['R2']}\")\n",
    "\n",
    "\n",
    "# save errors in save path as pickle file\n",
    "with open(results_save_path, 'wb') as handle:\n",
    "    pickle.dump(errors, handle)"
   ]
  },
  {
   "cell_type": "code",
   "execution_count": null,
   "metadata": {},
   "outputs": [],
   "source": []
  },
  {
   "cell_type": "code",
   "execution_count": null,
   "metadata": {},
   "outputs": [],
   "source": []
  },
  {
   "attachments": {},
   "cell_type": "markdown",
   "metadata": {},
   "source": [
    "# -------------------------- PREVIOUS LOF MODEL ---------------------------- "
   ]
  },
  {
   "cell_type": "code",
   "execution_count": 213,
   "metadata": {},
   "outputs": [],
   "source": [
    "# results save path\n",
    "outlier_model_name = 'LOF'\n",
    "data_name = 'hauge'\n",
    "base_result_path = f'../results/{data_name}/LSTM'\n",
    "exp_name = f'univariate_{outlier_model_name}_outlier_weighted.pkl'\n",
    "results_save_path = os.path.join(base_result_path, exp_name)"
   ]
  },
  {
   "cell_type": "code",
   "execution_count": 214,
   "metadata": {},
   "outputs": [],
   "source": [
    "with open(f'../data/{data_name}/processed/featured_fpds_raw.pickle', 'rb') as f:\n",
    "    results = pickle.load(f)\n",
    "\n",
    "# with open(f'drive/MyDrive/OWRI/data/{data_name}/processed/featured_fpds_raw.pickle', 'rb') as f:\n",
    "#     results = pickle.load(f)  # for google colab"
   ]
  },
  {
   "cell_type": "code",
   "execution_count": 215,
   "metadata": {},
   "outputs": [],
   "source": [
    "# load data of correlated results from pickle file\n",
    "with open(f'../results/{data_name}/outlier_scores/{outlier_model_name}/correlated_results.pickle', 'rb') as f:\n",
    "    correlated_results = pickle.load(f)\n",
    "\n",
    "# with open(f'drive/MyDrive/OWRI/results/{data_name}/outlier_scores/{outlier_model_name}/correlated_results.pickle', 'rb') as f:\n",
    "#     correlated_results = pickle.load(f)   # for google colab"
   ]
  },
  {
   "cell_type": "code",
   "execution_count": 216,
   "metadata": {},
   "outputs": [],
   "source": [
    "thresholds = [0,0.05,0.1,0.25,0.5, 1] # thresholds for the percentage of correlated columns to keep\n",
    "# get target intersections for each trajectory and direction\n",
    "target_intersections={\"T1\":{\"North\":\"K504\", \"South\":\"K561\"},\n",
    "                      \"T2\":{\"North\":\"K703\", \"South\":\"K206\"}}\n",
    "# declare variables\n",
    "epoch = 100\n",
    "batch_size = 64\n",
    "learning_rate = 0.1\n",
    "hidden_size = 32\n",
    "num_layers = 1\n",
    "dropout = 0.2\n",
    "sequence_length = 12\n",
    "output_pred = 1 # number of time steps to predict\n",
    "train_portion = 0.8 # percentage of data to use for training\n",
    "device = 'mps' if torch.backends.mps.is_available() else 'cpu'\n",
    "# device = 'cuda' if torch.cuda.is_available() else 'cpu' # for google colab\n"
   ]
  },
  {
   "cell_type": "code",
   "execution_count": 217,
   "metadata": {},
   "outputs": [
    {
     "name": "stdout",
     "output_type": "stream",
     "text": [
      "\n",
      " \n",
      " Starting trajectory: T1\n",
      "Starting direction: North\n",
      "Starting threshold: 0\n",
      "Training time: 2041.0620119571686\n",
      "RMSE: 10.450731490966987, MAE: 7.246530055999756, R2: 0.8660496032517396\n",
      "Starting threshold: 0.05\n"
     ]
    }
   ],
   "source": [
    "errors={}\n",
    "dfs={}\n",
    "intersection_arrays = []\n",
    "for trajectory in results.keys():\n",
    "    errors[trajectory]={}\n",
    "    print(\"\\n \\n Starting trajectory: {}\".format(trajectory))\n",
    "    for direction in results[trajectory]:\n",
    "        # key = trajectory+\"_\"+direction\n",
    "        target = target_intersections[trajectory][direction]\n",
    "        errors[trajectory][direction]={}\n",
    "        print(\"Starting direction: {}\".format(direction))\n",
    "        for threshold in thresholds:\n",
    "            errors[trajectory][direction][threshold]={}\n",
    "            print(\"Starting threshold: {}\".format(threshold))\n",
    "            # ------------------------------------ data processing ---------------------------------------- #\n",
    "            data = merge_trejectory_data(results, trajectory, direction)# get raw data of the current trajectory and direction\n",
    "            ae_score = correlated_results[trajectory][direction] # AE scores of the current trajectory and direction\n",
    "            number_of_cols = math.ceil(len(ae_score.columns)*threshold) # number of outlier weighted intersections\n",
    "            if number_of_cols==0: # if threshold is 0, then use the target intersection only\n",
    "                number_of_cols=1\n",
    "            top_corr_df = ae_score.corr()[target].sort_values(ascending=False)[:number_of_cols] # get the top correlated intersections\n",
    "            isct_inc = top_corr_df.index.tolist()\n",
    "            df = data[isct_inc].copy(deep=True)\n",
    "            df = df[ [target] + [ col for col in df.columns if col != target ] ]  #move target var to front of DF\n",
    "            # df = df.mul(top_corr_df, axis=1)\n",
    "            df = df.astype('float32')\n",
    "            n_features = len(isct_inc) # number of features (correlated intersections)\n",
    "            n_obs = sequence_length * n_features # number of columns in the input\n",
    "            reframed = series_to_supervised(df, sequence_length, output_pred)\n",
    "            train_X, train_y, test_X, test_y, scl = preprocess_df(reframed, n_obs, n_features, sequence_length)\n",
    "\n",
    "#             # # ------------------------------------ modelling ---------------------------------------------- #\n",
    "            # define model, loss function and optimizer\n",
    "            model = LSTM_uni(input_dim = n_features, hidden_dim = hidden_size, output_dim = output_pred, layer_dim = num_layers, dropout_prob= dropout, device = device)\n",
    "            model = model.to(device)\n",
    "            loss_fn = torch.nn.MSELoss()\n",
    "            optimiser = torch.optim.Adam(model.parameters(), lr=0.01)\n",
    "            start = time.time()\n",
    "            history = train_model(model, train_X,train_y, loss_fn, optimiser, device, batch_size, epochs=epoch)\n",
    "            end = time.time()\n",
    "            print(\"Training time: {}\".format(end-start))\n",
    "\n",
    "\n",
    "            # ------------------------------------ evaluation ---------------------------------------------- #\n",
    "            yhat = model_evaluation( model, test_X , device)\n",
    "            errors[trajectory][direction][threshold]['RMSE'] = sqrt(mean_squared_error(yhat,test_y))\n",
    "            errors[trajectory][direction][threshold]['MAE'] = mean_absolute_error(yhat,test_y)\n",
    "            errors[trajectory][direction][threshold]['R2'] = r2_score(test_y, yhat)\n",
    "            errors[trajectory][direction][threshold]['history'] = history\n",
    "            errors[trajectory][direction][threshold]['df'] = pd.DataFrame({\"Real\":test_y,\"Predicted\":yhat})\n",
    "            errors[trajectory][direction][threshold]['train_time'] = end-start\n",
    "            print(f\"RMSE: {errors[trajectory][direction][threshold]['RMSE']}, MAE: {errors[trajectory][direction][threshold]['MAE']}, R2: {errors[trajectory][direction][threshold]['R2']}\")\n",
    "\n",
    "\n",
    "# save errors in save path as pickle file\n",
    "with open(results_save_path, 'wb') as handle:\n",
    "    pickle.dump(errors, handle)"
   ]
  },
  {
   "cell_type": "code",
   "execution_count": null,
   "metadata": {},
   "outputs": [
    {
     "data": {
      "text/plain": [
       "array([84.686295 , 81.41526  , 82.89845  , ...,  1.3487635,  1.3487635,\n",
       "        1.3487635], dtype=float32)"
      ]
     },
     "execution_count": 212,
     "metadata": {},
     "output_type": "execute_result"
    }
   ],
   "source": []
  },
  {
   "cell_type": "code",
   "execution_count": null,
   "metadata": {},
   "outputs": [],
   "source": []
  }
 ],
 "metadata": {
  "kernelspec": {
   "display_name": "OWRI",
   "language": "python",
   "name": "python3"
  },
  "language_info": {
   "codemirror_mode": {
    "name": "ipython",
    "version": 3
   },
   "file_extension": ".py",
   "mimetype": "text/x-python",
   "name": "python",
   "nbconvert_exporter": "python",
   "pygments_lexer": "ipython3",
   "version": "3.10.10"
  },
  "orig_nbformat": 4
 },
 "nbformat": 4,
 "nbformat_minor": 2
}
