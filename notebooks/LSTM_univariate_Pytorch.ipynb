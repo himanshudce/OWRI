{
 "cells": [
  {
   "cell_type": "code",
   "execution_count": 114,
   "metadata": {},
   "outputs": [],
   "source": [
    "import keras\n",
    "import math\n",
    "import pandas as pd\n",
    "import numpy as np\n",
    "from keras.callbacks import EarlyStopping\n",
    "from sklearn.model_selection import train_test_split\n",
    "from sklearn.model_selection import GridSearchCV\n",
    "from sklearn.preprocessing import StandardScaler\n",
    "from sklearn.metrics import roc_auc_score\n",
    "import matplotlib.pyplot as plt\n",
    "from sklearn.metrics import mean_squared_error, mean_absolute_error\n",
    "import time\n",
    "from torch.utils.data import Dataset, DataLoader\n",
    "import pickle\n",
    "pd.set_option('display.max_rows', 500)\n",
    "import os\n",
    "import tensorflow as tf\n",
    "import torch\n",
    "import torch.nn as nn\n",
    "from math import sqrt\n",
    "# import rmse from sklearn\n",
    "from sklearn.metrics import mean_squared_error\n",
    "\n",
    "\n",
    "# define random seeds for Neural Networks\n",
    "torch.manual_seed(0)\n",
    "np.random.seed(0)\n",
    "tf.random.set_seed(0)\n",
    "# ignore warnings jupyter notebook\n",
    "import warnings\n",
    "warnings.filterwarnings('ignore')"
   ]
  },
  {
   "attachments": {},
   "cell_type": "markdown",
   "metadata": {},
   "source": [
    "# OWRI FRAMEWORK"
   ]
  },
  {
   "cell_type": "code",
   "execution_count": 230,
   "metadata": {},
   "outputs": [],
   "source": [
    "# results save path\n",
    "base_result_path = '../results/hauge/LSTM'\n",
    "exp_name = 'univariate_AE_real_time_results.pkl'\n",
    "results_save_path = os.path.join(base_result_path, exp_name)"
   ]
  },
  {
   "cell_type": "code",
   "execution_count": 231,
   "metadata": {},
   "outputs": [],
   "source": [
    "with open('../data/hauge/processed/featured_fpds_raw.pickle', 'rb') as f:\n",
    "    results = pickle.load(f)"
   ]
  },
  {
   "cell_type": "code",
   "execution_count": 232,
   "metadata": {},
   "outputs": [],
   "source": [
    "# load data of correlated results from pickle file\n",
    "with open('../results/hauge/outlier_scores/AE/correlated_results.pickle', 'rb') as f:\n",
    "    correlated_results = pickle.load(f)"
   ]
  },
  {
   "cell_type": "code",
   "execution_count": 233,
   "metadata": {},
   "outputs": [],
   "source": [
    "# get target intersections for each trajectory and direction\n",
    "target_intersections={\"T1\":{\"North\":\"K504\", \"South\":\"K561\"},\n",
    "                      \"T2\":{\"North\":\"K703\", \"South\":\"K206\"}}"
   ]
  },
  {
   "cell_type": "code",
   "execution_count": 234,
   "metadata": {},
   "outputs": [],
   "source": [
    "thresholds = [0,0.25,0.5,0.75,1]"
   ]
  },
  {
   "cell_type": "code",
   "execution_count": 235,
   "metadata": {},
   "outputs": [],
   "source": [
    "def merge_trejectory_data(results, trajectory, direction):\n",
    "    data = pd.DataFrame()\n",
    "    for intersection_name in results[trajectory][direction]['raw']:\n",
    "        intersection = results[trajectory][direction]['raw'][intersection_name]\n",
    "        intersection = intersection.rename(columns={\"cars\": intersection_name})\n",
    "        intersection = intersection.set_index(pd.DatetimeIndex(intersection['timestamp']))\n",
    "        intersection = intersection.drop(columns=['timestamp'])\n",
    "        data = pd.merge(data, intersection, left_index=True, right_index=True, how='outer')\n",
    "    data.dropna(inplace=True)\n",
    "    return data"
   ]
  },
  {
   "cell_type": "code",
   "execution_count": 236,
   "metadata": {},
   "outputs": [],
   "source": [
    "def preprocess_df(df,n_obs, n_features, sequence_length):\n",
    "    #do scaling:\n",
    "    scaler = StandardScaler()\n",
    "    train_portion = 0.8\n",
    "    test_portion = 0.2\n",
    "    df_train = df[:math.ceil(len(df)*train_portion)].values\n",
    "    df_test = df[math.ceil(len(df)*(train_portion)):].values\n",
    "    train_X, train_y = df_train[:, :n_obs], df_train[:, -n_features]\n",
    "    test_X, test_y = df_test[:, :n_obs], df_test[:, -n_features]\n",
    "    scl = scaler.fit(train_X) # fit only on training data\n",
    "    train_X = scl.transform(train_X)\n",
    "    test_X = scl.transform(test_X)\n",
    "    train_X = train_X.reshape((train_X.shape[0], sequence_length, n_features))\n",
    "    test_X = test_X.reshape((test_X.shape[0], sequence_length, n_features))\n",
    "    return train_X, train_y, test_X, test_y, scl"
   ]
  },
  {
   "cell_type": "code",
   "execution_count": 242,
   "metadata": {},
   "outputs": [],
   "source": [
    "def series_to_supervised(data, n_in=1, n_out=1, dropnan=True):\n",
    "\tn_vars = 1 if type(data) is list else data.shape[1]\n",
    "\tdf = pd.DataFrame(data)\n",
    "\tcols, names = list(), list()\n",
    "\t# input sequence (t-n, ... t-1)\n",
    "\tfor i in range(n_in, 0, -1):\n",
    "\t\tcols.append(df.shift(i))\n",
    "\t\tnames += [('var%d(t-%d)' % (j+1, i)) for j in range(n_vars)]\n",
    "\t# forecast sequence (t, t+1, ... t+n)\n",
    "\tfor i in range(0, n_out):\n",
    "\t\tcols.append(df.shift(-i))\n",
    "\t\tif i == 0:\n",
    "\t\t\tnames += [('var%d(t)' % (j+1)) for j in range(n_vars)]\n",
    "\t\telse:\n",
    "\t\t\tnames += [('var%d(t+%d)' % (j+1, i)) for j in range(n_vars)]\n",
    "\t# put it all together\n",
    "\tagg = pd.concat(cols, axis=1)\n",
    "\tagg.columns = names\n",
    "\t# drop rows with NaN values\n",
    "\tif dropnan:\n",
    "\t\tagg.dropna(inplace=True)\n",
    "\treturn agg"
   ]
  },
  {
   "cell_type": "code",
   "execution_count": 243,
   "metadata": {},
   "outputs": [],
   "source": [
    "class LSTM_uni(nn.Module):\n",
    "    def __init__(self, input_dim, hidden_dim, output_dim, device = 'mps',layer_dim=1, dropout_prob = 0.2):\n",
    "        super(LSTM_uni, self).__init__()\n",
    "        self.hidden_dim = hidden_dim # number of hidden units in hidden state\n",
    "        self.layer_dim = layer_dim # number of stacked lstm layers\n",
    "        # batch_first=True causes input/output tensors to be of shape\n",
    "        # (batch_dim, seq_dim, feature_dim)\n",
    "        self.lstm = nn.LSTM(input_dim, hidden_dim, layer_dim, batch_first=True, dropout=dropout_prob)\n",
    "        self.fc = nn.Linear(hidden_dim, output_dim) # fully connected layer\n",
    "\n",
    "    def forward(self, x, future=False):\n",
    "        # input x is expected to be of shape (batch_dim, seq_dim, feature_dim)\n",
    "        # hidden and cell states are expected along with input x in LSTMs = (h_0, c_0)\n",
    "        # Initialize hidden state with zeros (layer_dim, batch_size, hidden_dim)\n",
    "        h0 = torch.zeros(self.layer_dim, x.size(0), self.hidden_dim, device=device).requires_grad_()\n",
    "        c0 = torch.zeros(self.layer_dim, x.size(0), self.hidden_dim, device=device).requires_grad_()\n",
    "\n",
    "        # LSTM output is Outputs: output, (h_n, c_n)\n",
    "        # output is of shape (batch_dim, seq_dim, hidden_dim), h_n and c_n are of shape (layer_dim, batch_dim, hidden_dim)\n",
    "        out, (hn, cn) = self.lstm(x, (h0.detach(), c0.detach()))\n",
    "        out = out[:, -1, :] # only take the last output of the sequence\n",
    "        out = self.fc(out) # fully connected layer\n",
    "\n",
    "        return out"
   ]
  },
  {
   "cell_type": "code",
   "execution_count": 244,
   "metadata": {},
   "outputs": [],
   "source": [
    "def train_model(model, train_X,train_y, loss_fn, optimiser, device, epochs=100):\n",
    "    history = {}\n",
    "    history['train_loss'] = []\n",
    "\n",
    "    train_X_loader = DataLoader(train_X, batch_size=64, shuffle=False)\n",
    "    train_y_loader = DataLoader(train_y, batch_size=64, shuffle=False)\n",
    "\n",
    "    for epoch in range(epochs):\n",
    "        history[epoch] = []\n",
    "        ep_start = time.time()\n",
    "        running_loss = 0.0\n",
    "        for bx, data in enumerate(zip(train_X_loader,train_y_loader)):\n",
    "            X = data[0].to(device)\n",
    "            y = data[1].to(device)\n",
    "            bt = model(X)\n",
    "            loss = loss_fn(bt.reshape(-1), y.reshape(-1)) # calculate loss for input and recreated output\n",
    "            history[epoch].append(loss.item())\n",
    "            optimiser.zero_grad()\n",
    "            loss.backward()\n",
    "            optimiser.step()\n",
    "            running_loss += loss.item()\n",
    "        epoch_loss = running_loss/train_X.shape[0]\n",
    "        history['train_loss'].append(epoch_loss)\n",
    "    "
   ]
  },
  {
   "cell_type": "code",
   "execution_count": 245,
   "metadata": {},
   "outputs": [],
   "source": [
    "def model_evaluation( model, test_X, device):\n",
    "    test_X_loader = DataLoader(test_X, batch_size=64, shuffle=False)\n",
    "    model = model.eval()\n",
    "    preds = []\n",
    "    with torch.no_grad():\n",
    "        for bx, data in enumerate(test_X_loader):\n",
    "            X = data.to(device)\n",
    "            bt = model(X)\n",
    "            preds.append(bt.cpu().numpy())\n",
    "    preds = np.vstack(preds)\n",
    "    preds = preds.reshape(-1)\n",
    "    return preds"
   ]
  },
  {
   "cell_type": "code",
   "execution_count": 246,
   "metadata": {},
   "outputs": [
    {
     "name": "stdout",
     "output_type": "stream",
     "text": [
      "\n",
      " \n",
      " Starting trajectory: T1\n",
      "Starting direction: North\n",
      "Starting threshold: 0\n",
      "Training time: 1102.97265791893\n",
      "Starting threshold: 0.25\n",
      "Training time: 2710.679126024246\n",
      "Starting threshold: 0.5\n",
      "Training time: 1065.304591178894\n",
      "Starting threshold: 0.75\n",
      "Training time: 10699.2421438694\n",
      "Starting threshold: 1\n",
      "Training time: 1081.2799367904663\n",
      "Starting direction: South\n",
      "Starting threshold: 0\n",
      "Training time: 8442.917735815048\n",
      "Starting threshold: 0.25\n",
      "Training time: 1052.9938189983368\n",
      "Starting threshold: 0.5\n",
      "Training time: 1058.919678926468\n",
      "Starting threshold: 0.75\n",
      "Training time: 4353.747722864151\n",
      "Starting threshold: 1\n",
      "Training time: 6885.659650087357\n",
      "\n",
      " \n",
      " Starting trajectory: T2\n",
      "Starting direction: South\n",
      "Starting threshold: 0\n",
      "Training time: 810.9871940612793\n",
      "Starting threshold: 0.25\n",
      "Training time: 825.5231857299805\n",
      "Starting threshold: 0.5\n",
      "Training time: 820.1537919044495\n",
      "Starting threshold: 0.75\n",
      "Training time: 804.725732088089\n",
      "Starting threshold: 1\n",
      "Training time: 1917.9892659187317\n",
      "Starting direction: North\n",
      "Starting threshold: 0\n",
      "Training time: 16957.24987077713\n",
      "Starting threshold: 0.25\n",
      "Training time: 807.604926109314\n",
      "Starting threshold: 0.5\n",
      "Training time: 825.6948599815369\n",
      "Starting threshold: 0.75\n",
      "Training time: 809.3755979537964\n",
      "Starting threshold: 1\n",
      "Training time: 1157.3650238513947\n"
     ]
    }
   ],
   "source": [
    "errors={}\n",
    "dfs={}\n",
    "intersection_arrays = []\n",
    "for trajectory in results.keys():\n",
    "    errors[trajectory]={}\n",
    "    print(\"\\n \\n Starting trajectory: {}\".format(trajectory))\n",
    "    for direction in results[trajectory]:\n",
    "        target = target_intersections[trajectory][direction]\n",
    "        errors[trajectory][direction]={}\n",
    "        print(\"Starting direction: {}\".format(direction))\n",
    "        for threshold in thresholds:\n",
    "            errors[trajectory][direction][threshold]={}\n",
    "            print(\"Starting threshold: {}\".format(threshold))\n",
    "            # ------------------------------------ data processing ---------------------------------------- #\n",
    "            data = merge_trejectory_data(results, trajectory, direction)# get raw data of the current trajectory and direction\n",
    "            ae_score = correlated_results[trajectory][direction] # AE scores of the current trajectory and direction\n",
    "            number_of_cols = math.ceil(len(ae_score.columns)*threshold) # number of outlier weighted intersections\n",
    "            if number_of_cols==0: # if threshold is 0, then use the target intersection only\n",
    "                number_of_cols=1\n",
    "            top_corr_df = ae_score.corr()[target].sort_values(ascending=False)[:number_of_cols] # get the top correlated intersections\n",
    "            isct_inc = top_corr_df.index.tolist()\n",
    "            df = data[isct_inc].copy(deep=True)\n",
    "            df = df[ [target] + [ col for col in df.columns if col != target ] ]  #move target var to front of DF\n",
    "            df = df.mul(top_corr_df, axis=1)\n",
    "            df = df.astype('float32')\n",
    "            sequence_length = 12 # number of time steps to look back\n",
    "            n_features = len(isct_inc) # number of features (correlated intersections)\n",
    "            output_pred = 1 # number of time steps to predict\n",
    "            n_obs = sequence_length * n_features # number of columns in the input\n",
    "            reframed = series_to_supervised(df, sequence_length, output_pred)\n",
    "            train_X, train_y, test_X, test_y, scl = preprocess_df(reframed, n_obs, n_features, sequence_length)\n",
    "            device = 'mps' if torch.backends.mps.is_available() else 'cpu'\n",
    "\n",
    "#             # # ------------------------------------ modelling ---------------------------------------------- #\n",
    "            # define model, loss function and optimizer\n",
    "            model = LSTM_uni(input_dim = n_features, hidden_dim = 32, layer_dim = 1, output_dim = 1, dropout_prob= 0.2)\n",
    "            model = model.to(device)\n",
    "            loss_fn = torch.nn.MSELoss()\n",
    "            optimiser = torch.optim.Adam(model.parameters(), lr=0.01)\n",
    "            start = time.time()\n",
    "            history = train_model(model, train_X,train_y, loss_fn, optimiser, device, epochs=100)\n",
    "            end = time.time()\n",
    "            print(\"Training time: {}\".format(end-start))\n",
    "\n",
    "\n",
    "            # ------------------------------------ evaluation ---------------------------------------------- #\n",
    "            yhat = model_evaluation( model, test_X , device)\n",
    "            errors[trajectory][direction][threshold]['RMSE'] = sqrt(mean_squared_error(yhat,test_y))\n",
    "            errors[trajectory][direction][threshold]['MAE'] = mean_absolute_error(yhat,test_y)\n",
    "            errors[trajectory][direction][threshold]['history'] = history\n",
    "            errors[trajectory][direction][threshold]['df'] = pd.DataFrame({\"Real\":test_y,\"Predicted\":yhat})\n",
    "            errors[trajectory][direction][threshold]['train_time'] = end-start\n",
    "\n",
    "\n",
    "# save errors in save path as pickle file\n",
    "with open(results_save_path, 'wb') as handle:\n",
    "    pickle.dump(errors, handle)"
   ]
  },
  {
   "cell_type": "code",
   "execution_count": 249,
   "metadata": {},
   "outputs": [],
   "source": [
    "AE_results={}\n",
    "for trajectory in errors.keys():\n",
    "    for direction in errors[trajectory].keys():\n",
    "        for threshold in errors[trajectory][direction].keys():\n",
    "            AE_results[trajectory+'_'+direction+'_'+str(threshold)] = errors[trajectory][direction][threshold]['RMSE']"
   ]
  },
  {
   "cell_type": "code",
   "execution_count": 250,
   "metadata": {},
   "outputs": [
    {
     "data": {
      "text/plain": [
       "{'T1_North_0': 10.415910332242516,\n",
       " 'T1_North_0.25': 9.995510619470389,\n",
       " 'T1_North_0.5': 9.812833938261788,\n",
       " 'T1_North_0.75': 9.832457250157352,\n",
       " 'T1_North_1': 9.775909038139249,\n",
       " 'T1_South_0': 18.325964446663935,\n",
       " 'T1_South_0.25': 17.623300456899116,\n",
       " 'T1_South_0.5': 17.001525810432796,\n",
       " 'T1_South_0.75': 16.935522435579472,\n",
       " 'T1_South_1': 16.698712071991697,\n",
       " 'T2_South_0': 15.415971949965055,\n",
       " 'T2_South_0.25': 14.555171841780158,\n",
       " 'T2_South_0.5': 14.608267839063346,\n",
       " 'T2_South_0.75': 14.727751941355264,\n",
       " 'T2_South_1': 14.539517452413042,\n",
       " 'T2_North_0': 15.372495369704996,\n",
       " 'T2_North_0.25': 15.104448969164991,\n",
       " 'T2_North_0.5': 14.985238504837852,\n",
       " 'T2_North_0.75': 14.975554828841588,\n",
       " 'T2_North_1': 15.060420102444333}"
      ]
     },
     "execution_count": 250,
     "metadata": {},
     "output_type": "execute_result"
    }
   ],
   "source": [
    "AE_results"
   ]
  },
  {
   "cell_type": "code",
   "execution_count": null,
   "metadata": {},
   "outputs": [],
   "source": []
  },
  {
   "cell_type": "code",
   "execution_count": null,
   "metadata": {},
   "outputs": [],
   "source": []
  },
  {
   "cell_type": "code",
   "execution_count": null,
   "metadata": {},
   "outputs": [],
   "source": []
  }
 ],
 "metadata": {
  "kernelspec": {
   "display_name": "OWRI",
   "language": "python",
   "name": "python3"
  },
  "language_info": {
   "codemirror_mode": {
    "name": "ipython",
    "version": 3
   },
   "file_extension": ".py",
   "mimetype": "text/x-python",
   "name": "python",
   "nbconvert_exporter": "python",
   "pygments_lexer": "ipython3",
   "version": "3.10.10"
  },
  "orig_nbformat": 4
 },
 "nbformat": 4,
 "nbformat_minor": 2
}
