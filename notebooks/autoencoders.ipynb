{
 "cells": [
  {
   "cell_type": "code",
   "execution_count": 1,
   "metadata": {},
   "outputs": [],
   "source": [
    "import torch.nn as nn\n",
    "import pandas as pd\n",
    "import json\n",
    "import os\n",
    "import numpy as np\n",
    "import pickle\n",
    "import json\n",
    "import scipy\n",
    "from torch.utils.data import Dataset, DataLoader\n",
    "import torch\n",
    "from collections import defaultdict\n",
    "import time\n",
    "import matplotlib.pyplot as plt\n",
    "import seaborn as sns\n",
    "from datetime import timedelta\n",
    "\n",
    "# define random seeds for Neural Networks\n",
    "torch.manual_seed(0)\n",
    "np.random.seed(0)\n",
    "\n",
    "# ignore warnings jupyter notebook\n",
    "import warnings\n",
    "warnings.filterwarnings('ignore')"
   ]
  },
  {
   "attachments": {},
   "cell_type": "markdown",
   "metadata": {},
   "source": [
    "# ========== FUNCTION =============="
   ]
  },
  {
   "cell_type": "code",
   "execution_count": 2,
   "metadata": {},
   "outputs": [],
   "source": [
    "# prepare input for AEs, \n",
    "# input is combined list of all intersections (vector -> [fpds + hourofday+ weekofday + intersectoion]) for each week and each hour sorted based on time\n",
    "# output is -> list of feature vector and time for all interctions combined --> [[fpds + hourofday+ weekofday + intersectoion], time]\n",
    "def prepare_input_for_AEs(featured_fpds):\n",
    "    combined_fpds_for_AEs = []\n",
    "    for intersection in featured_fpds.keys():\n",
    "        for i in range(7):\n",
    "            for j in range(24):\n",
    "                for l,m in zip(featured_fpds[intersection][i][j][0],featured_fpds[intersection][i][j][1]):\n",
    "                    combined_fpds_for_AEs.append([l.astype(np.float32),m, intersection])\n",
    "\n",
    "    combined_fpds_for_AEs = sorted(combined_fpds_for_AEs, key=lambda x:x[1])\n",
    "    return np.array(combined_fpds_for_AEs)"
   ]
  },
  {
   "cell_type": "code",
   "execution_count": 3,
   "metadata": {},
   "outputs": [],
   "source": [
    "# function to load data from pickle file\n",
    "def load_pickle(filename):\n",
    "    with open(filename, 'rb') as f:\n",
    "        data = pickle.load(f)\n",
    "    return data"
   ]
  },
  {
   "cell_type": "code",
   "execution_count": 4,
   "metadata": {},
   "outputs": [],
   "source": [
    "def my_collate(batch):\n",
    "    # Transpose the batch to get a list of samples\n",
    "    transposed = zip(*batch)\n",
    "    \n",
    "    # Convert each sample to a tensor\n",
    "    tensor_list = [torch.tensor(samples) for samples in transposed]\n",
    "    \n",
    "    # Return the list of tensors\n",
    "    return tensor_list"
   ]
  },
  {
   "cell_type": "code",
   "execution_count": 5,
   "metadata": {},
   "outputs": [],
   "source": [
    "class AutoEncoderDataset(Dataset):\n",
    "    def __init__(self, data):\n",
    "        self.data = data[:,0]\n",
    "        self.timestamp = data[:,1]\n",
    "        self.intersection = data[:,2]\n",
    "        self.dim = self.data[0].shape[0]\n",
    "    def __len__(self):\n",
    "        return len(self.data)\n",
    "    def __getitem__(self, idx):\n",
    "        # get integer\n",
    "        my_int = self.data[idx]\n",
    "        \n",
    "        # get numpy datetime64 timestamp\n",
    "        my_timestamp = str(self.timestamp[idx])\n",
    "        \n",
    "        # get string type\n",
    "        my_str = str(self.intersection[idx])\n",
    "        \n",
    "        # return as list\n",
    "        return [my_int, my_timestamp, my_str]"
   ]
  },
  {
   "cell_type": "code",
   "execution_count": 6,
   "metadata": {},
   "outputs": [],
   "source": [
    "class AE(nn.Module):\n",
    "    def __init__(self, input_shape):\n",
    "        super(AE, self).__init__()\n",
    "        self.enc = nn.Sequential(\n",
    "            nn.Linear(input_shape, 512),\n",
    "            nn.ReLU(),\n",
    "            nn.Linear(512, 256),\n",
    "            nn.ReLU(),\n",
    "            nn.Linear(256, 128),\n",
    "            nn.ReLU(),\n",
    "            nn.Linear(128, 64),\n",
    "            nn.ReLU(),\n",
    "            nn.Linear(64, 32),\n",
    "            nn.ReLU(),\n",
    "            nn.Linear(32, 16),\n",
    "            nn.ReLU()\n",
    "        )\n",
    "        self.dec = nn.Sequential(\n",
    "            nn.Linear(16, 32),\n",
    "            nn.ReLU(),\n",
    "            nn.Linear(32, 64),\n",
    "            nn.ReLU(),\n",
    "            nn.Linear(64, 128),\n",
    "            nn.ReLU(),\n",
    "            nn.Linear(128, 256),\n",
    "            nn.ReLU(),\n",
    "            nn.Linear(256, 512),\n",
    "            nn.ReLU(),\n",
    "            nn.Linear(512, input_shape),\n",
    "            nn.ReLU()\n",
    "        )\n",
    "    def forward(self, x):\n",
    "        encode = self.enc(x)\n",
    "        decode = self.dec(encode)\n",
    "        return decode"
   ]
  },
  {
   "attachments": {},
   "cell_type": "markdown",
   "metadata": {},
   "source": [
    "# =========== MAIN ==========="
   ]
  },
  {
   "cell_type": "code",
   "execution_count": 7,
   "metadata": {},
   "outputs": [],
   "source": [
    "# load data from pickle file\n",
    "direction = \"North\"\n",
    "trajectory = \"T1\"\n",
    "load_fpds_path = f\"../data/hauge/processed/featured_fpds_{direction}_{trajectory}.pickle\"\n",
    "featured_fpds = load_pickle(load_fpds_path)"
   ]
  },
  {
   "cell_type": "code",
   "execution_count": 8,
   "metadata": {},
   "outputs": [],
   "source": [
    "# prepare input for AEs\n",
    "combined_fpds_for_AEs = prepare_input_for_AEs(featured_fpds)"
   ]
  },
  {
   "cell_type": "code",
   "execution_count": 9,
   "metadata": {},
   "outputs": [
    {
     "data": {
      "text/plain": [
       "23"
      ]
     },
     "execution_count": 9,
     "metadata": {},
     "output_type": "execute_result"
    }
   ],
   "source": [
    "AE_dataset = AutoEncoderDataset(combined_fpds_for_AEs)  # create dataset object\n",
    "AE_dataset.dim # feature vector dimension"
   ]
  },
  {
   "cell_type": "code",
   "execution_count": 10,
   "metadata": {},
   "outputs": [],
   "source": [
    "train_dataloader = DataLoader(AE_dataset, batch_size=1, shuffle=False)\n",
    "# train_dataloader = DataLoader(AE_dataset, batch_size=1, shuffle=False, collate_fn=my_collate)"
   ]
  },
  {
   "cell_type": "code",
   "execution_count": 11,
   "metadata": {},
   "outputs": [
    {
     "name": "stdout",
     "output_type": "stream",
     "text": [
      "[tensor([[0.0617, 0.0062, 0.0185, 0.0432, 0.0309, 0.0741, 0.0617, 0.1173, 0.1667,\n",
      "         0.1543, 0.1667, 0.0988, 0.0417, 0.1429, 0.0000, 0.0000, 1.0000, 0.0000,\n",
      "         0.0000, 0.0000, 0.0000, 0.0000, 0.0000]]), ('2018-01-01 00:00:00',), ('K502',)]\n"
     ]
    }
   ],
   "source": [
    "# check if dataloader is working\n",
    "for i in train_dataloader:\n",
    "    print(i)\n",
    "    break"
   ]
  },
  {
   "cell_type": "code",
   "execution_count": 12,
   "metadata": {},
   "outputs": [],
   "source": [
    "# define model parameters\n",
    "lr = 1e-2         # learning rate\n",
    "w_d = 1e-5        # weight decay\n",
    "epochs = 1\n",
    "metrics = defaultdict(list)\n",
    "outlier_loss = []\n",
    "outlier_results = []\n",
    "device = 'mps' if torch.backends.mps.is_available() else 'cpu'\n"
   ]
  },
  {
   "cell_type": "code",
   "execution_count": 13,
   "metadata": {},
   "outputs": [],
   "source": [
    "model = AE(AE_dataset.dim)\n",
    "model.to(device)\n",
    "criterion = nn.MSELoss(reduction='mean')\n",
    "optimizer = torch.optim.SGD(model.parameters(), lr=lr, weight_decay=w_d)"
   ]
  },
  {
   "cell_type": "code",
   "execution_count": 14,
   "metadata": {},
   "outputs": [
    {
     "name": "stdout",
     "output_type": "stream",
     "text": [
      "[EPOCH] 1/1\t[BATCH] 1/162897\t[LOSS] 0.047332629561424255\n",
      "[EPOCH] 1/1\t[BATCH] 40725/162897\t[LOSS] 0.04966070758365209\n",
      "[EPOCH] 1/1\t[BATCH] 81449/162897\t[LOSS] 0.04953701589247149\n",
      "[EPOCH] 1/1\t[BATCH] 122173/162897\t[LOSS] 0.04939357157536129\n",
      "[EPOCH] 1/1\t[BATCH] 162897/162897\t[LOSS] 0.04934729686964897\n",
      "-----------------------------------------------\n",
      "[EPOCH] 1/1\n",
      "[LOSS] 0.04934729686964897\n",
      "Epoch Complete in 0:22:02.237209\n",
      "-----------------------------------------------\n",
      "[System Complete: 0:22:02.237386]\n"
     ]
    }
   ],
   "source": [
    "# train model\n",
    "start = time.time()\n",
    "for epoch in range(epochs):\n",
    "    ep_start = time.time()\n",
    "    running_loss = 0.0\n",
    "    for bx, data in enumerate(train_dataloader):\n",
    "        bt = data[0]\n",
    "        sensor_time = data[1]\n",
    "        intersection = data[2]     \n",
    "        sample = model(bt.to(device))\n",
    "        loss = criterion(bt.to(device), sample) # calculate loss for input and recreated output\n",
    "        outlier_loss.append(loss.item()) # append loss to list\n",
    "        outlier_results.append([loss.item(),sensor_time, intersection]) # append loss, time and intersection to list\n",
    "        optimizer.zero_grad()\n",
    "        loss.backward()\n",
    "        optimizer.step()\n",
    "        running_loss += loss.item()\n",
    "        # print average loss for every 25% batches\n",
    "        if bx % int(AE_dataset.__len__()/4) == 0:\n",
    "            print('[EPOCH] {}/{}\\t[BATCH] {}/{}\\t[LOSS] {}'.format(epoch+1,epochs,bx+1,AE_dataset.__len__(),running_loss/(bx+1)))\n",
    "    epoch_loss = running_loss/AE_dataset.__len__()\n",
    "    metrics['train_loss'].append(epoch_loss)\n",
    "    ep_end = time.time()\n",
    "    print('-----------------------------------------------')\n",
    "    print('[EPOCH] {}/{}\\n[LOSS] {}'.format(epoch+1,epochs,epoch_loss))\n",
    "    print('Epoch Complete in {}'.format(timedelta(seconds=ep_end-ep_start)))\n",
    "end = time.time()\n",
    "print('-----------------------------------------------')\n",
    "print('[System Complete: {}]'.format(timedelta(seconds=end-start)))"
   ]
  },
  {
   "cell_type": "code",
   "execution_count": 15,
   "metadata": {},
   "outputs": [
    {
     "data": {
      "text/plain": [
       "[<matplotlib.lines.Line2D at 0x28acb5090>]"
      ]
     },
     "execution_count": 15,
     "metadata": {},
     "output_type": "execute_result"
    },
    {
     "data": {
      "image/png": "[encoded data removed]",
      "text/plain": [
       "<Figure size 1000x500 with 1 Axes>"
      ]
     },
     "metadata": {},
     "output_type": "display_data"
    }
   ],
   "source": [
    "_, ax = plt.subplots(1,1,figsize=(10,5))\n",
    "ax.set_title('Loss')\n",
    "ax.plot(outlier_loss)"
   ]
  },
  {
   "cell_type": "code",
   "execution_count": 23,
   "metadata": {},
   "outputs": [
    {
     "data": {
      "text/plain": [
       "0.06490769505500793"
      ]
     },
     "execution_count": 23,
     "metadata": {},
     "output_type": "execute_result"
    }
   ],
   "source": [
    "# get the top 5% of the loss values\n",
    "top_5_percent = np.percentile(outlier_loss, 97)\n",
    "top_5_percent"
   ]
  },
  {
   "cell_type": "code",
   "execution_count": 24,
   "metadata": {},
   "outputs": [
    {
     "data": {
      "text/plain": [
       "<matplotlib.lines.Line2D at 0x282fa6770>"
      ]
     },
     "execution_count": 24,
     "metadata": {},
     "output_type": "execute_result"
    },
    {
     "data": {
      "image/png": "[encoded data removed]",
      "text/plain": [
       "<Figure size 1200x600 with 1 Axes>"
      ]
     },
     "metadata": {},
     "output_type": "display_data"
    }
   ],
   "source": [
    "lower_threshold = 0.0\n",
    "upper_threshold = top_5_percent\n",
    "plt.figure(figsize=(12,6))\n",
    "plt.title('Loss Distribution')\n",
    "sns.distplot(outlier_loss,bins=100,kde=True, color='blue')\n",
    "plt.axvline(upper_threshold, 0.0, 10, color='r')\n",
    "plt.axvline(lower_threshold, 0.0, 10, color='b')"
   ]
  },
  {
   "cell_type": "code",
   "execution_count": 25,
   "metadata": {},
   "outputs": [
    {
     "data": {
      "text/plain": [
       "<Axes: >"
      ]
     },
     "execution_count": 25,
     "metadata": {},
     "output_type": "execute_result"
    },
    {
     "data": {
      "image/png": "[encoded data removed]",
      "text/plain": [
       "<Figure size 640x480 with 1 Axes>"
      ]
     },
     "metadata": {},
     "output_type": "display_data"
    }
   ],
   "source": [
    "sns.boxenplot(outlier_loss)"
   ]
  },
  {
   "cell_type": "code",
   "execution_count": 78,
   "metadata": {},
   "outputs": [
    {
     "data": {
      "text/html": [
       "<div>\n",
       "<style scoped>\n",
       "    .dataframe tbody tr th:only-of-type {\n",
       "        vertical-align: middle;\n",
       "    }\n",
       "\n",
       "    .dataframe tbody tr th {\n",
       "        vertical-align: top;\n",
       "    }\n",
       "\n",
       "    .dataframe thead th {\n",
       "        text-align: right;\n",
       "    }\n",
       "</style>\n",
       "<table border=\"1\" class=\"dataframe\">\n",
       "  <thead>\n",
       "    <tr style=\"text-align: right;\">\n",
       "      <th></th>\n",
       "      <th>loss</th>\n",
       "      <th>timestamp</th>\n",
       "      <th>intersection</th>\n",
       "    </tr>\n",
       "  </thead>\n",
       "  <tbody>\n",
       "    <tr>\n",
       "      <th>0</th>\n",
       "      <td>0.047333</td>\n",
       "      <td>(2018-01-01 00:00:00,)</td>\n",
       "      <td>(K502,)</td>\n",
       "    </tr>\n",
       "    <tr>\n",
       "      <th>1</th>\n",
       "      <td>0.045658</td>\n",
       "      <td>(2018-01-01 01:00:00,)</td>\n",
       "      <td>(K502,)</td>\n",
       "    </tr>\n",
       "    <tr>\n",
       "      <th>2</th>\n",
       "      <td>0.048240</td>\n",
       "      <td>(2018-01-01 01:00:00,)</td>\n",
       "      <td>(K504,)</td>\n",
       "    </tr>\n",
       "    <tr>\n",
       "      <th>3</th>\n",
       "      <td>0.047685</td>\n",
       "      <td>(2018-01-01 01:00:00,)</td>\n",
       "      <td>(K503,)</td>\n",
       "    </tr>\n",
       "    <tr>\n",
       "      <th>4</th>\n",
       "      <td>0.047336</td>\n",
       "      <td>(2018-01-01 01:00:00,)</td>\n",
       "      <td>(K263,)</td>\n",
       "    </tr>\n",
       "  </tbody>\n",
       "</table>\n",
       "</div>"
      ],
      "text/plain": [
       "       loss               timestamp intersection\n",
       "0  0.047333  (2018-01-01 00:00:00,)      (K502,)\n",
       "1  0.045658  (2018-01-01 01:00:00,)      (K502,)\n",
       "2  0.048240  (2018-01-01 01:00:00,)      (K504,)\n",
       "3  0.047685  (2018-01-01 01:00:00,)      (K503,)\n",
       "4  0.047336  (2018-01-01 01:00:00,)      (K263,)"
      ]
     },
     "execution_count": 78,
     "metadata": {},
     "output_type": "execute_result"
    }
   ],
   "source": [
    "outlier_df = pd.DataFrame(outlier_results,columns=['loss','timestamp','intersection'])\n",
    "outlier_df.head()"
   ]
  },
  {
   "cell_type": "code",
   "execution_count": 79,
   "metadata": {},
   "outputs": [],
   "source": [
    "outlier_df['timestamp'] = outlier_df['timestamp'].apply(lambda x: x[0])\n",
    "outlier_df['intersection'] = outlier_df['intersection'].apply(lambda x: x[0])"
   ]
  },
  {
   "cell_type": "code",
   "execution_count": 85,
   "metadata": {},
   "outputs": [],
   "source": [
    "# create seperate columns for each intersection\n",
    "outlier_df_intersection = outlier_df.pivot(index='timestamp', columns='intersection', values='loss')"
   ]
  },
  {
   "cell_type": "code",
   "execution_count": 86,
   "metadata": {},
   "outputs": [
    {
     "data": {
      "image/png": "[encoded data removed]",
      "text/plain": [
       "<Figure size 640x480 with 2 Axes>"
      ]
     },
     "metadata": {},
     "output_type": "display_data"
    }
   ],
   "source": [
    "fig, ax = plt.subplots(facecolor='w')\n",
    "sns.heatmap(outlier_df_intersection.corr())\n",
    "plt.title(\"Correlations for T1 North\")\n",
    "plt.xlabel('Intersection')\n",
    "plt.ylabel('Intersection')\n",
    "plt.show()"
   ]
  },
  {
   "cell_type": "code",
   "execution_count": 89,
   "metadata": {},
   "outputs": [
    {
     "data": {
      "text/html": [
       "<div>\n",
       "<style scoped>\n",
       "    .dataframe tbody tr th:only-of-type {\n",
       "        vertical-align: middle;\n",
       "    }\n",
       "\n",
       "    .dataframe tbody tr th {\n",
       "        vertical-align: top;\n",
       "    }\n",
       "\n",
       "    .dataframe thead th {\n",
       "        text-align: right;\n",
       "    }\n",
       "</style>\n",
       "<table border=\"1\" class=\"dataframe\">\n",
       "  <thead>\n",
       "    <tr style=\"text-align: right;\">\n",
       "      <th>intersection</th>\n",
       "      <th>K198</th>\n",
       "      <th>K263</th>\n",
       "      <th>K502</th>\n",
       "      <th>K503</th>\n",
       "      <th>K504</th>\n",
       "      <th>K556</th>\n",
       "      <th>K557</th>\n",
       "      <th>K559</th>\n",
       "      <th>K561</th>\n",
       "    </tr>\n",
       "    <tr>\n",
       "      <th>intersection</th>\n",
       "      <th></th>\n",
       "      <th></th>\n",
       "      <th></th>\n",
       "      <th></th>\n",
       "      <th></th>\n",
       "      <th></th>\n",
       "      <th></th>\n",
       "      <th></th>\n",
       "      <th></th>\n",
       "    </tr>\n",
       "  </thead>\n",
       "  <tbody>\n",
       "    <tr>\n",
       "      <th>K198</th>\n",
       "      <td>1.000000</td>\n",
       "      <td>0.858969</td>\n",
       "      <td>0.855700</td>\n",
       "      <td>0.876821</td>\n",
       "      <td>0.941535</td>\n",
       "      <td>0.878711</td>\n",
       "      <td>0.885909</td>\n",
       "      <td>0.862261</td>\n",
       "      <td>0.873933</td>\n",
       "    </tr>\n",
       "    <tr>\n",
       "      <th>K263</th>\n",
       "      <td>0.858969</td>\n",
       "      <td>1.000000</td>\n",
       "      <td>0.979711</td>\n",
       "      <td>0.955008</td>\n",
       "      <td>0.957613</td>\n",
       "      <td>0.966272</td>\n",
       "      <td>0.965140</td>\n",
       "      <td>0.981208</td>\n",
       "      <td>0.971364</td>\n",
       "    </tr>\n",
       "    <tr>\n",
       "      <th>K502</th>\n",
       "      <td>0.855700</td>\n",
       "      <td>0.979711</td>\n",
       "      <td>1.000000</td>\n",
       "      <td>0.954824</td>\n",
       "      <td>0.964305</td>\n",
       "      <td>0.970087</td>\n",
       "      <td>0.967824</td>\n",
       "      <td>0.983142</td>\n",
       "      <td>0.972013</td>\n",
       "    </tr>\n",
       "    <tr>\n",
       "      <th>K503</th>\n",
       "      <td>0.876821</td>\n",
       "      <td>0.955008</td>\n",
       "      <td>0.954824</td>\n",
       "      <td>1.000000</td>\n",
       "      <td>0.940753</td>\n",
       "      <td>0.969787</td>\n",
       "      <td>0.968760</td>\n",
       "      <td>0.951527</td>\n",
       "      <td>0.955668</td>\n",
       "    </tr>\n",
       "    <tr>\n",
       "      <th>K504</th>\n",
       "      <td>0.941535</td>\n",
       "      <td>0.957613</td>\n",
       "      <td>0.964305</td>\n",
       "      <td>0.940753</td>\n",
       "      <td>1.000000</td>\n",
       "      <td>0.954502</td>\n",
       "      <td>0.956067</td>\n",
       "      <td>0.960595</td>\n",
       "      <td>0.955847</td>\n",
       "    </tr>\n",
       "    <tr>\n",
       "      <th>K556</th>\n",
       "      <td>0.878711</td>\n",
       "      <td>0.966272</td>\n",
       "      <td>0.970087</td>\n",
       "      <td>0.969787</td>\n",
       "      <td>0.954502</td>\n",
       "      <td>1.000000</td>\n",
       "      <td>0.993521</td>\n",
       "      <td>0.973729</td>\n",
       "      <td>0.976356</td>\n",
       "    </tr>\n",
       "    <tr>\n",
       "      <th>K557</th>\n",
       "      <td>0.885909</td>\n",
       "      <td>0.965140</td>\n",
       "      <td>0.967824</td>\n",
       "      <td>0.968760</td>\n",
       "      <td>0.956067</td>\n",
       "      <td>0.993521</td>\n",
       "      <td>1.000000</td>\n",
       "      <td>0.973787</td>\n",
       "      <td>0.975118</td>\n",
       "    </tr>\n",
       "    <tr>\n",
       "      <th>K559</th>\n",
       "      <td>0.862261</td>\n",
       "      <td>0.981208</td>\n",
       "      <td>0.983142</td>\n",
       "      <td>0.951527</td>\n",
       "      <td>0.960595</td>\n",
       "      <td>0.973729</td>\n",
       "      <td>0.973787</td>\n",
       "      <td>1.000000</td>\n",
       "      <td>0.982927</td>\n",
       "    </tr>\n",
       "    <tr>\n",
       "      <th>K561</th>\n",
       "      <td>0.873933</td>\n",
       "      <td>0.971364</td>\n",
       "      <td>0.972013</td>\n",
       "      <td>0.955668</td>\n",
       "      <td>0.955847</td>\n",
       "      <td>0.976356</td>\n",
       "      <td>0.975118</td>\n",
       "      <td>0.982927</td>\n",
       "      <td>1.000000</td>\n",
       "    </tr>\n",
       "  </tbody>\n",
       "</table>\n",
       "</div>"
      ],
      "text/plain": [
       "intersection      K198      K263      K502      K503      K504      K556  \\\n",
       "intersection                                                               \n",
       "K198          1.000000  0.858969  0.855700  0.876821  0.941535  0.878711   \n",
       "K263          0.858969  1.000000  0.979711  0.955008  0.957613  0.966272   \n",
       "K502          0.855700  0.979711  1.000000  0.954824  0.964305  0.970087   \n",
       "K503          0.876821  0.955008  0.954824  1.000000  0.940753  0.969787   \n",
       "K504          0.941535  0.957613  0.964305  0.940753  1.000000  0.954502   \n",
       "K556          0.878711  0.966272  0.970087  0.969787  0.954502  1.000000   \n",
       "K557          0.885909  0.965140  0.967824  0.968760  0.956067  0.993521   \n",
       "K559          0.862261  0.981208  0.983142  0.951527  0.960595  0.973729   \n",
       "K561          0.873933  0.971364  0.972013  0.955668  0.955847  0.976356   \n",
       "\n",
       "intersection      K557      K559      K561  \n",
       "intersection                                \n",
       "K198          0.885909  0.862261  0.873933  \n",
       "K263          0.965140  0.981208  0.971364  \n",
       "K502          0.967824  0.983142  0.972013  \n",
       "K503          0.968760  0.951527  0.955668  \n",
       "K504          0.956067  0.960595  0.955847  \n",
       "K556          0.993521  0.973729  0.976356  \n",
       "K557          1.000000  0.973787  0.975118  \n",
       "K559          0.973787  1.000000  0.982927  \n",
       "K561          0.975118  0.982927  1.000000  "
      ]
     },
     "execution_count": 89,
     "metadata": {},
     "output_type": "execute_result"
    }
   ],
   "source": [
    "corr_df = outlier_df_intersection.corr()\n",
    "corr_df"
   ]
  },
  {
   "attachments": {},
   "cell_type": "markdown",
   "metadata": {},
   "source": [
    "### Comments over correlated intersections\n",
    "- Except K198 all intersections are highly correlated\n",
    "- hard to get the intution as the feature vector is - **[fpds + hourofday+ weekofday + intersectoion]**"
   ]
  },
  {
   "cell_type": "code",
   "execution_count": 91,
   "metadata": {},
   "outputs": [
    {
     "data": {
      "text/plain": [
       "intersection\n",
       "K198    Index(['K504', 'K557', 'K556'], dtype='object'...\n",
       "K263    Index(['K559', 'K502', 'K561'], dtype='object'...\n",
       "K502    Index(['K559', 'K263', 'K561'], dtype='object'...\n",
       "K503    Index(['K556', 'K557', 'K561'], dtype='object'...\n",
       "K504    Index(['K502', 'K559', 'K263'], dtype='object'...\n",
       "K556    Index(['K557', 'K561', 'K559'], dtype='object'...\n",
       "K557    Index(['K556', 'K561', 'K559'], dtype='object'...\n",
       "K559    Index(['K502', 'K561', 'K263'], dtype='object'...\n",
       "K561    Index(['K559', 'K556', 'K557'], dtype='object'...\n",
       "dtype: object"
      ]
     },
     "execution_count": 91,
     "metadata": {},
     "output_type": "execute_result"
    }
   ],
   "source": [
    "# for each intersection, get the top 3 correlated intersections\n",
    "top_3_corr = corr_df.apply(lambda x: x.sort_values(ascending=False).index[1:4], axis=1)\n",
    "top_3_corr"
   ]
  },
  {
   "cell_type": "code",
   "execution_count": null,
   "metadata": {},
   "outputs": [],
   "source": []
  },
  {
   "cell_type": "code",
   "execution_count": null,
   "metadata": {},
   "outputs": [],
   "source": []
  }
 ],
 "metadata": {
  "kernelspec": {
   "display_name": "OWRI",
   "language": "python",
   "name": "python3"
  },
  "language_info": {
   "codemirror_mode": {
    "name": "ipython",
    "version": 3
   },
   "file_extension": ".py",
   "mimetype": "text/x-python",
   "name": "python",
   "nbconvert_exporter": "python",
   "pygments_lexer": "ipython3",
   "version": "3.10.10"
  },
  "orig_nbformat": 4
 },
 "nbformat": 4,
 "nbformat_minor": 2
}
