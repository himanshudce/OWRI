{
 "cells": [
  {
   "cell_type": "code",
   "execution_count": 4,
   "metadata": {},
   "outputs": [],
   "source": [
    "import keras\n",
    "import math\n",
    "import pandas as pd\n",
    "import numpy as np\n",
    "from keras.callbacks import EarlyStopping\n",
    "from sklearn.model_selection import train_test_split\n",
    "from sklearn.model_selection import GridSearchCV\n",
    "from sklearn.preprocessing import StandardScaler\n",
    "from sklearn.metrics import roc_auc_score\n",
    "import matplotlib.pyplot as plt\n",
    "from sklearn.metrics import mean_squared_error, mean_absolute_error\n",
    "import time\n",
    "from torch.utils.data import Dataset, DataLoader\n",
    "import pickle\n",
    "pd.set_option('display.max_rows', 500)\n",
    "import os\n",
    "import tensorflow as tf\n",
    "import torch\n",
    "import torch.nn as nn\n",
    "from math import sqrt\n",
    "# import rmse from sklearn\n",
    "from sklearn.metrics import mean_squared_error\n",
    "\n",
    "\n",
    "# define random seeds for Neural Networks\n",
    "torch.manual_seed(0)\n",
    "np.random.seed(0)\n",
    "tf.random.set_seed(0)\n",
    "# ignore warnings jupyter notebook\n",
    "import warnings\n",
    "warnings.filterwarnings('ignore')"
   ]
  },
  {
   "cell_type": "code",
   "execution_count": null,
   "metadata": {},
   "outputs": [],
   "source": [
    "# results save path\n",
    "base_result_path = '../results/METR-LA/LSTM'\n",
    "exp_name = 'multivariate_AE_weighted_vector_real_time_results.pkl'\n",
    "results_save_path = os.path.join(base_result_path, exp_name)"
   ]
  },
  {
   "cell_type": "code",
   "execution_count": null,
   "metadata": {},
   "outputs": [],
   "source": [
    "columns_names = ['717508','772151','767366','769405','769388','716951','717497','717483','717468','772596','772597','717469','764120','772178','769941','760024','771673','771667','765604','765176','773927','717480','717456','717495','716953','717481','767572','718371','769403','769359','716943','717491','767610','717446','717452','717453','717447','716956','717490','716942','773880','718204','769358','769402','767573','769953','773062','765164','772140','772168','769372','716571','716968','717492','717486','769819','717445','773869','769831','717450','716941','716955','717493','764858','769373','765171','768469','773012','717580','773953','763995','718499','716339','718089','718076','717608','769467','772669','717595','773013','717583','759772','764424','717804','764949','717582','773996','717592','759602','764781','767471','718064','767470','765273','764794','773954','717578','717587','773995','717585','769926','716328','765265','761003','718072','769847','718066','761599','765099','760650','717816','761604','717590','774012','717576','774204','767495','767494','759591','716331','762329','767523','767053','773024','774011','764766','767509','717818','767455','769444','716939','717825','767454','717819','773974','717570','718496','717821','737529','718045','716337','717571','773975','717573','764760','769867','718090','772513','717610','717823','769443','717572','773023','773939','767541','769418','769430','716958','717461','717460','716554','769431','764101','767554','773904','765182','718141','760987','717502','773906','767542','772167','717099','767350','767620','717489','717462','717463','767609','717488','767621','767351','774067','767751','717513','764106','768066','764853','717498','717473','717472','769806','717466','717499','769345','767585','718379','773916','767750','717504','717510','716949','717458','717465','717459','716960','769346']"
   ]
  },
  {
   "cell_type": "code",
   "execution_count": null,
   "metadata": {},
   "outputs": [],
   "source": [
    "with open(results_save_path, 'rb') as f:\n",
    "    results1 = pickle.load(f)"
   ]
  },
  {
   "cell_type": "code",
   "execution_count": null,
   "metadata": {},
   "outputs": [],
   "source": [
    "org_df = pd.DataFrame(results1[0]['df']['Real'],columns=columns_names)\n",
    "pred_df = pd.DataFrame(results1[0]['df']['Predicted'],columns=columns_names)"
   ]
  },
  {
   "cell_type": "code",
   "execution_count": null,
   "metadata": {},
   "outputs": [],
   "source": [
    "sqrt(mean_squared_error(org_df['773062'].values,pred_df['773062'].values))"
   ]
  },
  {
   "cell_type": "code",
   "execution_count": null,
   "metadata": {},
   "outputs": [],
   "source": [
    "org_df['717445']"
   ]
  },
  {
   "cell_type": "code",
   "execution_count": null,
   "metadata": {},
   "outputs": [],
   "source": []
  },
  {
   "cell_type": "code",
   "execution_count": null,
   "metadata": {},
   "outputs": [],
   "source": []
  },
  {
   "cell_type": "code",
   "execution_count": null,
   "metadata": {},
   "outputs": [],
   "source": []
  },
  {
   "cell_type": "code",
   "execution_count": null,
   "metadata": {},
   "outputs": [],
   "source": []
  },
  {
   "attachments": {},
   "cell_type": "markdown",
   "metadata": {},
   "source": [
    "# Real-Time result Analysis"
   ]
  },
  {
   "cell_type": "code",
   "execution_count": 75,
   "metadata": {},
   "outputs": [],
   "source": [
    "target = '737529'\n",
    "threshold = 0.05\n",
    "time_window = 24"
   ]
  },
  {
   "cell_type": "code",
   "execution_count": 76,
   "metadata": {},
   "outputs": [],
   "source": [
    "base_result_path = '../results/METR-LA/real_time_modeling/'\n",
    "exp_name = f'univariate_AE_real_time_processing_threshold_{threshold}_{time_window}H_results_{target}.pkl'\n",
    "results_load_path = os.path.join(base_result_path, exp_name)"
   ]
  },
  {
   "cell_type": "code",
   "execution_count": 77,
   "metadata": {},
   "outputs": [],
   "source": [
    "# load results\n",
    "with open(results_load_path, 'rb') as f:\n",
    "    results_real_time = pickle.load(f)"
   ]
  },
  {
   "cell_type": "code",
   "execution_count": 78,
   "metadata": {},
   "outputs": [
    {
     "data": {
      "text/plain": [
       "dict_keys(['incremental_weighted_update', 'incremental_update', 'No_update', 'base_model'])"
      ]
     },
     "execution_count": 78,
     "metadata": {},
     "output_type": "execute_result"
    }
   ],
   "source": [
    "results_real_time[target][threshold].keys()"
   ]
  },
  {
   "cell_type": "code",
   "execution_count": 79,
   "metadata": {},
   "outputs": [],
   "source": [
    "# get the average rmse and mae from all the experiments\n",
    "def get_results(results_real_time, target, threshold, exp = 'No_update'):\n",
    "    rmse = []\n",
    "    mae = []\n",
    "    train_time = []\n",
    "    for key,val in results_real_time[target][threshold][exp].items():\n",
    "        rmse.append(val['RMSE'])\n",
    "        mae.append(val['MAE'])\n",
    "        if exp != 'No_update':\n",
    "            train_time.append(val['train_time'])\n",
    "        else:\n",
    "            train_time.append(0)\n",
    "    print(f'RMSE: {np.mean(rmse)}')\n",
    "    print(f'MAE: {np.mean(mae)}')\n",
    "    print(f'Train time: {np.mean(train_time)}')\n",
    "    # return rmse, mae, train_time"
   ]
  },
  {
   "cell_type": "code",
   "execution_count": 80,
   "metadata": {},
   "outputs": [
    {
     "name": "stdout",
     "output_type": "stream",
     "text": [
      "RMSE: 12.044180856281702\n",
      "MAE: 7.845166206359863\n",
      "Train time: 0.021019895197981496\n"
     ]
    }
   ],
   "source": [
    "get_results(results_real_time, target, threshold, exp = 'incremental_weighted_update')"
   ]
  },
  {
   "cell_type": "code",
   "execution_count": 81,
   "metadata": {},
   "outputs": [
    {
     "name": "stdout",
     "output_type": "stream",
     "text": [
      "RMSE: 12.00008107819342\n",
      "MAE: 7.815212726593018\n",
      "Train time: 0.01784764710119215\n"
     ]
    }
   ],
   "source": [
    "get_results(results_real_time, target, threshold, exp = 'incremental_update')"
   ]
  },
  {
   "cell_type": "code",
   "execution_count": 82,
   "metadata": {},
   "outputs": [
    {
     "name": "stdout",
     "output_type": "stream",
     "text": [
      "RMSE: 11.296915006448161\n",
      "MAE: 7.359277725219727\n",
      "Train time: 0.0\n"
     ]
    }
   ],
   "source": [
    "get_results(results_real_time, target, threshold, exp = 'No_update')"
   ]
  },
  {
   "cell_type": "code",
   "execution_count": 72,
   "metadata": {},
   "outputs": [
    {
     "name": "stdout",
     "output_type": "stream",
     "text": [
      "RMSE: 12.335480324885852\n",
      "MAE: 10.86701488494873\n",
      "Train time: 0.005507672962389494\n"
     ]
    }
   ],
   "source": [
    "get_results(results_real_time, target, threshold, exp = 'incremental_weighted_update')"
   ]
  },
  {
   "cell_type": "code",
   "execution_count": 73,
   "metadata": {},
   "outputs": [
    {
     "name": "stdout",
     "output_type": "stream",
     "text": [
      "RMSE: 12.402022270190002\n",
      "MAE: 10.887054443359375\n",
      "Train time: 0.005451359497873407\n"
     ]
    }
   ],
   "source": [
    "get_results(results_real_time, target, threshold, exp = 'incremental_update')"
   ]
  },
  {
   "cell_type": "code",
   "execution_count": 74,
   "metadata": {},
   "outputs": [
    {
     "name": "stdout",
     "output_type": "stream",
     "text": [
      "RMSE: 16.142935782701766\n",
      "MAE: 12.458470344543457\n",
      "Train time: 0.0\n"
     ]
    }
   ],
   "source": [
    "get_results(results_real_time, target, threshold, exp = 'No_update')"
   ]
  },
  {
   "cell_type": "code",
   "execution_count": null,
   "metadata": {},
   "outputs": [],
   "source": []
  },
  {
   "cell_type": "code",
   "execution_count": null,
   "metadata": {},
   "outputs": [],
   "source": []
  },
  {
   "cell_type": "code",
   "execution_count": 56,
   "metadata": {},
   "outputs": [
    {
     "name": "stdout",
     "output_type": "stream",
     "text": [
      "RMSE: 11.751373090139266\n",
      "MAE: 10.418865203857422\n",
      "Train time: 0.005428610851890162\n"
     ]
    }
   ],
   "source": [
    "get_results(results_real_time, target, threshold, exp = 'incremental_weighted_update')"
   ]
  },
  {
   "cell_type": "code",
   "execution_count": 57,
   "metadata": {},
   "outputs": [
    {
     "name": "stdout",
     "output_type": "stream",
     "text": [
      "RMSE: 11.72788030884934\n",
      "MAE: 10.371858596801758\n",
      "Train time: 0.00535873764439633\n"
     ]
    }
   ],
   "source": [
    "get_results(results_real_time, target, threshold, exp = 'incremental_update')"
   ]
  },
  {
   "cell_type": "code",
   "execution_count": 58,
   "metadata": {},
   "outputs": [
    {
     "name": "stdout",
     "output_type": "stream",
     "text": [
      "RMSE: 15.328964989254983\n",
      "MAE: 12.401187896728516\n",
      "Train time: 0.0\n"
     ]
    }
   ],
   "source": [
    "get_results(results_real_time, target, threshold, exp = 'No_update')"
   ]
  },
  {
   "cell_type": "code",
   "execution_count": null,
   "metadata": {},
   "outputs": [],
   "source": []
  },
  {
   "cell_type": "code",
   "execution_count": null,
   "metadata": {},
   "outputs": [],
   "source": []
  },
  {
   "cell_type": "code",
   "execution_count": null,
   "metadata": {},
   "outputs": [],
   "source": []
  },
  {
   "cell_type": "code",
   "execution_count": null,
   "metadata": {},
   "outputs": [],
   "source": []
  }
 ],
 "metadata": {
  "kernelspec": {
   "display_name": "OWRI",
   "language": "python",
   "name": "python3"
  },
  "language_info": {
   "codemirror_mode": {
    "name": "ipython",
    "version": 3
   },
   "file_extension": ".py",
   "mimetype": "text/x-python",
   "name": "python",
   "nbconvert_exporter": "python",
   "pygments_lexer": "ipython3",
   "version": "3.10.10"
  },
  "orig_nbformat": 4
 },
 "nbformat": 4,
 "nbformat_minor": 2
}
