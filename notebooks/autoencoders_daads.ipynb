{
 "cells": [
  {
   "cell_type": "code",
   "execution_count": 1,
   "metadata": {},
   "outputs": [],
   "source": [
    "import torch.nn as nn\n",
    "import pandas as pd\n",
    "import json\n",
    "import os\n",
    "import numpy as np\n",
    "import pickle\n",
    "import json\n",
    "import scipy\n",
    "from torch.utils.data import Dataset, DataLoader\n",
    "import torch\n",
    "from collections import defaultdict\n",
    "import time\n",
    "# import matplotlib.pyplot as plt\n",
    "# import seaborn as sns\n",
    "from datetime import timedelta\n",
    "\n",
    "# define random seeds for Neural Networks\n",
    "torch.manual_seed(0)\n",
    "np.random.seed(0)\n",
    "\n",
    "# ignore warnings jupyter notebook\n",
    "import warnings\n",
    "warnings.filterwarnings('ignore')\n",
    "\n",
    "\n",
    "# importing from daads\n",
    "import sys\n",
    "sys.path.insert(0, '/Users/himanshu/Master_Thesis/code/OWRI/DAADS')\n",
    "from tools.evaluate import aggregate_dataframe, test_then_train"
   ]
  },
  {
   "attachments": {},
   "cell_type": "markdown",
   "metadata": {},
   "source": [
    "# ========== FUNCTION =============="
   ]
  },
  {
   "cell_type": "code",
   "execution_count": 2,
   "metadata": {},
   "outputs": [],
   "source": [
    "# prepare input for AEs, \n",
    "# input is combined list of all intersections (vector -> [fpds + hourofday+ weekofday + intersectoion]) for each week and each hour sorted based on time\n",
    "# output is -> list of feature vector and time for all interctions combined --> [[fpds + hourofday+ weekofday + intersectoion], time]\n",
    "def prepare_input_for_PWAE(intersection_data):\n",
    "    combined_fpds_for_AEs = []\n",
    "    for i in range(7):\n",
    "        for j in range(24):\n",
    "            for fpd,time_instance in zip(intersection_data[i][j][0],intersection_data[i][j][1]):\n",
    "                temp = fpd.astype(np.float32).tolist()\n",
    "                temp.extend([time_instance, 0])\n",
    "                combined_fpds_for_AEs.append(temp)\n",
    "\n",
    "    # combined_fpds_for_AEs = sorted(combined_fpds_for_AEs, key=lambda x:x[12])\n",
    "    return combined_fpds_for_AEs"
   ]
  },
  {
   "cell_type": "code",
   "execution_count": 3,
   "metadata": {},
   "outputs": [],
   "source": [
    "# function to load data from pickle file\n",
    "def load_pickle(filename):\n",
    "    with open(filename, 'rb') as f:\n",
    "        data = pickle.load(f)\n",
    "    return data"
   ]
  },
  {
   "cell_type": "code",
   "execution_count": 19,
   "metadata": {},
   "outputs": [],
   "source": [
    "# function to save outlier results\n",
    "def save_outlier_results(outlier_results, path):\n",
    "    outlier_df = pd.DataFrame(outlier_results,columns=[\"outlier_score\",'timestamp']) # convert to dataframe\n",
    "    outlier_df['timestamp'] = pd.to_datetime(outlier_df['timestamp']) # convert timestamp to datetime\n",
    "    outlier_df.set_index('timestamp',inplace=True) # set timestamp as index\n",
    "    outlier_df.to_csv(path) # save to csv"
   ]
  },
  {
   "cell_type": "code",
   "execution_count": null,
   "metadata": {},
   "outputs": [],
   "source": []
  },
  {
   "attachments": {},
   "cell_type": "markdown",
   "metadata": {},
   "source": [
    "# =========== MAIN ==========="
   ]
  },
  {
   "cell_type": "code",
   "execution_count": 37,
   "metadata": {},
   "outputs": [],
   "source": [
    "# DAADS MODELS = [\"AE\", \"DAE\",\"PW-AE\"]\n",
    "MODELS = [\"AE\", \"DAE\", \"HST\", \"PW-AE\", \"xStream\", \"Kit-Net\", \"ILOF\"]\n",
    "# MODELS = [\"xStream\", \"Kit-Net\", \"ILOF\"]\n",
    "CONFIGS = {\n",
    "    \"AE\": {\"lr\": 0.02, \"latent_dim\": 0.1},\n",
    "    \"DAE\": {\"lr\": 0.02},\n",
    "    \"PW-AE\": {\"lr\": 0.1},\n",
    "    \"OC-SVM\": {},\n",
    "    \"HST\": {\"n_trees\": 25, \"height\": 15},\n",
    "}"
   ]
  },
  {
   "cell_type": "code",
   "execution_count": 42,
   "metadata": {},
   "outputs": [],
   "source": [
    "# load config file\n",
    "with open('../utils/configs.json') as f:\n",
    "    config = json.load(f)"
   ]
  },
  {
   "attachments": {},
   "cell_type": "markdown",
   "metadata": {},
   "source": [
    "#### ---------------------------- hauge AE processing ---------------------------- "
   ]
  },
  {
   "cell_type": "code",
   "execution_count": 43,
   "metadata": {},
   "outputs": [],
   "source": [
    "# declare variable and load data from pickle file\n",
    "data_name = \"hauge\"\n",
    "load_fpds_path = f\"../data/{data_name}/processed/featured_fpds_raw.pickle\"\n",
    "model_save_path = f\"../results/{data_name}/outlier_scores/{AE_model}\"\n",
    "featured_fpds = load_pickle(load_fpds_path)"
   ]
  },
  {
   "cell_type": "code",
   "execution_count": 44,
   "metadata": {},
   "outputs": [
    {
     "name": "stdout",
     "output_type": "stream",
     "text": [
      "processing model - AE \n",
      "processing trajectory - T1,  direction - North, and intersection - K502 \n"
     ]
    },
    {
     "name": "stderr",
     "output_type": "stream",
     "text": [
      "100%|██████████| 19728/19728 [00:01<00:00, 11679.92it/s]\n"
     ]
    },
    {
     "name": "stdout",
     "output_type": "stream",
     "text": [
      "-----------------------------------------------\n",
      "processing trajectory - T1,  direction - North, and intersection - K504 \n"
     ]
    },
    {
     "name": "stderr",
     "output_type": "stream",
     "text": [
      "100%|██████████| 19728/19728 [00:01<00:00, 11548.78it/s]\n"
     ]
    },
    {
     "name": "stdout",
     "output_type": "stream",
     "text": [
      "-----------------------------------------------\n",
      "processing trajectory - T1,  direction - North, and intersection - K503 \n"
     ]
    },
    {
     "name": "stderr",
     "output_type": "stream",
     "text": [
      "100%|██████████| 19728/19728 [00:01<00:00, 12009.90it/s]\n"
     ]
    },
    {
     "name": "stdout",
     "output_type": "stream",
     "text": [
      "-----------------------------------------------\n",
      "processing trajectory - T1,  direction - North, and intersection - K263 \n"
     ]
    },
    {
     "name": "stderr",
     "output_type": "stream",
     "text": [
      "100%|██████████| 19728/19728 [00:01<00:00, 11602.36it/s]\n"
     ]
    },
    {
     "name": "stdout",
     "output_type": "stream",
     "text": [
      "-----------------------------------------------\n",
      "processing trajectory - T1,  direction - North, and intersection - K556 \n"
     ]
    },
    {
     "name": "stderr",
     "output_type": "stream",
     "text": [
      "100%|██████████| 19728/19728 [00:01<00:00, 11448.80it/s]\n"
     ]
    },
    {
     "name": "stdout",
     "output_type": "stream",
     "text": [
      "-----------------------------------------------\n",
      "processing trajectory - T1,  direction - North, and intersection - K557 \n"
     ]
    },
    {
     "name": "stderr",
     "output_type": "stream",
     "text": [
      "100%|██████████| 19728/19728 [00:01<00:00, 11534.67it/s]\n"
     ]
    },
    {
     "name": "stdout",
     "output_type": "stream",
     "text": [
      "-----------------------------------------------\n",
      "processing trajectory - T1,  direction - North, and intersection - K559 \n"
     ]
    },
    {
     "name": "stderr",
     "output_type": "stream",
     "text": [
      "100%|██████████| 19728/19728 [00:01<00:00, 11613.09it/s]\n"
     ]
    },
    {
     "name": "stdout",
     "output_type": "stream",
     "text": [
      "-----------------------------------------------\n",
      "processing trajectory - T1,  direction - North, and intersection - K561 \n"
     ]
    },
    {
     "name": "stderr",
     "output_type": "stream",
     "text": [
      "100%|██████████| 19728/19728 [00:01<00:00, 10808.24it/s]\n"
     ]
    },
    {
     "name": "stdout",
     "output_type": "stream",
     "text": [
      "-----------------------------------------------\n",
      "processing trajectory - T1,  direction - North, and intersection - K198 \n"
     ]
    },
    {
     "name": "stderr",
     "output_type": "stream",
     "text": [
      "100%|██████████| 19728/19728 [00:01<00:00, 11645.53it/s]\n"
     ]
    },
    {
     "name": "stdout",
     "output_type": "stream",
     "text": [
      "-----------------------------------------------\n",
      "processing trajectory - T1,  direction - South, and intersection - K502 \n"
     ]
    },
    {
     "name": "stderr",
     "output_type": "stream",
     "text": [
      "100%|██████████| 19728/19728 [00:01<00:00, 11422.05it/s]\n"
     ]
    },
    {
     "name": "stdout",
     "output_type": "stream",
     "text": [
      "-----------------------------------------------\n",
      "processing trajectory - T1,  direction - South, and intersection - K504 \n"
     ]
    },
    {
     "name": "stderr",
     "output_type": "stream",
     "text": [
      "100%|██████████| 19728/19728 [00:01<00:00, 11623.67it/s]\n"
     ]
    },
    {
     "name": "stdout",
     "output_type": "stream",
     "text": [
      "-----------------------------------------------\n",
      "processing trajectory - T1,  direction - South, and intersection - K503 \n"
     ]
    },
    {
     "name": "stderr",
     "output_type": "stream",
     "text": [
      "100%|██████████| 19728/19728 [00:01<00:00, 11514.59it/s]\n"
     ]
    },
    {
     "name": "stdout",
     "output_type": "stream",
     "text": [
      "-----------------------------------------------\n",
      "processing trajectory - T1,  direction - South, and intersection - K263 \n"
     ]
    },
    {
     "name": "stderr",
     "output_type": "stream",
     "text": [
      "100%|██████████| 19728/19728 [00:01<00:00, 11578.18it/s]\n"
     ]
    },
    {
     "name": "stdout",
     "output_type": "stream",
     "text": [
      "-----------------------------------------------\n",
      "processing trajectory - T1,  direction - South, and intersection - K556 \n"
     ]
    },
    {
     "name": "stderr",
     "output_type": "stream",
     "text": [
      "100%|██████████| 19728/19728 [00:01<00:00, 11486.65it/s]\n"
     ]
    },
    {
     "name": "stdout",
     "output_type": "stream",
     "text": [
      "-----------------------------------------------\n",
      "processing trajectory - T1,  direction - South, and intersection - K557 \n"
     ]
    },
    {
     "name": "stderr",
     "output_type": "stream",
     "text": [
      "100%|██████████| 19728/19728 [00:01<00:00, 11299.38it/s]\n"
     ]
    },
    {
     "name": "stdout",
     "output_type": "stream",
     "text": [
      "-----------------------------------------------\n",
      "processing trajectory - T1,  direction - South, and intersection - K559 \n"
     ]
    },
    {
     "name": "stderr",
     "output_type": "stream",
     "text": [
      "100%|██████████| 19728/19728 [00:01<00:00, 11797.16it/s]\n"
     ]
    },
    {
     "name": "stdout",
     "output_type": "stream",
     "text": [
      "-----------------------------------------------\n",
      "processing trajectory - T1,  direction - South, and intersection - K561 \n"
     ]
    },
    {
     "name": "stderr",
     "output_type": "stream",
     "text": [
      "100%|██████████| 19728/19728 [00:01<00:00, 11458.95it/s]\n"
     ]
    },
    {
     "name": "stdout",
     "output_type": "stream",
     "text": [
      "-----------------------------------------------\n",
      "processing trajectory - T1,  direction - South, and intersection - K198 \n"
     ]
    },
    {
     "name": "stderr",
     "output_type": "stream",
     "text": [
      "100%|██████████| 19728/19728 [00:01<00:00, 11134.82it/s]\n"
     ]
    },
    {
     "name": "stdout",
     "output_type": "stream",
     "text": [
      "-----------------------------------------------\n",
      "processing trajectory - T2,  direction - South, and intersection - K704 \n"
     ]
    },
    {
     "name": "stderr",
     "output_type": "stream",
     "text": [
      "100%|██████████| 19728/19728 [00:01<00:00, 11802.35it/s]\n"
     ]
    },
    {
     "name": "stdout",
     "output_type": "stream",
     "text": [
      "-----------------------------------------------\n",
      "processing trajectory - T2,  direction - South, and intersection - K702 \n"
     ]
    },
    {
     "name": "stderr",
     "output_type": "stream",
     "text": [
      "100%|██████████| 19728/19728 [00:01<00:00, 11819.63it/s]\n"
     ]
    },
    {
     "name": "stdout",
     "output_type": "stream",
     "text": [
      "-----------------------------------------------\n",
      "processing trajectory - T2,  direction - South, and intersection - K703 \n"
     ]
    },
    {
     "name": "stderr",
     "output_type": "stream",
     "text": [
      "100%|██████████| 19728/19728 [00:01<00:00, 11539.87it/s]\n"
     ]
    },
    {
     "name": "stdout",
     "output_type": "stream",
     "text": [
      "-----------------------------------------------\n",
      "processing trajectory - T2,  direction - South, and intersection - K159 \n"
     ]
    },
    {
     "name": "stderr",
     "output_type": "stream",
     "text": [
      "100%|██████████| 19728/19728 [00:01<00:00, 11770.72it/s]\n"
     ]
    },
    {
     "name": "stdout",
     "output_type": "stream",
     "text": [
      "-----------------------------------------------\n",
      "processing trajectory - T2,  direction - South, and intersection - K182 \n"
     ]
    },
    {
     "name": "stderr",
     "output_type": "stream",
     "text": [
      "100%|██████████| 19728/19728 [00:01<00:00, 11396.23it/s]\n"
     ]
    },
    {
     "name": "stdout",
     "output_type": "stream",
     "text": [
      "-----------------------------------------------\n",
      "processing trajectory - T2,  direction - South, and intersection - K183 \n"
     ]
    },
    {
     "name": "stderr",
     "output_type": "stream",
     "text": [
      "100%|██████████| 19728/19728 [00:01<00:00, 11179.61it/s]\n"
     ]
    },
    {
     "name": "stdout",
     "output_type": "stream",
     "text": [
      "-----------------------------------------------\n",
      "processing trajectory - T2,  direction - South, and intersection - K128 \n"
     ]
    },
    {
     "name": "stderr",
     "output_type": "stream",
     "text": [
      "100%|██████████| 19728/19728 [00:01<00:00, 11705.84it/s]\n"
     ]
    },
    {
     "name": "stdout",
     "output_type": "stream",
     "text": [
      "-----------------------------------------------\n",
      "processing trajectory - T2,  direction - South, and intersection - K139 \n"
     ]
    },
    {
     "name": "stderr",
     "output_type": "stream",
     "text": [
      "100%|██████████| 19728/19728 [00:01<00:00, 11468.64it/s]\n"
     ]
    },
    {
     "name": "stdout",
     "output_type": "stream",
     "text": [
      "-----------------------------------------------\n",
      "processing trajectory - T2,  direction - South, and intersection - K104 \n"
     ]
    },
    {
     "name": "stderr",
     "output_type": "stream",
     "text": [
      "100%|██████████| 19728/19728 [00:01<00:00, 11820.33it/s]\n"
     ]
    },
    {
     "name": "stdout",
     "output_type": "stream",
     "text": [
      "-----------------------------------------------\n",
      "processing trajectory - T2,  direction - South, and intersection - K101 \n"
     ]
    },
    {
     "name": "stderr",
     "output_type": "stream",
     "text": [
      "100%|██████████| 19728/19728 [00:01<00:00, 11662.24it/s]\n"
     ]
    },
    {
     "name": "stdout",
     "output_type": "stream",
     "text": [
      "-----------------------------------------------\n",
      "processing trajectory - T2,  direction - South, and intersection - K206 \n"
     ]
    },
    {
     "name": "stderr",
     "output_type": "stream",
     "text": [
      "100%|██████████| 19728/19728 [00:01<00:00, 11543.34it/s]\n"
     ]
    },
    {
     "name": "stdout",
     "output_type": "stream",
     "text": [
      "-----------------------------------------------\n",
      "processing trajectory - T2,  direction - South, and intersection - K074 \n"
     ]
    },
    {
     "name": "stderr",
     "output_type": "stream",
     "text": [
      "100%|██████████| 19728/19728 [00:01<00:00, 11256.08it/s]\n"
     ]
    },
    {
     "name": "stdout",
     "output_type": "stream",
     "text": [
      "-----------------------------------------------\n",
      "processing trajectory - T2,  direction - South, and intersection - K414 \n"
     ]
    },
    {
     "name": "stderr",
     "output_type": "stream",
     "text": [
      "100%|██████████| 19728/19728 [00:01<00:00, 11107.37it/s]\n"
     ]
    },
    {
     "name": "stdout",
     "output_type": "stream",
     "text": [
      "-----------------------------------------------\n",
      "processing trajectory - T2,  direction - South, and intersection - K415 \n"
     ]
    },
    {
     "name": "stderr",
     "output_type": "stream",
     "text": [
      "100%|██████████| 19728/19728 [00:01<00:00, 11198.82it/s]\n"
     ]
    },
    {
     "name": "stdout",
     "output_type": "stream",
     "text": [
      "-----------------------------------------------\n",
      "processing trajectory - T2,  direction - South, and intersection - K250 \n"
     ]
    },
    {
     "name": "stderr",
     "output_type": "stream",
     "text": [
      "100%|██████████| 19728/19728 [00:01<00:00, 11022.74it/s]\n"
     ]
    },
    {
     "name": "stdout",
     "output_type": "stream",
     "text": [
      "-----------------------------------------------\n",
      "processing trajectory - T2,  direction - North, and intersection - K704 \n"
     ]
    },
    {
     "name": "stderr",
     "output_type": "stream",
     "text": [
      "100%|██████████| 19728/19728 [00:01<00:00, 11566.28it/s]\n"
     ]
    },
    {
     "name": "stdout",
     "output_type": "stream",
     "text": [
      "-----------------------------------------------\n",
      "processing trajectory - T2,  direction - North, and intersection - K702 \n"
     ]
    },
    {
     "name": "stderr",
     "output_type": "stream",
     "text": [
      "100%|██████████| 19728/19728 [00:01<00:00, 10879.00it/s]\n"
     ]
    },
    {
     "name": "stdout",
     "output_type": "stream",
     "text": [
      "-----------------------------------------------\n",
      "processing trajectory - T2,  direction - North, and intersection - K703 \n"
     ]
    },
    {
     "name": "stderr",
     "output_type": "stream",
     "text": [
      " 51%|█████     | 9965/19728 [00:00<00:00, 11365.53it/s]"
     ]
    }
   ],
   "source": [
    "for model_name in MODELS:\n",
    "\n",
    "    print(f\"processing model - {model_name} \")\n",
    "    AE_model = model_name\n",
    "    data_name = \"hauge\"\n",
    "    load_fpds_path = f\"../data/{data_name}/processed/featured_fpds_raw.pickle\"\n",
    "    featured_fpds = load_pickle(load_fpds_path)\n",
    "    model_save_path = f\"../results/{data_name}/outlier_scores/{AE_model}\"\n",
    "    if not os.path.exists(model_save_path):\n",
    "        os.makedirs(model_save_path)\n",
    "\n",
    "    time_list = []\n",
    "    # for each trajectory, direction and intersection, run AE model\n",
    "    for trajectory in config['trajectories']:\n",
    "        for direction in config['trajectories'][trajectory]:\n",
    "            for intersection in config['trajectories'][trajectory][direction]:\n",
    "                # print trajectory, direction, intersection\n",
    "                print(f\"processing trajectory - {trajectory},  direction - {direction}, and intersection - {intersection} \")\n",
    "                intersection_data = featured_fpds[trajectory][direction]['fpds'][intersection]\n",
    "                intersection_data_flatten = prepare_input_for_PWAE(intersection_data) # flatten data\n",
    "                df = pd.DataFrame(intersection_data_flatten, columns=['var'+str(i) for i in range(1, 13)]+['timestamp','Isanomaly']) # convert to dataframe\n",
    "                train_data = df[['var'+str(i) for i in range(1, 13)]].to_dict('records') # convert to dict\n",
    "                df = df.sort_values(by='timestamp')\n",
    "                scores,total_time = test_then_train(train_data, dataset='OWRI',model=AE_model,seed=42,**CONFIGS.get(AE_model, {}))\n",
    "                time_list.append(total_time/len(train_data))\n",
    "                outlier_results = [[x,y] for x,y in zip(scores, df['timestamp'].to_list())]\n",
    "                # save outlier scores to csv\n",
    "                AE_score_save_path = os.path.join(model_save_path,f\"{intersection}_{direction}.csv\") # path to save outlier scores\n",
    "                save_outlier_results(outlier_results, AE_score_save_path)\n",
    "                # print(f\"{intersection} done!\")\n",
    "                print('-----------------------------------------------')\n",
    "\n",
    "\n",
    "    # save time to txt file\n",
    "    time_save_path = os.path.join(model_save_path,'instance_train_time_seconds.txt') # path to save time\n",
    "    with open(time_save_path, 'w') as f:\n",
    "        f.write(str(time_list))"
   ]
  },
  {
   "attachments": {},
   "cell_type": "markdown",
   "metadata": {},
   "source": [
    "#### ---------------------------- METR-LA AE processing ---------------------------- "
   ]
  },
  {
   "cell_type": "code",
   "execution_count": null,
   "metadata": {},
   "outputs": [],
   "source": [
    "# declare variable and load data from pickle file\n",
    "data_name = \"hauge\"\n",
    "load_fpds_path = f\"../data/{data_name}/processed/featured_fpds_raw.pickle\"\n",
    "model_save_path = f\"../results/{data_name}/outlier_scores/{AE_model}\"\n",
    "featured_fpds = load_pickle(load_fpds_path)"
   ]
  },
  {
   "cell_type": "code",
   "execution_count": 39,
   "metadata": {},
   "outputs": [
    {
     "name": "stdout",
     "output_type": "stream",
     "text": [
      "processing model - AE \n"
     ]
    },
    {
     "ename": "KeyError",
     "evalue": "'fpds'",
     "output_type": "error",
     "traceback": [
      "\u001b[0;31m---------------------------------------------------------------------------\u001b[0m",
      "\u001b[0;31mKeyError\u001b[0m                                  Traceback (most recent call last)",
      "Cell \u001b[0;32mIn[39], line 16\u001b[0m\n\u001b[1;32m     13\u001b[0m     os\u001b[39m.\u001b[39mmakedirs(model_save_path)\n\u001b[1;32m     15\u001b[0m time_list \u001b[39m=\u001b[39m []\n\u001b[0;32m---> 16\u001b[0m \u001b[39mfor\u001b[39;00m intersection \u001b[39min\u001b[39;00m featured_fpds[\u001b[39m'\u001b[39;49m\u001b[39mfpds\u001b[39;49m\u001b[39m'\u001b[39;49m]:\n\u001b[1;32m     17\u001b[0m     \u001b[39m# print intersection\u001b[39;00m\n\u001b[1;32m     18\u001b[0m     \u001b[39m# print(f\"processing intersection - {intersection} \")\u001b[39;00m\n\u001b[1;32m     19\u001b[0m     intersection_data \u001b[39m=\u001b[39m featured_fpds[\u001b[39m'\u001b[39m\u001b[39mfpds\u001b[39m\u001b[39m'\u001b[39m][intersection]\n\u001b[1;32m     20\u001b[0m     intersection_data_flatten \u001b[39m=\u001b[39m prepare_input_for_PWAE(intersection_data) \u001b[39m# flatten data\u001b[39;00m\n",
      "\u001b[0;31mKeyError\u001b[0m: 'fpds'"
     ]
    }
   ],
   "source": [
    "# AE for metr-la dataset\n",
    "# an input vector is a 12-dimensional vector of the traffic data of the last 12 points (i.e., 5 minutes)\n",
    "\n",
    "for model_name in MODELS:\n",
    "\n",
    "    print(f\"processing model - {model_name} \")\n",
    "    AE_model = model_name\n",
    "    data_name = \"hauge\"\n",
    "    load_fpds_path = f\"../data/{data_name}/processed/featured_fpds_raw.pickle\"\n",
    "    featured_fpds = load_pickle(load_fpds_path)\n",
    "    model_save_path = f\"../results/{data_name}/outlier_scores/{AE_model}\"\n",
    "    if not os.path.exists(model_save_path):\n",
    "        os.makedirs(model_save_path)\n",
    "\n",
    "    time_list = []\n",
    "    for intersection in featured_fpds['fpds']:\n",
    "        # print intersection\n",
    "        # print(f\"processing intersection - {intersection} \")\n",
    "        intersection_data = featured_fpds['fpds'][intersection]\n",
    "        intersection_data_flatten = prepare_input_for_PWAE(intersection_data) # flatten data\n",
    "        df = pd.DataFrame(intersection_data_flatten, columns=['var'+str(i) for i in range(1, 13)]+['timestamp','Isanomaly']) # convert to dataframe\n",
    "        train_data = df[['var'+str(i) for i in range(1, 13)]].to_dict('records') # convert to dict\n",
    "        df = df.sort_values(by='timestamp')\n",
    "        scores,total_time = test_then_train(train_data, dataset='OWRI',model=AE_model,seed=42,**CONFIGS.get(AE_model, {}))\n",
    "        time_list.append(total_time/len(train_data))\n",
    "        outlier_results = [[x,y] for x,y in zip(scores, df['timestamp'].to_list())]\n",
    "        # save outlier scores to csv\n",
    "        AE_score_save_path = os.path.join(model_save_path, intersection+'.csv') # path to save outlier scores\n",
    "        save_outlier_results(outlier_results, AE_score_save_path)\n",
    "        # print(f\"{intersection} done!\")\n",
    "        print('-----------------------------------------------')\n",
    "\n",
    "\n",
    "    # save time to txt file\n",
    "    time_save_path = os.path.join(model_save_path,'instance_train_time_seconds.txt') # path to save time\n",
    "    with open(time_save_path, 'w') as f:\n",
    "        f.write(str(time_list))"
   ]
  },
  {
   "cell_type": "code",
   "execution_count": null,
   "metadata": {},
   "outputs": [],
   "source": []
  },
  {
   "cell_type": "code",
   "execution_count": null,
   "metadata": {},
   "outputs": [],
   "source": []
  },
  {
   "cell_type": "code",
   "execution_count": null,
   "metadata": {},
   "outputs": [],
   "source": []
  },
  {
   "cell_type": "code",
   "execution_count": null,
   "metadata": {},
   "outputs": [],
   "source": []
  },
  {
   "cell_type": "code",
   "execution_count": null,
   "metadata": {},
   "outputs": [],
   "source": []
  },
  {
   "attachments": {},
   "cell_type": "markdown",
   "metadata": {},
   "source": [
    "# EXTRA"
   ]
  },
  {
   "cell_type": "code",
   "execution_count": null,
   "metadata": {},
   "outputs": [],
   "source": [
    "df"
   ]
  },
  {
   "cell_type": "code",
   "execution_count": 82,
   "metadata": {},
   "outputs": [],
   "source": [
    "direction = \"North\"\n",
    "trajectory = \"T1\"\n",
    "intersection = \"K502\"\n",
    "intersection_data = featured_fpds[trajectory][direction][intersection]"
   ]
  },
  {
   "cell_type": "code",
   "execution_count": 83,
   "metadata": {},
   "outputs": [
    {
     "name": "stdout",
     "output_type": "stream",
     "text": [
      "total number of data points for intersection - K502 is 18653\n"
     ]
    }
   ],
   "source": [
    "# total numbe of data points\n",
    "l = 0\n",
    "for i in range(7):\n",
    "    for j in range(24):\n",
    "        l += len(intersection_data[i][j][0])\n",
    "print(f\"total number of data points for intersection - {intersection} is {l}\")"
   ]
  },
  {
   "cell_type": "code",
   "execution_count": 84,
   "metadata": {},
   "outputs": [],
   "source": [
    "# prepare input for AEs\n",
    "intersection_data_flatten = prepare_input_for_AEs(intersection_data, intersection)"
   ]
  },
  {
   "cell_type": "code",
   "execution_count": 85,
   "metadata": {},
   "outputs": [
    {
     "data": {
      "text/plain": [
       "23"
      ]
     },
     "execution_count": 85,
     "metadata": {},
     "output_type": "execute_result"
    }
   ],
   "source": [
    "AE_dataset = AutoEncoderDataset(intersection_data_flatten)\n",
    "AE_dataset.dim # feature vector dimension"
   ]
  },
  {
   "cell_type": "code",
   "execution_count": 86,
   "metadata": {},
   "outputs": [],
   "source": [
    "train_dataloader = DataLoader(AE_dataset, batch_size=1, shuffle=False)\n",
    "# train_dataloader = DataLoader(AE_dataset, batch_size=1, shuffle=False, collate_fn=my_collate)"
   ]
  },
  {
   "cell_type": "code",
   "execution_count": 87,
   "metadata": {},
   "outputs": [
    {
     "name": "stdout",
     "output_type": "stream",
     "text": [
      "[tensor([[0.0617, 0.0062, 0.0185, 0.0432, 0.0309, 0.0741, 0.0617, 0.1173, 0.1667,\n",
      "         0.1543, 0.1667, 0.0988, 0.0417, 0.1429, 0.0000, 0.0000, 1.0000, 0.0000,\n",
      "         0.0000, 0.0000, 0.0000, 0.0000, 0.0000]]), ('2018-01-01 00:00:00',), ('K502',)]\n"
     ]
    }
   ],
   "source": [
    "# check if dataloader is working\n",
    "for i in train_dataloader:\n",
    "    print(i)\n",
    "    break"
   ]
  },
  {
   "cell_type": "code",
   "execution_count": 96,
   "metadata": {},
   "outputs": [],
   "source": [
    "# define model parameters\n",
    "lr = 1e-2         # learning rate\n",
    "w_d = 1e-5        # weight decay\n",
    "epochs = 1\n",
    "metrics = defaultdict(list)\n",
    "outlier_loss = []\n",
    "outlier_results = []\n",
    "device = 'mps' if torch.backends.mps.is_available() else 'cpu'\n"
   ]
  },
  {
   "cell_type": "code",
   "execution_count": 97,
   "metadata": {},
   "outputs": [],
   "source": [
    "model = AE(AE_dataset.dim)\n",
    "model.to(device)\n",
    "criterion = nn.MSELoss(reduction='mean')\n",
    "optimizer = torch.optim.SGD(model.parameters(), lr=lr, weight_decay=w_d)"
   ]
  },
  {
   "cell_type": "code",
   "execution_count": null,
   "metadata": {},
   "outputs": [],
   "source": [
    "# train model\n",
    "start = time.time()\n",
    "for epoch in range(epochs):\n",
    "    ep_start = time.time()\n",
    "    running_loss = 0.0\n",
    "    for bx, data in enumerate(train_dataloader):\n",
    "        bt = data[0]\n",
    "        sensor_time = data[1][0]\n",
    "        sample = model(bt.to(device))\n",
    "        loss = criterion(bt.to(device), sample) # calculate loss for input and recreated output\n",
    "        outlier_loss.append(loss.item()) # append loss to list\n",
    "        outlier_results.append([loss.item(),sensor_time]) # append loss, time and intersection to list\n",
    "        optimizer.zero_grad()\n",
    "        loss.backward()\n",
    "        optimizer.step()\n",
    "        running_loss += loss.item()\n",
    "        # # print average loss for every 25% batches\n",
    "        # if bx % int(AE_dataset.__len__()/4) == 0:\n",
    "        #     print('[EPOCH] {}/{}\\t[BATCH] {}/{}\\t[LOSS] {}'.format(epoch+1,epochs,bx+1,AE_dataset.__len__(),running_loss/(bx+1)))\n",
    "    epoch_loss = running_loss/AE_dataset.__len__()\n",
    "    metrics['train_loss'].append(epoch_loss)\n",
    "    ep_end = time.time()\n",
    "    print('-----------------------------------------------')\n",
    "    print('[EPOCH] {}/{}\\n[LOSS] {}'.format(epoch+1,epochs,epoch_loss))\n",
    "    print('Epoch Complete in {}'.format(timedelta(seconds=ep_end-ep_start)))\n",
    "end = time.time()\n",
    "print('-----------------------------------------------')\n",
    "print('[{} Training Completed: {}]'.format(intersection, timedelta(seconds=end-start)))"
   ]
  },
  {
   "cell_type": "code",
   "execution_count": 99,
   "metadata": {},
   "outputs": [
    {
     "data": {
      "text/plain": [
       "[<matplotlib.lines.Line2D at 0x2a79d5840>]"
      ]
     },
     "execution_count": 99,
     "metadata": {},
     "output_type": "execute_result"
    },
    {
     "data": {
      "image/png": "[encoded data removed]",
      "text/plain": [
       "<Figure size 1000x500 with 1 Axes>"
      ]
     },
     "metadata": {},
     "output_type": "display_data"
    }
   ],
   "source": [
    "_, ax = plt.subplots(1,1,figsize=(10,5))\n",
    "ax.set_title('Loss')\n",
    "ax.plot(outlier_loss)"
   ]
  },
  {
   "cell_type": "code",
   "execution_count": 100,
   "metadata": {},
   "outputs": [
    {
     "data": {
      "text/plain": [
       "0.08599166825413702"
      ]
     },
     "execution_count": 100,
     "metadata": {},
     "output_type": "execute_result"
    }
   ],
   "source": [
    "# get the top 5% of the loss values\n",
    "top_5_percent = np.percentile(outlier_loss, 97)\n",
    "top_5_percent"
   ]
  },
  {
   "cell_type": "code",
   "execution_count": 101,
   "metadata": {},
   "outputs": [
    {
     "data": {
      "text/plain": [
       "<matplotlib.lines.Line2D at 0x2a79c04c0>"
      ]
     },
     "execution_count": 101,
     "metadata": {},
     "output_type": "execute_result"
    },
    {
     "data": {
      "image/png": "[encoded data removed]",
      "text/plain": [
       "<Figure size 1200x600 with 1 Axes>"
      ]
     },
     "metadata": {},
     "output_type": "display_data"
    }
   ],
   "source": [
    "lower_threshold = 0.0\n",
    "upper_threshold = top_5_percent\n",
    "plt.figure(figsize=(12,6))\n",
    "plt.title('Loss Distribution')\n",
    "sns.distplot(outlier_loss,bins=100,kde=True, color='blue')\n",
    "plt.axvline(upper_threshold, 0.0, 10, color='r')\n",
    "plt.axvline(lower_threshold, 0.0, 10, color='b')"
   ]
  },
  {
   "cell_type": "code",
   "execution_count": 102,
   "metadata": {},
   "outputs": [
    {
     "data": {
      "text/plain": [
       "<Axes: >"
      ]
     },
     "execution_count": 102,
     "metadata": {},
     "output_type": "execute_result"
    },
    {
     "data": {
      "image/png": "[encoded data removed]",
      "text/plain": [
       "<Figure size 640x480 with 1 Axes>"
      ]
     },
     "metadata": {},
     "output_type": "display_data"
    }
   ],
   "source": [
    "sns.boxenplot(outlier_loss)"
   ]
  },
  {
   "cell_type": "code",
   "execution_count": 103,
   "metadata": {},
   "outputs": [
    {
     "data": {
      "text/html": [
       "<div>\n",
       "<style scoped>\n",
       "    .dataframe tbody tr th:only-of-type {\n",
       "        vertical-align: middle;\n",
       "    }\n",
       "\n",
       "    .dataframe tbody tr th {\n",
       "        vertical-align: top;\n",
       "    }\n",
       "\n",
       "    .dataframe thead th {\n",
       "        text-align: right;\n",
       "    }\n",
       "</style>\n",
       "<table border=\"1\" class=\"dataframe\">\n",
       "  <thead>\n",
       "    <tr style=\"text-align: right;\">\n",
       "      <th></th>\n",
       "      <th>K502</th>\n",
       "      <th>timestamp</th>\n",
       "    </tr>\n",
       "  </thead>\n",
       "  <tbody>\n",
       "    <tr>\n",
       "      <th>0</th>\n",
       "      <td>0.048843</td>\n",
       "      <td>2018-01-01 00:00:00</td>\n",
       "    </tr>\n",
       "    <tr>\n",
       "      <th>1</th>\n",
       "      <td>0.047579</td>\n",
       "      <td>2018-01-01 01:00:00</td>\n",
       "    </tr>\n",
       "    <tr>\n",
       "      <th>2</th>\n",
       "      <td>0.047945</td>\n",
       "      <td>2018-01-01 02:00:00</td>\n",
       "    </tr>\n",
       "    <tr>\n",
       "      <th>3</th>\n",
       "      <td>0.048071</td>\n",
       "      <td>2018-01-01 03:00:00</td>\n",
       "    </tr>\n",
       "    <tr>\n",
       "      <th>4</th>\n",
       "      <td>0.050888</td>\n",
       "      <td>2018-01-01 04:00:00</td>\n",
       "    </tr>\n",
       "  </tbody>\n",
       "</table>\n",
       "</div>"
      ],
      "text/plain": [
       "       K502            timestamp\n",
       "0  0.048843  2018-01-01 00:00:00\n",
       "1  0.047579  2018-01-01 01:00:00\n",
       "2  0.047945  2018-01-01 02:00:00\n",
       "3  0.048071  2018-01-01 03:00:00\n",
       "4  0.050888  2018-01-01 04:00:00"
      ]
     },
     "execution_count": 103,
     "metadata": {},
     "output_type": "execute_result"
    }
   ],
   "source": [
    "outlier_df = pd.DataFrame(outlier_results,columns=[intersection,'timestamp'])\n",
    "outlier_df.head()"
   ]
  },
  {
   "cell_type": "code",
   "execution_count": 106,
   "metadata": {},
   "outputs": [],
   "source": [
    "outlier_df['timestamp'] = pd.to_datetime(outlier_df['timestamp'])"
   ]
  },
  {
   "cell_type": "code",
   "execution_count": 107,
   "metadata": {},
   "outputs": [],
   "source": [
    "# make timestamp as index\n",
    "outlier_df.set_index('timestamp',inplace=True)"
   ]
  },
  {
   "cell_type": "code",
   "execution_count": 108,
   "metadata": {},
   "outputs": [
    {
     "data": {
      "text/html": [
       "<div>\n",
       "<style scoped>\n",
       "    .dataframe tbody tr th:only-of-type {\n",
       "        vertical-align: middle;\n",
       "    }\n",
       "\n",
       "    .dataframe tbody tr th {\n",
       "        vertical-align: top;\n",
       "    }\n",
       "\n",
       "    .dataframe thead th {\n",
       "        text-align: right;\n",
       "    }\n",
       "</style>\n",
       "<table border=\"1\" class=\"dataframe\">\n",
       "  <thead>\n",
       "    <tr style=\"text-align: right;\">\n",
       "      <th></th>\n",
       "      <th>K502</th>\n",
       "    </tr>\n",
       "    <tr>\n",
       "      <th>timestamp</th>\n",
       "      <th></th>\n",
       "    </tr>\n",
       "  </thead>\n",
       "  <tbody>\n",
       "    <tr>\n",
       "      <th>2018-01-01 00:00:00</th>\n",
       "      <td>0.048843</td>\n",
       "    </tr>\n",
       "    <tr>\n",
       "      <th>2018-01-01 01:00:00</th>\n",
       "      <td>0.047579</td>\n",
       "    </tr>\n",
       "    <tr>\n",
       "      <th>2018-01-01 02:00:00</th>\n",
       "      <td>0.047945</td>\n",
       "    </tr>\n",
       "    <tr>\n",
       "      <th>2018-01-01 03:00:00</th>\n",
       "      <td>0.048071</td>\n",
       "    </tr>\n",
       "    <tr>\n",
       "      <th>2018-01-01 04:00:00</th>\n",
       "      <td>0.050888</td>\n",
       "    </tr>\n",
       "    <tr>\n",
       "      <th>...</th>\n",
       "      <td>...</td>\n",
       "    </tr>\n",
       "    <tr>\n",
       "      <th>2018-01-27 04:00:00</th>\n",
       "      <td>0.043146</td>\n",
       "    </tr>\n",
       "    <tr>\n",
       "      <th>2018-01-27 05:00:00</th>\n",
       "      <td>0.040845</td>\n",
       "    </tr>\n",
       "    <tr>\n",
       "      <th>2018-01-27 06:00:00</th>\n",
       "      <td>0.040380</td>\n",
       "    </tr>\n",
       "    <tr>\n",
       "      <th>2018-01-27 07:00:00</th>\n",
       "      <td>0.039705</td>\n",
       "    </tr>\n",
       "    <tr>\n",
       "      <th>2018-01-27 08:00:00</th>\n",
       "      <td>0.039815</td>\n",
       "    </tr>\n",
       "  </tbody>\n",
       "</table>\n",
       "<p>604 rows × 1 columns</p>\n",
       "</div>"
      ],
      "text/plain": [
       "                         K502\n",
       "timestamp                    \n",
       "2018-01-01 00:00:00  0.048843\n",
       "2018-01-01 01:00:00  0.047579\n",
       "2018-01-01 02:00:00  0.047945\n",
       "2018-01-01 03:00:00  0.048071\n",
       "2018-01-01 04:00:00  0.050888\n",
       "...                       ...\n",
       "2018-01-27 04:00:00  0.043146\n",
       "2018-01-27 05:00:00  0.040845\n",
       "2018-01-27 06:00:00  0.040380\n",
       "2018-01-27 07:00:00  0.039705\n",
       "2018-01-27 08:00:00  0.039815\n",
       "\n",
       "[604 rows x 1 columns]"
      ]
     },
     "execution_count": 108,
     "metadata": {},
     "output_type": "execute_result"
    }
   ],
   "source": [
    "outlier_df"
   ]
  },
  {
   "cell_type": "code",
   "execution_count": 109,
   "metadata": {},
   "outputs": [],
   "source": [
    "AE_score_save_path = f\"../results/hauge/outlier_scores/AE/{intersection}.csv\""
   ]
  },
  {
   "cell_type": "code",
   "execution_count": 111,
   "metadata": {},
   "outputs": [],
   "source": [
    "outlier_df.to_csv(AE_score_save_path)"
   ]
  },
  {
   "cell_type": "code",
   "execution_count": 105,
   "metadata": {},
   "outputs": [
    {
     "data": {
      "text/plain": [
       "str"
      ]
     },
     "execution_count": 105,
     "metadata": {},
     "output_type": "execute_result"
    }
   ],
   "source": [
    "type(outlier_df['timestamp'][0])"
   ]
  },
  {
   "cell_type": "code",
   "execution_count": 64,
   "metadata": {},
   "outputs": [],
   "source": [
    "outlier_df['timestamp'] = outlier_df['timestamp'].apply(lambda x: x[0])\n",
    "outlier_df['intersection'] = outlier_df['intersection'].apply(lambda x: x[0])"
   ]
  },
  {
   "cell_type": "code",
   "execution_count": 65,
   "metadata": {},
   "outputs": [],
   "source": [
    "# create seperate columns for each intersection\n",
    "outlier_df_intersection = outlier_df.pivot(index='timestamp', columns='intersection', values='loss')"
   ]
  },
  {
   "cell_type": "code",
   "execution_count": 66,
   "metadata": {},
   "outputs": [
    {
     "data": {
      "image/png": "[encoded data removed]",
      "text/plain": [
       "<Figure size 640x480 with 2 Axes>"
      ]
     },
     "metadata": {},
     "output_type": "display_data"
    }
   ],
   "source": [
    "fig, ax = plt.subplots(facecolor='w')\n",
    "sns.heatmap(outlier_df_intersection.corr())\n",
    "plt.title(\"Correlations for T1 North\")\n",
    "plt.xlabel('Intersection')\n",
    "plt.ylabel('Intersection')\n",
    "plt.show()"
   ]
  },
  {
   "cell_type": "code",
   "execution_count": 89,
   "metadata": {},
   "outputs": [
    {
     "data": {
      "text/html": [
       "<div>\n",
       "<style scoped>\n",
       "    .dataframe tbody tr th:only-of-type {\n",
       "        vertical-align: middle;\n",
       "    }\n",
       "\n",
       "    .dataframe tbody tr th {\n",
       "        vertical-align: top;\n",
       "    }\n",
       "\n",
       "    .dataframe thead th {\n",
       "        text-align: right;\n",
       "    }\n",
       "</style>\n",
       "<table border=\"1\" class=\"dataframe\">\n",
       "  <thead>\n",
       "    <tr style=\"text-align: right;\">\n",
       "      <th>intersection</th>\n",
       "      <th>K198</th>\n",
       "      <th>K263</th>\n",
       "      <th>K502</th>\n",
       "      <th>K503</th>\n",
       "      <th>K504</th>\n",
       "      <th>K556</th>\n",
       "      <th>K557</th>\n",
       "      <th>K559</th>\n",
       "      <th>K561</th>\n",
       "    </tr>\n",
       "    <tr>\n",
       "      <th>intersection</th>\n",
       "      <th></th>\n",
       "      <th></th>\n",
       "      <th></th>\n",
       "      <th></th>\n",
       "      <th></th>\n",
       "      <th></th>\n",
       "      <th></th>\n",
       "      <th></th>\n",
       "      <th></th>\n",
       "    </tr>\n",
       "  </thead>\n",
       "  <tbody>\n",
       "    <tr>\n",
       "      <th>K198</th>\n",
       "      <td>1.000000</td>\n",
       "      <td>0.858969</td>\n",
       "      <td>0.855700</td>\n",
       "      <td>0.876821</td>\n",
       "      <td>0.941535</td>\n",
       "      <td>0.878711</td>\n",
       "      <td>0.885909</td>\n",
       "      <td>0.862261</td>\n",
       "      <td>0.873933</td>\n",
       "    </tr>\n",
       "    <tr>\n",
       "      <th>K263</th>\n",
       "      <td>0.858969</td>\n",
       "      <td>1.000000</td>\n",
       "      <td>0.979711</td>\n",
       "      <td>0.955008</td>\n",
       "      <td>0.957613</td>\n",
       "      <td>0.966272</td>\n",
       "      <td>0.965140</td>\n",
       "      <td>0.981208</td>\n",
       "      <td>0.971364</td>\n",
       "    </tr>\n",
       "    <tr>\n",
       "      <th>K502</th>\n",
       "      <td>0.855700</td>\n",
       "      <td>0.979711</td>\n",
       "      <td>1.000000</td>\n",
       "      <td>0.954824</td>\n",
       "      <td>0.964305</td>\n",
       "      <td>0.970087</td>\n",
       "      <td>0.967824</td>\n",
       "      <td>0.983142</td>\n",
       "      <td>0.972013</td>\n",
       "    </tr>\n",
       "    <tr>\n",
       "      <th>K503</th>\n",
       "      <td>0.876821</td>\n",
       "      <td>0.955008</td>\n",
       "      <td>0.954824</td>\n",
       "      <td>1.000000</td>\n",
       "      <td>0.940753</td>\n",
       "      <td>0.969787</td>\n",
       "      <td>0.968760</td>\n",
       "      <td>0.951527</td>\n",
       "      <td>0.955668</td>\n",
       "    </tr>\n",
       "    <tr>\n",
       "      <th>K504</th>\n",
       "      <td>0.941535</td>\n",
       "      <td>0.957613</td>\n",
       "      <td>0.964305</td>\n",
       "      <td>0.940753</td>\n",
       "      <td>1.000000</td>\n",
       "      <td>0.954502</td>\n",
       "      <td>0.956067</td>\n",
       "      <td>0.960595</td>\n",
       "      <td>0.955847</td>\n",
       "    </tr>\n",
       "    <tr>\n",
       "      <th>K556</th>\n",
       "      <td>0.878711</td>\n",
       "      <td>0.966272</td>\n",
       "      <td>0.970087</td>\n",
       "      <td>0.969787</td>\n",
       "      <td>0.954502</td>\n",
       "      <td>1.000000</td>\n",
       "      <td>0.993521</td>\n",
       "      <td>0.973729</td>\n",
       "      <td>0.976356</td>\n",
       "    </tr>\n",
       "    <tr>\n",
       "      <th>K557</th>\n",
       "      <td>0.885909</td>\n",
       "      <td>0.965140</td>\n",
       "      <td>0.967824</td>\n",
       "      <td>0.968760</td>\n",
       "      <td>0.956067</td>\n",
       "      <td>0.993521</td>\n",
       "      <td>1.000000</td>\n",
       "      <td>0.973787</td>\n",
       "      <td>0.975118</td>\n",
       "    </tr>\n",
       "    <tr>\n",
       "      <th>K559</th>\n",
       "      <td>0.862261</td>\n",
       "      <td>0.981208</td>\n",
       "      <td>0.983142</td>\n",
       "      <td>0.951527</td>\n",
       "      <td>0.960595</td>\n",
       "      <td>0.973729</td>\n",
       "      <td>0.973787</td>\n",
       "      <td>1.000000</td>\n",
       "      <td>0.982927</td>\n",
       "    </tr>\n",
       "    <tr>\n",
       "      <th>K561</th>\n",
       "      <td>0.873933</td>\n",
       "      <td>0.971364</td>\n",
       "      <td>0.972013</td>\n",
       "      <td>0.955668</td>\n",
       "      <td>0.955847</td>\n",
       "      <td>0.976356</td>\n",
       "      <td>0.975118</td>\n",
       "      <td>0.982927</td>\n",
       "      <td>1.000000</td>\n",
       "    </tr>\n",
       "  </tbody>\n",
       "</table>\n",
       "</div>"
      ],
      "text/plain": [
       "intersection      K198      K263      K502      K503      K504      K556  \\\n",
       "intersection                                                               \n",
       "K198          1.000000  0.858969  0.855700  0.876821  0.941535  0.878711   \n",
       "K263          0.858969  1.000000  0.979711  0.955008  0.957613  0.966272   \n",
       "K502          0.855700  0.979711  1.000000  0.954824  0.964305  0.970087   \n",
       "K503          0.876821  0.955008  0.954824  1.000000  0.940753  0.969787   \n",
       "K504          0.941535  0.957613  0.964305  0.940753  1.000000  0.954502   \n",
       "K556          0.878711  0.966272  0.970087  0.969787  0.954502  1.000000   \n",
       "K557          0.885909  0.965140  0.967824  0.968760  0.956067  0.993521   \n",
       "K559          0.862261  0.981208  0.983142  0.951527  0.960595  0.973729   \n",
       "K561          0.873933  0.971364  0.972013  0.955668  0.955847  0.976356   \n",
       "\n",
       "intersection      K557      K559      K561  \n",
       "intersection                                \n",
       "K198          0.885909  0.862261  0.873933  \n",
       "K263          0.965140  0.981208  0.971364  \n",
       "K502          0.967824  0.983142  0.972013  \n",
       "K503          0.968760  0.951527  0.955668  \n",
       "K504          0.956067  0.960595  0.955847  \n",
       "K556          0.993521  0.973729  0.976356  \n",
       "K557          1.000000  0.973787  0.975118  \n",
       "K559          0.973787  1.000000  0.982927  \n",
       "K561          0.975118  0.982927  1.000000  "
      ]
     },
     "execution_count": 89,
     "metadata": {},
     "output_type": "execute_result"
    }
   ],
   "source": [
    "corr_df = outlier_df_intersection.corr()\n",
    "corr_df"
   ]
  },
  {
   "attachments": {},
   "cell_type": "markdown",
   "metadata": {},
   "source": [
    "### Comments over correlated intersections\n",
    "- Except K198 all intersections are highly correlated\n",
    "- hard to get the intution as the feature vector is - **[fpds + hourofday+ weekofday + intersectoion]**"
   ]
  },
  {
   "cell_type": "code",
   "execution_count": 91,
   "metadata": {},
   "outputs": [
    {
     "data": {
      "text/plain": [
       "intersection\n",
       "K198    Index(['K504', 'K557', 'K556'], dtype='object'...\n",
       "K263    Index(['K559', 'K502', 'K561'], dtype='object'...\n",
       "K502    Index(['K559', 'K263', 'K561'], dtype='object'...\n",
       "K503    Index(['K556', 'K557', 'K561'], dtype='object'...\n",
       "K504    Index(['K502', 'K559', 'K263'], dtype='object'...\n",
       "K556    Index(['K557', 'K561', 'K559'], dtype='object'...\n",
       "K557    Index(['K556', 'K561', 'K559'], dtype='object'...\n",
       "K559    Index(['K502', 'K561', 'K263'], dtype='object'...\n",
       "K561    Index(['K559', 'K556', 'K557'], dtype='object'...\n",
       "dtype: object"
      ]
     },
     "execution_count": 91,
     "metadata": {},
     "output_type": "execute_result"
    }
   ],
   "source": [
    "# for each intersection, get the top 3 correlated intersections\n",
    "top_3_corr = corr_df.apply(lambda x: x.sort_values(ascending=False).index[1:4], axis=1)\n",
    "top_3_corr"
   ]
  },
  {
   "cell_type": "code",
   "execution_count": null,
   "metadata": {},
   "outputs": [],
   "source": []
  },
  {
   "cell_type": "code",
   "execution_count": null,
   "metadata": {},
   "outputs": [],
   "source": []
  }
 ],
 "metadata": {
  "kernelspec": {
   "display_name": "OWRI",
   "language": "python",
   "name": "python3"
  },
  "language_info": {
   "codemirror_mode": {
    "name": "ipython",
    "version": 3
   },
   "file_extension": ".py",
   "mimetype": "text/x-python",
   "name": "python",
   "nbconvert_exporter": "python",
   "pygments_lexer": "ipython3",
   "version": "3.9.16"
  },
  "orig_nbformat": 4
 },
 "nbformat": 4,
 "nbformat_minor": 2
}
