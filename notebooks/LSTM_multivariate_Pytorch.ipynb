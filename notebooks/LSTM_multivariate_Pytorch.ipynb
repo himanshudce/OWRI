{
 "cells": [
  {
   "cell_type": "code",
   "execution_count": 1,
   "metadata": {},
   "outputs": [],
   "source": [
    "import keras\n",
    "import math\n",
    "import pandas as pd\n",
    "import numpy as np\n",
    "from keras.callbacks import EarlyStopping\n",
    "from sklearn.model_selection import train_test_split\n",
    "from sklearn.model_selection import GridSearchCV\n",
    "from sklearn.preprocessing import StandardScaler\n",
    "from sklearn.metrics import roc_auc_score\n",
    "import matplotlib.pyplot as plt\n",
    "from sklearn.metrics import mean_squared_error, mean_absolute_error\n",
    "import time\n",
    "from torch.utils.data import Dataset, DataLoader\n",
    "import pickle\n",
    "pd.set_option('display.max_rows', 500)\n",
    "import os\n",
    "import tensorflow as tf\n",
    "import torch\n",
    "import torch.nn as nn\n",
    "from math import sqrt\n",
    "# import rmse from sklearn\n",
    "from sklearn.metrics import mean_squared_error\n",
    "\n",
    "\n",
    "# define random seeds for Neural Networks\n",
    "torch.manual_seed(0)\n",
    "np.random.seed(0)\n",
    "tf.random.set_seed(0)\n",
    "# ignore warnings jupyter notebook\n",
    "import warnings\n",
    "warnings.filterwarnings('ignore')"
   ]
  },
  {
   "attachments": {},
   "cell_type": "markdown",
   "metadata": {},
   "source": [
    "# OWRI FRAMEWORK"
   ]
  },
  {
   "cell_type": "code",
   "execution_count": 2,
   "metadata": {},
   "outputs": [],
   "source": [
    "# results save path\n",
    "base_result_path = '../results/METR-LA/LSTM'\n",
    "exp_name = 'multivariate_AE_weighted_vector_real_time_results.pkl'\n",
    "results_save_path = os.path.join(base_result_path, exp_name)"
   ]
  },
  {
   "cell_type": "code",
   "execution_count": 3,
   "metadata": {},
   "outputs": [],
   "source": [
    "with open('../data/METR-LA/METR_OWRI/featured_fpds_raw.pickle', 'rb') as f:\n",
    "    results = pickle.load(f)"
   ]
  },
  {
   "cell_type": "code",
   "execution_count": 4,
   "metadata": {},
   "outputs": [],
   "source": [
    "# load data of correlated results from pickle file\n",
    "with open('../results/METR-LA/outlier_scores/AE/correlated_results.pickle', 'rb') as f:\n",
    "    correlated_results = pickle.load(f)"
   ]
  },
  {
   "cell_type": "code",
   "execution_count": 5,
   "metadata": {},
   "outputs": [],
   "source": [
    "def merge_trejectory_data(results, trajectory, direction):\n",
    "    data = pd.DataFrame()\n",
    "    for intersection_name in results[trajectory][direction]['raw']:\n",
    "        intersection = results[trajectory][direction]['raw'][intersection_name]\n",
    "        intersection = intersection.rename(columns={\"cars\": intersection_name})\n",
    "        intersection = intersection.set_index(pd.DatetimeIndex(intersection['timestamp']))\n",
    "        intersection = intersection.drop(columns=['timestamp'])\n",
    "        data = pd.merge(data, intersection, left_index=True, right_index=True, how='outer')\n",
    "    data.dropna(inplace=True)\n",
    "    return data"
   ]
  },
  {
   "cell_type": "code",
   "execution_count": 6,
   "metadata": {},
   "outputs": [],
   "source": [
    "def merge_trejectory_data_metr(results):\n",
    "    data = pd.DataFrame()\n",
    "    for intersection_name in results['raw']:\n",
    "        intersection = results['raw'][intersection_name]\n",
    "        intersection = intersection.rename(columns={\"cars\": intersection_name})\n",
    "        intersection = intersection.set_index(pd.DatetimeIndex(intersection['timestamp']))\n",
    "        intersection = intersection.drop(columns=['timestamp'])\n",
    "        data = pd.merge(data, intersection, left_index=True, right_index=True, how='outer')\n",
    "    data.dropna(inplace=True)\n",
    "    return data"
   ]
  },
  {
   "cell_type": "code",
   "execution_count": 7,
   "metadata": {},
   "outputs": [],
   "source": [
    "def add_top_corr_features(data, top_corr_df):\n",
    "    arr1 = []\n",
    "    for i in range(data.shape[0]):\n",
    "        arr2 = []\n",
    "        for j in range(data.shape[1]):\n",
    "            temp = data[i][j].reshape(-1,1) * top_corr_df.values\n",
    "            temp = temp.reshape(-1)\n",
    "            arr2.append(temp)\n",
    "        arr1.append(np.array(arr2))\n",
    "    return np.array(arr1)"
   ]
  },
  {
   "cell_type": "code",
   "execution_count": 8,
   "metadata": {},
   "outputs": [],
   "source": [
    "def preprocess_df(df,top_corr_df, n_obs, n_features, sequence_length):\n",
    "    #do scaling:\n",
    "    scaler = StandardScaler()\n",
    "    train_portion = 0.8\n",
    "    test_portion = 0.2\n",
    "    df_train = df[:math.ceil(len(df)*train_portion)].values\n",
    "    df_test = df[math.ceil(len(df)*(train_portion)):].values\n",
    "    train_X, train_y = df_train[:, :n_obs], df_train[:, -n_features:]\n",
    "    test_X, test_y = df_test[:, :n_obs], df_test[:, -n_features:]\n",
    "    scl = scaler.fit(train_X) # fit only on training data\n",
    "    train_X = scl.transform(train_X)\n",
    "    test_X = scl.transform(test_X)\n",
    "    train_X = train_X.reshape((train_X.shape[0], sequence_length, n_features))\n",
    "    test_X = test_X.reshape((test_X.shape[0], sequence_length, n_features))\n",
    "\n",
    "    # add top correlated features weighted sum\n",
    "    train_X = add_top_corr_features(train_X, top_corr_df)\n",
    "    test_X = add_top_corr_features(test_X, top_corr_df)\n",
    "\n",
    "\n",
    "    # # add top correlated features as it is \n",
    "    # corr_array = top_corr_df.values\n",
    "    # corr_tiled_train = np.tile(corr_array, (train_X.shape[0], sequence_length, 1, 1))\n",
    "    # corr_tiled_test = np.tile(corr_array, (test_X.shape[0], sequence_length, 1, 1))\n",
    "    # train_X = np.concatenate([train_X[:, :, :, np.newaxis], corr_tiled_train], axis=3) # add outlier dimension\n",
    "    # train_X = train_X.reshape(train_X.shape[0],train_X.shape[1],-1) # reshape to 3D\n",
    "    # test_X = np.concatenate([test_X[:, :, :, np.newaxis], corr_tiled_test], axis=3) # add outlier dimension\n",
    "    # test_X = test_X.reshape(test_X.shape[0],test_X.shape[1],-1) # reshape to 3D\n",
    "\n",
    "    return train_X, train_y, test_X, test_y, scaler"
   ]
  },
  {
   "cell_type": "code",
   "execution_count": 9,
   "metadata": {},
   "outputs": [],
   "source": [
    "def series_to_supervised(data, n_in=1, n_out=1, dropnan=True):\n",
    "\tn_vars = 1 if type(data) is list else data.shape[1]\n",
    "\tdf = pd.DataFrame(data)\n",
    "\tcols, names = list(), list()\n",
    "\t# input sequence (t-n, ... t-1)\n",
    "\tfor i in range(n_in, 0, -1):\n",
    "\t\tcols.append(df.shift(i))\n",
    "\t\tnames += [('var%d(t-%d)' % (j+1, i)) for j in range(n_vars)]\n",
    "\t# forecast sequence (t, t+1, ... t+n)\n",
    "\tfor i in range(0, n_out):\n",
    "\t\tcols.append(df.shift(-i))\n",
    "\t\tif i == 0:\n",
    "\t\t\tnames += [('var%d(t)' % (j+1)) for j in range(n_vars)]\n",
    "\t\telse:\n",
    "\t\t\tnames += [('var%d(t+%d)' % (j+1, i)) for j in range(n_vars)]\n",
    "\t# put it all together\n",
    "\tagg = pd.concat(cols, axis=1)\n",
    "\tagg.columns = names\n",
    "\t# drop rows with NaN values\n",
    "\tif dropnan:\n",
    "\t\tagg.dropna(inplace=True)\n",
    "\treturn agg"
   ]
  },
  {
   "cell_type": "code",
   "execution_count": 10,
   "metadata": {},
   "outputs": [],
   "source": [
    "def get_top_corr_features(top_corr_df, top_k_col):\n",
    "    # create new coorelation df with top k correlated intersections for each intersection\n",
    "    new_corr_df = []\n",
    "    for col in top_corr_df.columns:\n",
    "        new_corr_df.append(top_corr_df[col].sort_values(ascending=False)[:top_k_col].values)\n",
    "    new_corr_df = pd.DataFrame(new_corr_df, index=top_corr_df.columns)\n",
    "    return new_corr_df"
   ]
  },
  {
   "cell_type": "code",
   "execution_count": 11,
   "metadata": {},
   "outputs": [],
   "source": [
    "class LSTM_uni(nn.Module):\n",
    "    def __init__(self, input_dim, hidden_dim, output_dim, device = 'mps',layer_dim=1, dropout_prob = 0.2):\n",
    "        super(LSTM_uni, self).__init__()\n",
    "        self.hidden_dim = hidden_dim # number of hidden units in hidden state\n",
    "        self.layer_dim = layer_dim # number of stacked lstm layers\n",
    "        # batch_first=True causes input/output tensors to be of shape\n",
    "        # (batch_dim, seq_dim, feature_dim)\n",
    "        self.lstm = nn.LSTM(input_dim, hidden_dim, layer_dim, batch_first=True, dropout=dropout_prob)\n",
    "        self.fc = nn.Linear(hidden_dim, output_dim) # fully connected layer\n",
    "\n",
    "    def forward(self, x, future=False):\n",
    "        # input x is expected to be of shape (batch_dim, seq_dim, feature_dim)\n",
    "        # hidden and cell states are expected along with input x in LSTMs = (h_0, c_0)\n",
    "        # Initialize hidden state with zeros (layer_dim, batch_size, hidden_dim)\n",
    "        h0 = torch.zeros(self.layer_dim, x.size(0), self.hidden_dim, device=device).requires_grad_()\n",
    "        c0 = torch.zeros(self.layer_dim, x.size(0), self.hidden_dim, device=device).requires_grad_()\n",
    "        # LSTM output is Outputs: output, (h_n, c_n)\n",
    "        # output is of shape (batch_dim, seq_dim, hidden_dim), h_n and c_n are of shape (layer_dim, batch_dim, hidden_dim)\n",
    "        out, (hn, cn) = self.lstm(x, (h0.detach(), c0.detach()))\n",
    "        out = out[:, -1, :] # only take the last output of the sequence\n",
    "        out = self.fc(out) # fully connected layer\n",
    "        return out"
   ]
  },
  {
   "cell_type": "code",
   "execution_count": 12,
   "metadata": {},
   "outputs": [],
   "source": [
    "def train_model(model, train_X,train_y, loss_fn, optimiser, device, batch_size, epochs=250):\n",
    "    history = {}\n",
    "    history['train_loss'] = []\n",
    "\n",
    "    train_X_loader = DataLoader(train_X, batch_size=batch_size, shuffle=False)\n",
    "    train_y_loader = DataLoader(train_y, batch_size=batch_size, shuffle=False)\n",
    "\n",
    "    for epoch in range(epochs):\n",
    "        history[epoch] = []\n",
    "        ep_start = time.time()\n",
    "        running_loss = 0.0\n",
    "        for bx, data in enumerate(zip(train_X_loader,train_y_loader)):\n",
    "            X = data[0].to(device)\n",
    "            y = data[1].to(device)\n",
    "            bt = model(X)\n",
    "            loss = loss_fn(bt.reshape(-1), y.reshape(-1)) # calculate loss for input and recreated output\n",
    "            history[epoch].append(loss.item())\n",
    "            optimiser.zero_grad()\n",
    "            loss.backward()\n",
    "            optimiser.step()\n",
    "            running_loss += loss.item()\n",
    "        epoch_loss = running_loss/train_X.shape[0]\n",
    "        history['train_loss'].append(epoch_loss)\n",
    "\n",
    "    return history\n",
    "    "
   ]
  },
  {
   "cell_type": "code",
   "execution_count": 13,
   "metadata": {},
   "outputs": [],
   "source": [
    "def model_evaluation( model, test_X, device):\n",
    "    test_X_loader = DataLoader(test_X, batch_size=64, shuffle=False)\n",
    "    model = model.eval()\n",
    "    preds = []\n",
    "    with torch.no_grad():\n",
    "        for bx, data in enumerate(test_X_loader):\n",
    "            X = data.to(device)\n",
    "            bt = model(X)\n",
    "            preds.append(bt.cpu().numpy())\n",
    "    preds = np.vstack(preds)\n",
    "    return preds"
   ]
  },
  {
   "cell_type": "code",
   "execution_count": 14,
   "metadata": {},
   "outputs": [],
   "source": [
    "def preprocess_df_2(df,ae_score):\n",
    "    weighted_ls = []\n",
    "    correlated_AE = ae_score.corr().values\n",
    "    for idx, row in df.iterrows():\n",
    "        weighted_ls.append(np.sum(row.values*correlated_AE, axis=1))\n",
    "    weighted_df = pd.DataFrame(weighted_ls, columns=df.columns)\n",
    "    return weighted_df"
   ]
  },
  {
   "cell_type": "code",
   "execution_count": 15,
   "metadata": {},
   "outputs": [],
   "source": [
    "# declare variables\n",
    "# thresholds = [0,0.25,0.5,0.75,1]\n",
    "thresholds = [0.25]\n",
    "epoch = 100\n",
    "batch_size = 64\n",
    "learning_rate = 0.1\n",
    "hidden_size = 32\n",
    "num_layers = 1\n",
    "dropout = 0.2\n",
    "sequence_length = 12\n",
    "output_pred = 1 # number of time steps to predict\n",
    "device = 'mps' if torch.backends.mps.is_available() else 'cpu'"
   ]
  },
  {
   "cell_type": "code",
   "execution_count": 16,
   "metadata": {},
   "outputs": [],
   "source": [
    "# errors={}  # define a dictionary to store the errors\n",
    "# dfs={} # Define a dictionary to store the dataframes\n",
    "# errors = {} # Define a dictionary to store the errors\n",
    "# intersection_arrays = [] # Define a list to store the intersection arrays\n",
    "# for trajectory in results.keys(): # Loop over all trajectories\n",
    "#     print(\"\\nStarting trajectory: {}\".format(trajectory))  \n",
    "#     # Define a dictionary to store the errors for this trajectory\n",
    "#     errors[trajectory]={}\n",
    "#     # Loop over all directions\n",
    "#     for direction in results[trajectory]:\n",
    "#         print(\"\\nStarting direction: {}\".format(direction))\n",
    "#         # Define a dictionary to store the errors for this trajectory and direction\n",
    "#         errors[trajectory][direction]={}\n",
    "#         # Loop over all thresholds\n",
    "#         for threshold in thresholds:\n",
    "#             print(\"Starting threshold: {}\".format(threshold))\n",
    "#             # Define a dictionary to store the errors for this trajectory, direction, and threshold\n",
    "#             errors[trajectory][direction][threshold]={}\n",
    "#             # ------------------------------------ data processing ---------------------------------------- #\n",
    "#             df = merge_trejectory_data(results, trajectory, direction)# get raw data of the current trajectory and direction\n",
    "#             ae_score = correlated_results[trajectory][direction] # AE scores of the current trajectory and direction\n",
    "#             top_k_col = math.ceil(len(ae_score.columns)*threshold) # number of outlier weighted intersections to use\n",
    "#             if top_k_col==0: # if threshold is 0, then use the target intersection only\n",
    "#                 top_k_col=1\n",
    "#             top_corr_df = ae_score.corr()[df.columns.to_list()] # rearrange the correlation matrix\n",
    "#             top_corr_df = get_top_corr_features(top_corr_df, top_k_col) # get the top k correlated intersections\n",
    "#             n_features = len(df.columns) # number of features (correlated intersections)\n",
    "#             n_obs = sequence_length * n_features # number of columns in the input\n",
    "#             # weighted_df = preprocess_df_2(df,ae_score)\n",
    "#             reframed = series_to_supervised(df, sequence_length, output_pred)\n",
    "#             train_X, train_y, test_X, test_y, scl = preprocess_df(reframed,top_corr_df, n_obs, n_features, sequence_length)\n",
    "#             train_X, train_y, test_X, test_y = train_X.astype('float32'), train_y.astype('float32'), test_X.astype('float32'), test_y.astype('float32')\n",
    "\n",
    "\n",
    "#             # # # ------------------------------------ modelling ---------------------------------------------- #\n",
    "#             # define model, loss function and optimizer\n",
    "#             model = LSTM_uni(input_dim = train_X.shape[-1], hidden_dim = hidden_size, layer_dim = num_layers, output_dim = train_y.shape[1], dropout_prob= dropout)\n",
    "#             model = model.to(device)\n",
    "#             loss_fn = torch.nn.MSELoss()\n",
    "#             optimiser = torch.optim.Adam(model.parameters(), lr=learning_rate)\n",
    "#             start = time.time()\n",
    "#             history = train_model(model, train_X,train_y, loss_fn, optimiser, device, batch_size = batch_size, epochs=epoch)\n",
    "#             end = time.time()\n",
    "#             print(\"Training time: {}\".format(end-start))\n",
    "\n",
    "#             # ------------------------------------ evaluation ---------------------------------------------- #\n",
    "#             yhat = model_evaluation(model, test_X , device)\n",
    "#             errors[trajectory][direction][threshold]['RMSE'] = sqrt(mean_squared_error(yhat,test_y))\n",
    "#             errors[trajectory][direction][threshold]['MAE'] = mean_absolute_error(yhat,test_y)\n",
    "#             errors[trajectory][direction][threshold]['history'] = history\n",
    "#             errors[trajectory][direction][threshold]['df'] = {\"Real\":test_y,\"Predicted\":yhat}\n",
    "#             errors[trajectory][direction][threshold]['train_time'] = end-start\n",
    "#             print(\"RMSE: {}\".format(errors[trajectory][direction][threshold]['RMSE']))\n",
    "\n",
    "\n",
    "# # save errors in save path as pickle file\n",
    "# with open(results_save_path, 'wb') as handle:\n",
    "#     pickle.dump(errors, handle)"
   ]
  },
  {
   "cell_type": "code",
   "execution_count": 17,
   "metadata": {},
   "outputs": [
    {
     "name": "stdout",
     "output_type": "stream",
     "text": [
      "Starting threshold: 0.25\n"
     ]
    },
    {
     "ename": "",
     "evalue": "",
     "output_type": "error",
     "traceback": [
      "\u001b[1;31mCanceled future for execute_request message before replies were done"
     ]
    },
    {
     "ename": "",
     "evalue": "",
     "output_type": "error",
     "traceback": [
      "\u001b[1;31mThe Kernel crashed while executing code in the the current cell or a previous cell. Please review the code in the cell(s) to identify a possible cause of the failure. Click <a href='https://aka.ms/vscodeJupyterKernelCrash'>here</a> for more info. View Jupyter <a href='command:jupyter.viewOutput'>log</a> for further details."
     ]
    }
   ],
   "source": [
    "errors={}  # define a dictionary to store the errors\n",
    "dfs={} # Define a dictionary to store the dataframes\n",
    "errors = {} # Define a dictionary to store the errors\n",
    "intersection_arrays = [] # Define a list to store the intersection arrays\n",
    "for threshold in thresholds:\n",
    "    print(\"Starting threshold: {}\".format(threshold))\n",
    "    # Define a dictionary to store the errors for this trajectory, direction, and threshold\n",
    "    errors[threshold]={}\n",
    "    # ------------------------------------ data processing ---------------------------------------- #\n",
    "    df = merge_trejectory_data_metr(results)# get raw data of the current trajectory and direction\n",
    "    ae_score = correlated_results['df'] # AE scores of the current trajectory and direction\n",
    "    top_k_col = math.ceil(len(ae_score.columns)*threshold) # number of outlier weighted intersections to use\n",
    "    if top_k_col==0: # if threshold is 0, then use the target intersection only\n",
    "        top_k_col=1\n",
    "    top_corr_df = ae_score.corr()[df.columns.to_list()] # rearrange the correlation matrix\n",
    "    top_corr_df = get_top_corr_features(top_corr_df, top_k_col) # get the top k correlated intersections\n",
    "    n_features = len(df.columns) # number of features (correlated intersections)\n",
    "    n_obs = sequence_length * n_features # number of columns in the input\n",
    "    # # weighted_df = preprocess_df_2(df,ae_score)\n",
    "    reframed = series_to_supervised(df, sequence_length, output_pred)\n",
    "    train_X, train_y, test_X, test_y, scl = preprocess_df(reframed,top_corr_df, n_obs, n_features, sequence_length)\n",
    "    train_X, train_y, test_X, test_y = train_X.astype('float32'), train_y.astype('float32'), test_X.astype('float32'), test_y.astype('float32')\n",
    "    break\n",
    "\n",
    "#     # # # ------------------------------------ modelling ---------------------------------------------- #\n",
    "#     # define model, loss function and optimizer\n",
    "#     model = LSTM_uni(input_dim = train_X.shape[-1], hidden_dim = hidden_size, layer_dim = num_layers, output_dim = train_y.shape[1], dropout_prob= dropout)\n",
    "#     model = model.to(device)\n",
    "#     loss_fn = torch.nn.MSELoss()\n",
    "#     optimiser = torch.optim.Adam(model.parameters(), lr=learning_rate)\n",
    "#     start = time.time()\n",
    "#     history = train_model(model, train_X,train_y, loss_fn, optimiser, device, batch_size = batch_size, epochs=epoch)\n",
    "#     end = time.time()\n",
    "#     print(\"Training time: {}\".format(end-start))\n",
    "\n",
    "#     # ------------------------------------ evaluation ---------------------------------------------- #\n",
    "#     yhat = model_evaluation(model, test_X , device)\n",
    "#     errors[threshold]['RMSE'] = sqrt(mean_squared_error(yhat,test_y))\n",
    "#     errors[threshold]['MAE'] = mean_absolute_error(yhat,test_y)\n",
    "#     errors[threshold]['history'] = history\n",
    "#     errors[threshold]['df'] = {\"Real\":test_y,\"Predicted\":yhat}\n",
    "#     errors[threshold]['train_time'] = end-start\n",
    "#     print(\"RMSE: {}\".format(errors[threshold]['RMSE']))\n",
    "\n",
    "\n",
    "# # save errors in save path as pickle file\n",
    "# with open(results_save_path, 'wb') as handle:\n",
    "#     pickle.dump(errors, handle)"
   ]
  },
  {
   "cell_type": "code",
   "execution_count": null,
   "metadata": {},
   "outputs": [],
   "source": []
  },
  {
   "cell_type": "code",
   "execution_count": 165,
   "metadata": {},
   "outputs": [],
   "source": [
    "# load data of correlated results from pickle file\n",
    "with open('../results/hauge/LSTM/', 'rb') as f:\n",
    "    errors = pickle.load(f)"
   ]
  },
  {
   "cell_type": "code",
   "execution_count": 166,
   "metadata": {},
   "outputs": [],
   "source": [
    "AE_results={}\n",
    "for trajectory in errors.keys():\n",
    "    for direction in errors[trajectory].keys():\n",
    "        for threshold in errors[trajectory][direction].keys():\n",
    "            AE_results[trajectory+'_'+direction+'_'+str(threshold)] = errors[trajectory][direction][threshold]['MAE']"
   ]
  },
  {
   "cell_type": "code",
   "execution_count": 161,
   "metadata": {},
   "outputs": [
    {
     "data": {
      "text/plain": [
       "{'T1_North_1': 8.473589,\n",
       " 'T1_South_1': 9.20982,\n",
       " 'T2_South_1': 7.1821027,\n",
       " 'T2_North_1': 7.388921}"
      ]
     },
     "execution_count": 161,
     "metadata": {},
     "output_type": "execute_result"
    }
   ],
   "source": [
    "AE_results"
   ]
  },
  {
   "cell_type": "code",
   "execution_count": 164,
   "metadata": {},
   "outputs": [
    {
     "data": {
      "text/plain": [
       "{'T1_North_0': 9.160221,\n",
       " 'T1_North_0.25': 9.257724,\n",
       " 'T1_North_0.5': 9.112778,\n",
       " 'T1_North_0.75': 9.51287,\n",
       " 'T1_North_1': 9.193073,\n",
       " 'T1_South_0': 10.248888,\n",
       " 'T1_South_0.25': 9.90335,\n",
       " 'T1_South_0.5': 10.204169,\n",
       " 'T1_South_0.75': 10.108185,\n",
       " 'T1_South_1': 10.322937,\n",
       " 'T2_South_0': 8.0753,\n",
       " 'T2_South_0.25': 7.7263927,\n",
       " 'T2_South_0.5': 7.820727,\n",
       " 'T2_South_0.75': 7.7311473,\n",
       " 'T2_South_1': 7.762887,\n",
       " 'T2_North_0': 8.186727,\n",
       " 'T2_North_0.25': 7.9963584,\n",
       " 'T2_North_0.5': 8.1758,\n",
       " 'T2_North_0.75': 8.200523,\n",
       " 'T2_North_1': 8.174169}"
      ]
     },
     "execution_count": 164,
     "metadata": {},
     "output_type": "execute_result"
    }
   ],
   "source": [
    "AE_results"
   ]
  },
  {
   "cell_type": "code",
   "execution_count": 167,
   "metadata": {},
   "outputs": [
    {
     "data": {
      "text/plain": [
       "{'T1_North_1': 16.459387,\n",
       " 'T1_South_1': 20.433876,\n",
       " 'T2_South_1': 11.701148,\n",
       " 'T2_North_1': 12.529651}"
      ]
     },
     "execution_count": 167,
     "metadata": {},
     "output_type": "execute_result"
    }
   ],
   "source": [
    "AE_results"
   ]
  },
  {
   "cell_type": "code",
   "execution_count": null,
   "metadata": {},
   "outputs": [],
   "source": []
  },
  {
   "cell_type": "code",
   "execution_count": 55,
   "metadata": {},
   "outputs": [
    {
     "data": {
      "text/html": [
       "<div>\n",
       "<style scoped>\n",
       "    .dataframe tbody tr th:only-of-type {\n",
       "        vertical-align: middle;\n",
       "    }\n",
       "\n",
       "    .dataframe tbody tr th {\n",
       "        vertical-align: top;\n",
       "    }\n",
       "\n",
       "    .dataframe thead th {\n",
       "        text-align: right;\n",
       "    }\n",
       "</style>\n",
       "<table border=\"1\" class=\"dataframe\">\n",
       "  <thead>\n",
       "    <tr style=\"text-align: right;\">\n",
       "      <th></th>\n",
       "      <th>0</th>\n",
       "      <th>1</th>\n",
       "      <th>2</th>\n",
       "      <th>3</th>\n",
       "      <th>4</th>\n",
       "      <th>5</th>\n",
       "      <th>6</th>\n",
       "      <th>7</th>\n",
       "    </tr>\n",
       "  </thead>\n",
       "  <tbody>\n",
       "    <tr>\n",
       "      <th>K704</th>\n",
       "      <td>1.0</td>\n",
       "      <td>0.364034</td>\n",
       "      <td>0.342004</td>\n",
       "      <td>0.322520</td>\n",
       "      <td>0.317705</td>\n",
       "      <td>0.289905</td>\n",
       "      <td>0.274220</td>\n",
       "      <td>0.269615</td>\n",
       "    </tr>\n",
       "    <tr>\n",
       "      <th>K702</th>\n",
       "      <td>1.0</td>\n",
       "      <td>0.381637</td>\n",
       "      <td>0.274220</td>\n",
       "      <td>0.223593</td>\n",
       "      <td>0.195563</td>\n",
       "      <td>0.193108</td>\n",
       "      <td>0.165949</td>\n",
       "      <td>0.165231</td>\n",
       "    </tr>\n",
       "    <tr>\n",
       "      <th>K703</th>\n",
       "      <td>1.0</td>\n",
       "      <td>0.381637</td>\n",
       "      <td>0.364034</td>\n",
       "      <td>0.301384</td>\n",
       "      <td>0.282673</td>\n",
       "      <td>0.281325</td>\n",
       "      <td>0.280306</td>\n",
       "      <td>0.265226</td>\n",
       "    </tr>\n",
       "    <tr>\n",
       "      <th>K159</th>\n",
       "      <td>1.0</td>\n",
       "      <td>0.342004</td>\n",
       "      <td>0.282673</td>\n",
       "      <td>0.261087</td>\n",
       "      <td>0.259515</td>\n",
       "      <td>0.251675</td>\n",
       "      <td>0.237229</td>\n",
       "      <td>0.235254</td>\n",
       "    </tr>\n",
       "    <tr>\n",
       "      <th>K182</th>\n",
       "      <td>1.0</td>\n",
       "      <td>0.289905</td>\n",
       "      <td>0.281325</td>\n",
       "      <td>0.264719</td>\n",
       "      <td>0.259515</td>\n",
       "      <td>0.259074</td>\n",
       "      <td>0.247584</td>\n",
       "      <td>0.242283</td>\n",
       "    </tr>\n",
       "    <tr>\n",
       "      <th>K183</th>\n",
       "      <td>1.0</td>\n",
       "      <td>0.286915</td>\n",
       "      <td>0.264719</td>\n",
       "      <td>0.255097</td>\n",
       "      <td>0.251795</td>\n",
       "      <td>0.251675</td>\n",
       "      <td>0.245020</td>\n",
       "      <td>0.234203</td>\n",
       "    </tr>\n",
       "    <tr>\n",
       "      <th>K128</th>\n",
       "      <td>1.0</td>\n",
       "      <td>0.183039</td>\n",
       "      <td>0.164001</td>\n",
       "      <td>0.147611</td>\n",
       "      <td>0.138978</td>\n",
       "      <td>0.135067</td>\n",
       "      <td>0.134432</td>\n",
       "      <td>0.132459</td>\n",
       "    </tr>\n",
       "    <tr>\n",
       "      <th>K139</th>\n",
       "      <td>1.0</td>\n",
       "      <td>0.269615</td>\n",
       "      <td>0.249463</td>\n",
       "      <td>0.247584</td>\n",
       "      <td>0.245020</td>\n",
       "      <td>0.235254</td>\n",
       "      <td>0.234357</td>\n",
       "      <td>0.231896</td>\n",
       "    </tr>\n",
       "    <tr>\n",
       "      <th>K104</th>\n",
       "      <td>1.0</td>\n",
       "      <td>0.234357</td>\n",
       "      <td>0.202606</td>\n",
       "      <td>0.200443</td>\n",
       "      <td>0.195063</td>\n",
       "      <td>0.193549</td>\n",
       "      <td>0.176737</td>\n",
       "      <td>0.176212</td>\n",
       "    </tr>\n",
       "    <tr>\n",
       "      <th>K101</th>\n",
       "      <td>1.0</td>\n",
       "      <td>0.292145</td>\n",
       "      <td>0.265226</td>\n",
       "      <td>0.245818</td>\n",
       "      <td>0.231896</td>\n",
       "      <td>0.227966</td>\n",
       "      <td>0.225558</td>\n",
       "      <td>0.212680</td>\n",
       "    </tr>\n",
       "    <tr>\n",
       "      <th>K206</th>\n",
       "      <td>1.0</td>\n",
       "      <td>0.317705</td>\n",
       "      <td>0.299820</td>\n",
       "      <td>0.292145</td>\n",
       "      <td>0.286915</td>\n",
       "      <td>0.280306</td>\n",
       "      <td>0.263274</td>\n",
       "      <td>0.261087</td>\n",
       "    </tr>\n",
       "    <tr>\n",
       "      <th>K074</th>\n",
       "      <td>1.0</td>\n",
       "      <td>0.264935</td>\n",
       "      <td>0.263274</td>\n",
       "      <td>0.263087</td>\n",
       "      <td>0.257884</td>\n",
       "      <td>0.241909</td>\n",
       "      <td>0.235008</td>\n",
       "      <td>0.234203</td>\n",
       "    </tr>\n",
       "    <tr>\n",
       "      <th>K414</th>\n",
       "      <td>1.0</td>\n",
       "      <td>0.275078</td>\n",
       "      <td>0.241951</td>\n",
       "      <td>0.218231</td>\n",
       "      <td>0.203358</td>\n",
       "      <td>0.190332</td>\n",
       "      <td>0.178726</td>\n",
       "      <td>0.175083</td>\n",
       "    </tr>\n",
       "    <tr>\n",
       "      <th>K415</th>\n",
       "      <td>1.0</td>\n",
       "      <td>0.363090</td>\n",
       "      <td>0.268059</td>\n",
       "      <td>0.256476</td>\n",
       "      <td>0.254140</td>\n",
       "      <td>0.241909</td>\n",
       "      <td>0.233360</td>\n",
       "      <td>0.206110</td>\n",
       "    </tr>\n",
       "    <tr>\n",
       "      <th>K250</th>\n",
       "      <td>1.0</td>\n",
       "      <td>0.363090</td>\n",
       "      <td>0.322520</td>\n",
       "      <td>0.301384</td>\n",
       "      <td>0.299820</td>\n",
       "      <td>0.275078</td>\n",
       "      <td>0.263087</td>\n",
       "      <td>0.259074</td>\n",
       "    </tr>\n",
       "  </tbody>\n",
       "</table>\n",
       "</div>"
      ],
      "text/plain": [
       "        0         1         2         3         4         5         6  \\\n",
       "K704  1.0  0.364034  0.342004  0.322520  0.317705  0.289905  0.274220   \n",
       "K702  1.0  0.381637  0.274220  0.223593  0.195563  0.193108  0.165949   \n",
       "K703  1.0  0.381637  0.364034  0.301384  0.282673  0.281325  0.280306   \n",
       "K159  1.0  0.342004  0.282673  0.261087  0.259515  0.251675  0.237229   \n",
       "K182  1.0  0.289905  0.281325  0.264719  0.259515  0.259074  0.247584   \n",
       "K183  1.0  0.286915  0.264719  0.255097  0.251795  0.251675  0.245020   \n",
       "K128  1.0  0.183039  0.164001  0.147611  0.138978  0.135067  0.134432   \n",
       "K139  1.0  0.269615  0.249463  0.247584  0.245020  0.235254  0.234357   \n",
       "K104  1.0  0.234357  0.202606  0.200443  0.195063  0.193549  0.176737   \n",
       "K101  1.0  0.292145  0.265226  0.245818  0.231896  0.227966  0.225558   \n",
       "K206  1.0  0.317705  0.299820  0.292145  0.286915  0.280306  0.263274   \n",
       "K074  1.0  0.264935  0.263274  0.263087  0.257884  0.241909  0.235008   \n",
       "K414  1.0  0.275078  0.241951  0.218231  0.203358  0.190332  0.178726   \n",
       "K415  1.0  0.363090  0.268059  0.256476  0.254140  0.241909  0.233360   \n",
       "K250  1.0  0.363090  0.322520  0.301384  0.299820  0.275078  0.263087   \n",
       "\n",
       "             7  \n",
       "K704  0.269615  \n",
       "K702  0.165231  \n",
       "K703  0.265226  \n",
       "K159  0.235254  \n",
       "K182  0.242283  \n",
       "K183  0.234203  \n",
       "K128  0.132459  \n",
       "K139  0.231896  \n",
       "K104  0.176212  \n",
       "K101  0.212680  \n",
       "K206  0.261087  \n",
       "K074  0.234203  \n",
       "K414  0.175083  \n",
       "K415  0.206110  \n",
       "K250  0.259074  "
      ]
     },
     "execution_count": 55,
     "metadata": {},
     "output_type": "execute_result"
    }
   ],
   "source": [
    "top_corr_df"
   ]
  },
  {
   "cell_type": "code",
   "execution_count": 68,
   "metadata": {},
   "outputs": [
    {
     "data": {
      "text/plain": [
       "(15, 8)"
      ]
     },
     "execution_count": 68,
     "metadata": {},
     "output_type": "execute_result"
    }
   ],
   "source": [
    "top_corr_df.shape"
   ]
  },
  {
   "cell_type": "code",
   "execution_count": 69,
   "metadata": {},
   "outputs": [],
   "source": [
    "temp = np.reshape(top_corr_df.values, (1, 1, 15, 8))"
   ]
  },
  {
   "cell_type": "code",
   "execution_count": 71,
   "metadata": {},
   "outputs": [
    {
     "data": {
      "text/plain": [
       "(1, 1, 15, 8)"
      ]
     },
     "execution_count": 71,
     "metadata": {},
     "output_type": "execute_result"
    }
   ],
   "source": [
    "temp.shape"
   ]
  },
  {
   "cell_type": "code",
   "execution_count": 85,
   "metadata": {},
   "outputs": [
    {
     "data": {
      "text/plain": [
       "(78327, 12, 15)"
      ]
     },
     "execution_count": 85,
     "metadata": {},
     "output_type": "execute_result"
    }
   ],
   "source": [
    "train_X.shape"
   ]
  },
  {
   "cell_type": "code",
   "execution_count": 106,
   "metadata": {},
   "outputs": [],
   "source": [
    "\n",
    "\n"
   ]
  },
  {
   "cell_type": "code",
   "execution_count": 108,
   "metadata": {},
   "outputs": [
    {
     "data": {
      "text/plain": [
       "(2, 12, 120)"
      ]
     },
     "execution_count": 108,
     "metadata": {},
     "output_type": "execute_result"
    }
   ],
   "source": [
    "np.array(ls_big).shape"
   ]
  },
  {
   "cell_type": "code",
   "execution_count": 82,
   "metadata": {},
   "outputs": [
    {
     "ename": "ValueError",
     "evalue": "shapes (15,1) and (15,8) not aligned: 1 (dim 1) != 15 (dim 0)",
     "output_type": "error",
     "traceback": [
      "\u001b[0;31m---------------------------------------------------------------------------\u001b[0m",
      "\u001b[0;31mValueError\u001b[0m                                Traceback (most recent call last)",
      "Cell \u001b[0;32mIn[82], line 1\u001b[0m\n\u001b[0;32m----> 1\u001b[0m np\u001b[39m.\u001b[39;49mdot(train_X[\u001b[39m0\u001b[39;49m][\u001b[39m0\u001b[39;49m]\u001b[39m.\u001b[39;49mreshape(\u001b[39m-\u001b[39;49m\u001b[39m1\u001b[39;49m,\u001b[39m1\u001b[39;49m), top_corr_df\u001b[39m.\u001b[39;49mvalues)\n",
      "File \u001b[0;32m<__array_function__ internals>:180\u001b[0m, in \u001b[0;36mdot\u001b[0;34m(*args, **kwargs)\u001b[0m\n",
      "\u001b[0;31mValueError\u001b[0m: shapes (15,1) and (15,8) not aligned: 1 (dim 1) != 15 (dim 0)"
     ]
    }
   ],
   "source": [
    "np.dot(train_X[0][0].reshape(-1,1), top_corr_df.values)"
   ]
  },
  {
   "cell_type": "code",
   "execution_count": 75,
   "metadata": {},
   "outputs": [
    {
     "data": {
      "text/plain": [
       "array([[1.        , 0.36403377, 0.342004  , 0.32252012, 0.31770541,\n",
       "        0.2899053 , 0.27421988, 0.2696154 ],\n",
       "       [1.        , 0.38163735, 0.27421988, 0.2235932 , 0.19556313,\n",
       "        0.19310824, 0.1659489 , 0.16523105],\n",
       "       [1.        , 0.38163735, 0.36403377, 0.30138352, 0.28267323,\n",
       "        0.28132489, 0.28030614, 0.26522622],\n",
       "       [1.        , 0.342004  , 0.28267323, 0.26108656, 0.25951506,\n",
       "        0.25167514, 0.23722889, 0.23525413],\n",
       "       [1.        , 0.2899053 , 0.28132489, 0.26471929, 0.25951506,\n",
       "        0.25907424, 0.24758407, 0.24228294],\n",
       "       [1.        , 0.28691516, 0.26471929, 0.25509719, 0.25179464,\n",
       "        0.25167514, 0.24502044, 0.23420319],\n",
       "       [1.        , 0.18303868, 0.16400144, 0.14761058, 0.13897756,\n",
       "        0.13506668, 0.13443234, 0.1324586 ],\n",
       "       [1.        , 0.2696154 , 0.24946282, 0.24758407, 0.24502044,\n",
       "        0.23525413, 0.23435709, 0.23189594],\n",
       "       [1.        , 0.23435709, 0.20260551, 0.20044315, 0.19506288,\n",
       "        0.19354933, 0.17673742, 0.17621244],\n",
       "       [1.        , 0.2921451 , 0.26522622, 0.24581758, 0.23189594,\n",
       "        0.22796561, 0.22555751, 0.21267978],\n",
       "       [1.        , 0.31770541, 0.29982039, 0.2921451 , 0.28691516,\n",
       "        0.28030614, 0.2632744 , 0.26108656],\n",
       "       [1.        , 0.26493471, 0.2632744 , 0.26308685, 0.2578838 ,\n",
       "        0.24190879, 0.23500788, 0.23420319],\n",
       "       [1.        , 0.27507836, 0.24195137, 0.21823058, 0.20335784,\n",
       "        0.1903321 , 0.17872586, 0.17508282],\n",
       "       [1.        , 0.36308996, 0.26805879, 0.25647598, 0.25414017,\n",
       "        0.24190879, 0.23335962, 0.20610952],\n",
       "       [1.        , 0.36308996, 0.32252012, 0.30138352, 0.29982039,\n",
       "        0.27507836, 0.26308685, 0.25907424]])"
      ]
     },
     "execution_count": 75,
     "metadata": {},
     "output_type": "execute_result"
    }
   ],
   "source": [
    "top_corr_df.values"
   ]
  },
  {
   "cell_type": "code",
   "execution_count": 64,
   "metadata": {},
   "outputs": [
    {
     "data": {
      "text/plain": [
       "array([[-0.31507635, -0.11469843, -0.10775737, -0.10161846, -0.10010146,\n",
       "        -0.09134231, -0.0864002 , -0.08494944],\n",
       "       [-0.44912729, -0.17140375, -0.12315963, -0.10042181, -0.08783274,\n",
       "        -0.08673018, -0.07453218, -0.07420977],\n",
       "       [-0.28740495, -0.10968446, -0.10462511, -0.08661912, -0.08124169,\n",
       "        -0.08085417, -0.08056137, -0.07622733],\n",
       "       [-0.09352473, -0.03198583, -0.02643694, -0.02441805, -0.02427108,\n",
       "        -0.02353785, -0.02218677, -0.02200208],\n",
       "       [-0.14520952, -0.04209701, -0.04085105, -0.03843976, -0.03768406,\n",
       "        -0.03762005, -0.03595156, -0.03518179],\n",
       "       [-0.17551826, -0.05035885, -0.04646307, -0.04477422, -0.04419456,\n",
       "        -0.04417358, -0.04300556, -0.04110694],\n",
       "       [-0.12826431, -0.02347733, -0.02103553, -0.01893317, -0.01782586,\n",
       "        -0.01732423, -0.01724287, -0.01698971],\n",
       "       [-0.19457111, -0.05245937, -0.04853826, -0.04817271, -0.0476739 ,\n",
       "        -0.04577366, -0.04559912, -0.04512025],\n",
       "       [-0.02802156, -0.00656705, -0.00567732, -0.00561673, -0.00546597,\n",
       "        -0.00542356, -0.00495246, -0.00493775],\n",
       "       [-0.10759474, -0.03143327, -0.02853695, -0.02644868, -0.02495078,\n",
       "        -0.0245279 , -0.0242688 , -0.02288322],\n",
       "       [-0.21954085, -0.06974932, -0.06582282, -0.06413778, -0.0629896 ,\n",
       "        -0.06153865, -0.05779949, -0.05731917],\n",
       "       [-0.22892836, -0.06065107, -0.06027098, -0.06022804, -0.05903691,\n",
       "        -0.05537978, -0.05379997, -0.05361575],\n",
       "       [-0.20461901, -0.05628626, -0.04950785, -0.04465412, -0.04161088,\n",
       "        -0.03894556, -0.03657071, -0.03582527],\n",
       "       [-0.3299557 , -0.1198036 , -0.08844752, -0.08462571, -0.083855  ,\n",
       "        -0.07981918, -0.07699834, -0.06800701],\n",
       "       [-0.351749  , -0.12771653, -0.11344613, -0.10601135, -0.10546152,\n",
       "        -0.09675854, -0.09254054, -0.0911291 ]])"
      ]
     },
     "execution_count": 64,
     "metadata": {},
     "output_type": "execute_result"
    }
   ],
   "source": [
    "train_X"
   ]
  },
  {
   "cell_type": "code",
   "execution_count": null,
   "metadata": {},
   "outputs": [],
   "source": [
    "# multiplying with the 3rd dimention of the whole train_X with shape (n_samples, n_timesteps, n_features)"
   ]
  },
  {
   "cell_type": "code",
   "execution_count": 66,
   "metadata": {},
   "outputs": [
    {
     "data": {
      "text/plain": [
       "(78327, 12, 15)"
      ]
     },
     "execution_count": 66,
     "metadata": {},
     "output_type": "execute_result"
    }
   ],
   "source": [
    "train_X.shape"
   ]
  },
  {
   "cell_type": "code",
   "execution_count": null,
   "metadata": {},
   "outputs": [],
   "source": []
  },
  {
   "cell_type": "code",
   "execution_count": null,
   "metadata": {},
   "outputs": [],
   "source": []
  },
  {
   "cell_type": "code",
   "execution_count": null,
   "metadata": {},
   "outputs": [],
   "source": []
  },
  {
   "cell_type": "code",
   "execution_count": 65,
   "metadata": {},
   "outputs": [
    {
     "data": {
      "text/plain": [
       "array([-0.31507635, -0.4491273 , -0.28740495, -0.09352473, -0.14520952,\n",
       "       -0.17551826, -0.12826431, -0.19457111, -0.02802156, -0.10759474,\n",
       "       -0.21954085, -0.22892836, -0.204619  , -0.3299557 , -0.351749  ],\n",
       "      dtype=float32)"
      ]
     },
     "execution_count": 65,
     "metadata": {},
     "output_type": "execute_result"
    }
   ],
   "source": [
    "train_X[0][0]"
   ]
  },
  {
   "cell_type": "code",
   "execution_count": null,
   "metadata": {},
   "outputs": [],
   "source": []
  },
  {
   "cell_type": "code",
   "execution_count": null,
   "metadata": {},
   "outputs": [],
   "source": []
  },
  {
   "cell_type": "code",
   "execution_count": null,
   "metadata": {},
   "outputs": [],
   "source": []
  },
  {
   "cell_type": "code",
   "execution_count": null,
   "metadata": {},
   "outputs": [],
   "source": []
  },
  {
   "cell_type": "code",
   "execution_count": 54,
   "metadata": {},
   "outputs": [
    {
     "data": {
      "text/html": [
       "<div>\n",
       "<style scoped>\n",
       "    .dataframe tbody tr th:only-of-type {\n",
       "        vertical-align: middle;\n",
       "    }\n",
       "\n",
       "    .dataframe tbody tr th {\n",
       "        vertical-align: top;\n",
       "    }\n",
       "\n",
       "    .dataframe thead th {\n",
       "        text-align: right;\n",
       "    }\n",
       "</style>\n",
       "<table border=\"1\" class=\"dataframe\">\n",
       "  <thead>\n",
       "    <tr style=\"text-align: right;\">\n",
       "      <th></th>\n",
       "      <th>K704</th>\n",
       "      <th>K702</th>\n",
       "      <th>K703</th>\n",
       "      <th>K159</th>\n",
       "      <th>K182</th>\n",
       "      <th>K183</th>\n",
       "      <th>K128</th>\n",
       "      <th>K139</th>\n",
       "      <th>K104</th>\n",
       "      <th>K101</th>\n",
       "      <th>K206</th>\n",
       "      <th>K074</th>\n",
       "      <th>K414</th>\n",
       "      <th>K415</th>\n",
       "      <th>K250</th>\n",
       "    </tr>\n",
       "    <tr>\n",
       "      <th>timestamp</th>\n",
       "      <th></th>\n",
       "      <th></th>\n",
       "      <th></th>\n",
       "      <th></th>\n",
       "      <th></th>\n",
       "      <th></th>\n",
       "      <th></th>\n",
       "      <th></th>\n",
       "      <th></th>\n",
       "      <th></th>\n",
       "      <th></th>\n",
       "      <th></th>\n",
       "      <th></th>\n",
       "      <th></th>\n",
       "      <th></th>\n",
       "    </tr>\n",
       "  </thead>\n",
       "  <tbody>\n",
       "    <tr>\n",
       "      <th>2018-01-01 01:00:00</th>\n",
       "      <td>0.437718</td>\n",
       "      <td>0.515155</td>\n",
       "      <td>0.229290</td>\n",
       "      <td>0.221861</td>\n",
       "      <td>0.592250</td>\n",
       "      <td>0.340062</td>\n",
       "      <td>0.687709</td>\n",
       "      <td>0.414231</td>\n",
       "      <td>0.579028</td>\n",
       "      <td>0.247488</td>\n",
       "      <td>0.564301</td>\n",
       "      <td>0.811996</td>\n",
       "      <td>0.584248</td>\n",
       "      <td>0.727704</td>\n",
       "      <td>0.482999</td>\n",
       "    </tr>\n",
       "    <tr>\n",
       "      <th>2018-01-01 02:00:00</th>\n",
       "      <td>1.096224</td>\n",
       "      <td>0.688840</td>\n",
       "      <td>0.509010</td>\n",
       "      <td>0.402139</td>\n",
       "      <td>0.607743</td>\n",
       "      <td>0.596373</td>\n",
       "      <td>1.146240</td>\n",
       "      <td>0.351957</td>\n",
       "      <td>0.544668</td>\n",
       "      <td>0.555715</td>\n",
       "      <td>0.554146</td>\n",
       "      <td>1.048120</td>\n",
       "      <td>0.651002</td>\n",
       "      <td>0.712690</td>\n",
       "      <td>0.670355</td>\n",
       "    </tr>\n",
       "    <tr>\n",
       "      <th>2018-01-01 03:00:00</th>\n",
       "      <td>1.017256</td>\n",
       "      <td>0.746809</td>\n",
       "      <td>0.622872</td>\n",
       "      <td>0.680986</td>\n",
       "      <td>0.691022</td>\n",
       "      <td>0.631199</td>\n",
       "      <td>0.928740</td>\n",
       "      <td>0.570491</td>\n",
       "      <td>0.534584</td>\n",
       "      <td>0.471159</td>\n",
       "      <td>0.392499</td>\n",
       "      <td>1.115597</td>\n",
       "      <td>0.840674</td>\n",
       "      <td>0.857182</td>\n",
       "      <td>0.806166</td>\n",
       "    </tr>\n",
       "    <tr>\n",
       "      <th>2018-01-01 04:00:00</th>\n",
       "      <td>0.861961</td>\n",
       "      <td>0.839790</td>\n",
       "      <td>0.705627</td>\n",
       "      <td>0.858127</td>\n",
       "      <td>0.825192</td>\n",
       "      <td>0.694095</td>\n",
       "      <td>0.848465</td>\n",
       "      <td>0.927224</td>\n",
       "      <td>0.881316</td>\n",
       "      <td>0.791312</td>\n",
       "      <td>0.933026</td>\n",
       "      <td>0.844556</td>\n",
       "      <td>1.068071</td>\n",
       "      <td>0.782274</td>\n",
       "      <td>0.811864</td>\n",
       "    </tr>\n",
       "    <tr>\n",
       "      <th>2018-01-01 05:00:00</th>\n",
       "      <td>0.824932</td>\n",
       "      <td>0.959399</td>\n",
       "      <td>0.863709</td>\n",
       "      <td>0.797068</td>\n",
       "      <td>0.780820</td>\n",
       "      <td>0.831422</td>\n",
       "      <td>0.869303</td>\n",
       "      <td>0.883617</td>\n",
       "      <td>0.893689</td>\n",
       "      <td>0.735172</td>\n",
       "      <td>0.968681</td>\n",
       "      <td>0.880942</td>\n",
       "      <td>0.909545</td>\n",
       "      <td>0.736027</td>\n",
       "      <td>0.866506</td>\n",
       "    </tr>\n",
       "    <tr>\n",
       "      <th>...</th>\n",
       "      <td>...</td>\n",
       "      <td>...</td>\n",
       "      <td>...</td>\n",
       "      <td>...</td>\n",
       "      <td>...</td>\n",
       "      <td>...</td>\n",
       "      <td>...</td>\n",
       "      <td>...</td>\n",
       "      <td>...</td>\n",
       "      <td>...</td>\n",
       "      <td>...</td>\n",
       "      <td>...</td>\n",
       "      <td>...</td>\n",
       "      <td>...</td>\n",
       "      <td>...</td>\n",
       "    </tr>\n",
       "    <tr>\n",
       "      <th>2020-03-30 20:00:00</th>\n",
       "      <td>0.973106</td>\n",
       "      <td>0.976283</td>\n",
       "      <td>0.956759</td>\n",
       "      <td>0.898046</td>\n",
       "      <td>0.936732</td>\n",
       "      <td>0.921183</td>\n",
       "      <td>1.001214</td>\n",
       "      <td>0.918698</td>\n",
       "      <td>1.032083</td>\n",
       "      <td>1.096951</td>\n",
       "      <td>0.942169</td>\n",
       "      <td>1.038304</td>\n",
       "      <td>1.063547</td>\n",
       "      <td>0.987005</td>\n",
       "      <td>1.063492</td>\n",
       "    </tr>\n",
       "    <tr>\n",
       "      <th>2020-03-30 21:00:00</th>\n",
       "      <td>1.046644</td>\n",
       "      <td>0.956518</td>\n",
       "      <td>1.155419</td>\n",
       "      <td>1.114104</td>\n",
       "      <td>1.024698</td>\n",
       "      <td>1.006259</td>\n",
       "      <td>0.981027</td>\n",
       "      <td>0.975505</td>\n",
       "      <td>0.957298</td>\n",
       "      <td>1.084331</td>\n",
       "      <td>0.995062</td>\n",
       "      <td>1.163347</td>\n",
       "      <td>0.995454</td>\n",
       "      <td>1.025594</td>\n",
       "      <td>1.085228</td>\n",
       "    </tr>\n",
       "    <tr>\n",
       "      <th>2020-03-30 22:00:00</th>\n",
       "      <td>1.159791</td>\n",
       "      <td>0.940150</td>\n",
       "      <td>0.912818</td>\n",
       "      <td>1.012481</td>\n",
       "      <td>1.034591</td>\n",
       "      <td>1.092172</td>\n",
       "      <td>0.967101</td>\n",
       "      <td>0.984440</td>\n",
       "      <td>0.929981</td>\n",
       "      <td>1.025913</td>\n",
       "      <td>0.903882</td>\n",
       "      <td>1.098595</td>\n",
       "      <td>0.905515</td>\n",
       "      <td>0.980438</td>\n",
       "      <td>0.926042</td>\n",
       "    </tr>\n",
       "    <tr>\n",
       "      <th>2020-03-30 23:00:00</th>\n",
       "      <td>1.101063</td>\n",
       "      <td>1.606521</td>\n",
       "      <td>0.988224</td>\n",
       "      <td>0.904493</td>\n",
       "      <td>0.924702</td>\n",
       "      <td>0.834446</td>\n",
       "      <td>0.942835</td>\n",
       "      <td>1.089642</td>\n",
       "      <td>1.132883</td>\n",
       "      <td>0.865337</td>\n",
       "      <td>0.782019</td>\n",
       "      <td>1.021487</td>\n",
       "      <td>0.934080</td>\n",
       "      <td>0.783546</td>\n",
       "      <td>0.978447</td>\n",
       "    </tr>\n",
       "    <tr>\n",
       "      <th>2020-03-31 00:00:00</th>\n",
       "      <td>1.026029</td>\n",
       "      <td>1.330473</td>\n",
       "      <td>0.993807</td>\n",
       "      <td>0.993447</td>\n",
       "      <td>1.149245</td>\n",
       "      <td>1.194026</td>\n",
       "      <td>0.980144</td>\n",
       "      <td>1.107787</td>\n",
       "      <td>0.991298</td>\n",
       "      <td>1.109652</td>\n",
       "      <td>0.896519</td>\n",
       "      <td>1.097480</td>\n",
       "      <td>0.930012</td>\n",
       "      <td>0.937864</td>\n",
       "      <td>0.890362</td>\n",
       "    </tr>\n",
       "  </tbody>\n",
       "</table>\n",
       "<p>8142 rows × 15 columns</p>\n",
       "</div>"
      ],
      "text/plain": [
       "                         K704      K702      K703      K159      K182  \\\n",
       "timestamp                                                               \n",
       "2018-01-01 01:00:00  0.437718  0.515155  0.229290  0.221861  0.592250   \n",
       "2018-01-01 02:00:00  1.096224  0.688840  0.509010  0.402139  0.607743   \n",
       "2018-01-01 03:00:00  1.017256  0.746809  0.622872  0.680986  0.691022   \n",
       "2018-01-01 04:00:00  0.861961  0.839790  0.705627  0.858127  0.825192   \n",
       "2018-01-01 05:00:00  0.824932  0.959399  0.863709  0.797068  0.780820   \n",
       "...                       ...       ...       ...       ...       ...   \n",
       "2020-03-30 20:00:00  0.973106  0.976283  0.956759  0.898046  0.936732   \n",
       "2020-03-30 21:00:00  1.046644  0.956518  1.155419  1.114104  1.024698   \n",
       "2020-03-30 22:00:00  1.159791  0.940150  0.912818  1.012481  1.034591   \n",
       "2020-03-30 23:00:00  1.101063  1.606521  0.988224  0.904493  0.924702   \n",
       "2020-03-31 00:00:00  1.026029  1.330473  0.993807  0.993447  1.149245   \n",
       "\n",
       "                         K183      K128      K139      K104      K101  \\\n",
       "timestamp                                                               \n",
       "2018-01-01 01:00:00  0.340062  0.687709  0.414231  0.579028  0.247488   \n",
       "2018-01-01 02:00:00  0.596373  1.146240  0.351957  0.544668  0.555715   \n",
       "2018-01-01 03:00:00  0.631199  0.928740  0.570491  0.534584  0.471159   \n",
       "2018-01-01 04:00:00  0.694095  0.848465  0.927224  0.881316  0.791312   \n",
       "2018-01-01 05:00:00  0.831422  0.869303  0.883617  0.893689  0.735172   \n",
       "...                       ...       ...       ...       ...       ...   \n",
       "2020-03-30 20:00:00  0.921183  1.001214  0.918698  1.032083  1.096951   \n",
       "2020-03-30 21:00:00  1.006259  0.981027  0.975505  0.957298  1.084331   \n",
       "2020-03-30 22:00:00  1.092172  0.967101  0.984440  0.929981  1.025913   \n",
       "2020-03-30 23:00:00  0.834446  0.942835  1.089642  1.132883  0.865337   \n",
       "2020-03-31 00:00:00  1.194026  0.980144  1.107787  0.991298  1.109652   \n",
       "\n",
       "                         K206      K074      K414      K415      K250  \n",
       "timestamp                                                              \n",
       "2018-01-01 01:00:00  0.564301  0.811996  0.584248  0.727704  0.482999  \n",
       "2018-01-01 02:00:00  0.554146  1.048120  0.651002  0.712690  0.670355  \n",
       "2018-01-01 03:00:00  0.392499  1.115597  0.840674  0.857182  0.806166  \n",
       "2018-01-01 04:00:00  0.933026  0.844556  1.068071  0.782274  0.811864  \n",
       "2018-01-01 05:00:00  0.968681  0.880942  0.909545  0.736027  0.866506  \n",
       "...                       ...       ...       ...       ...       ...  \n",
       "2020-03-30 20:00:00  0.942169  1.038304  1.063547  0.987005  1.063492  \n",
       "2020-03-30 21:00:00  0.995062  1.163347  0.995454  1.025594  1.085228  \n",
       "2020-03-30 22:00:00  0.903882  1.098595  0.905515  0.980438  0.926042  \n",
       "2020-03-30 23:00:00  0.782019  1.021487  0.934080  0.783546  0.978447  \n",
       "2020-03-31 00:00:00  0.896519  1.097480  0.930012  0.937864  0.890362  \n",
       "\n",
       "[8142 rows x 15 columns]"
      ]
     },
     "execution_count": 54,
     "metadata": {},
     "output_type": "execute_result"
    }
   ],
   "source": [
    "ae_score"
   ]
  },
  {
   "cell_type": "code",
   "execution_count": 36,
   "metadata": {},
   "outputs": [],
   "source": [
    "with open('../results/hauge/LSTM/multivariate_AE_weighted_real_time_results.pkl', 'rb') as f:\n",
    "    errors = pickle.load(f)"
   ]
  },
  {
   "cell_type": "code",
   "execution_count": 37,
   "metadata": {},
   "outputs": [],
   "source": [
    "AE_results={}\n",
    "for trajectory in errors.keys():\n",
    "    for direction in errors[trajectory].keys():\n",
    "        for threshold in errors[trajectory][direction].keys():\n",
    "            AE_results[trajectory+'_'+direction+'_'+str(threshold)] = errors[trajectory][direction][threshold]['RMSE']"
   ]
  },
  {
   "cell_type": "code",
   "execution_count": 38,
   "metadata": {},
   "outputs": [
    {
     "data": {
      "text/plain": [
       "{'T1_North_1': 36.55789567696868,\n",
       " 'T1_South_1': 45.831808686762514,\n",
       " 'T2_South_1': 24.06641100521378,\n",
       " 'T2_North_1': 27.554807112725925}"
      ]
     },
     "execution_count": 38,
     "metadata": {},
     "output_type": "execute_result"
    }
   ],
   "source": [
    "AE_results"
   ]
  },
  {
   "cell_type": "code",
   "execution_count": 60,
   "metadata": {},
   "outputs": [
    {
     "data": {
      "text/plain": [
       "array([[17., 13., 16., 14., 27., 27., 28., 24., 28.]])"
      ]
     },
     "execution_count": 60,
     "metadata": {},
     "output_type": "execute_result"
    }
   ],
   "source": [
    "temp1 = df.iloc[0:1].values\n",
    "temp1"
   ]
  },
  {
   "cell_type": "code",
   "execution_count": 7,
   "metadata": {},
   "outputs": [
    {
     "ename": "NameError",
     "evalue": "name 'top_corr_df' is not defined",
     "output_type": "error",
     "traceback": [
      "\u001b[0;31m---------------------------------------------------------------------------\u001b[0m",
      "\u001b[0;31mNameError\u001b[0m                                 Traceback (most recent call last)",
      "Cell \u001b[0;32mIn[7], line 1\u001b[0m\n\u001b[0;32m----> 1\u001b[0m top_corr_df\n",
      "\u001b[0;31mNameError\u001b[0m: name 'top_corr_df' is not defined"
     ]
    }
   ],
   "source": [
    "top_corr_df"
   ]
  },
  {
   "cell_type": "code",
   "execution_count": 74,
   "metadata": {},
   "outputs": [],
   "source": [
    "weighted_ls = []\n",
    "for idx, row in df.iterrows():\n",
    "    weighted_ls.append(np.sum(row.values*ae_score.corr().values, axis=1))\n",
    "    break\n",
    "weighted_df = pd.DataFrame(weighted_ls, columns=df.columns)"
   ]
  },
  {
   "cell_type": "code",
   "execution_count": 75,
   "metadata": {},
   "outputs": [
    {
     "data": {
      "text/html": [
       "<div>\n",
       "<style scoped>\n",
       "    .dataframe tbody tr th:only-of-type {\n",
       "        vertical-align: middle;\n",
       "    }\n",
       "\n",
       "    .dataframe tbody tr th {\n",
       "        vertical-align: top;\n",
       "    }\n",
       "\n",
       "    .dataframe thead th {\n",
       "        text-align: right;\n",
       "    }\n",
       "</style>\n",
       "<table border=\"1\" class=\"dataframe\">\n",
       "  <thead>\n",
       "    <tr style=\"text-align: right;\">\n",
       "      <th></th>\n",
       "      <th>K502</th>\n",
       "      <th>K504</th>\n",
       "      <th>K503</th>\n",
       "      <th>K263</th>\n",
       "      <th>K556</th>\n",
       "      <th>K557</th>\n",
       "      <th>K559</th>\n",
       "      <th>K561</th>\n",
       "      <th>K198</th>\n",
       "    </tr>\n",
       "  </thead>\n",
       "  <tbody>\n",
       "    <tr>\n",
       "      <th>0</th>\n",
       "      <td>80.138779</td>\n",
       "      <td>84.507618</td>\n",
       "      <td>51.752208</td>\n",
       "      <td>66.469568</td>\n",
       "      <td>88.39996</td>\n",
       "      <td>87.834296</td>\n",
       "      <td>85.691173</td>\n",
       "      <td>88.867228</td>\n",
       "      <td>82.782186</td>\n",
       "    </tr>\n",
       "  </tbody>\n",
       "</table>\n",
       "</div>"
      ],
      "text/plain": [
       "        K502       K504       K503       K263      K556       K557       K559  \\\n",
       "0  80.138779  84.507618  51.752208  66.469568  88.39996  87.834296  85.691173   \n",
       "\n",
       "        K561       K198  \n",
       "0  88.867228  82.782186  "
      ]
     },
     "execution_count": 75,
     "metadata": {},
     "output_type": "execute_result"
    }
   ],
   "source": [
    "weighted_df"
   ]
  },
  {
   "cell_type": "code",
   "execution_count": 58,
   "metadata": {},
   "outputs": [],
   "source": [
    "# multiply top_corr_df and temp1 on axis 1\n",
    "temp2 = np.multiply(top_corr_df, temp1.T)"
   ]
  },
  {
   "cell_type": "code",
   "execution_count": 59,
   "metadata": {},
   "outputs": [
    {
     "data": {
      "text/html": [
       "<div>\n",
       "<style scoped>\n",
       "    .dataframe tbody tr th:only-of-type {\n",
       "        vertical-align: middle;\n",
       "    }\n",
       "\n",
       "    .dataframe tbody tr th {\n",
       "        vertical-align: top;\n",
       "    }\n",
       "\n",
       "    .dataframe thead th {\n",
       "        text-align: right;\n",
       "    }\n",
       "</style>\n",
       "<table border=\"1\" class=\"dataframe\">\n",
       "  <thead>\n",
       "    <tr style=\"text-align: right;\">\n",
       "      <th></th>\n",
       "      <th>0</th>\n",
       "      <th>1</th>\n",
       "      <th>2</th>\n",
       "    </tr>\n",
       "  </thead>\n",
       "  <tbody>\n",
       "    <tr>\n",
       "      <th>K502</th>\n",
       "      <td>17.0</td>\n",
       "      <td>7.953941</td>\n",
       "      <td>6.581471</td>\n",
       "    </tr>\n",
       "    <tr>\n",
       "      <th>K504</th>\n",
       "      <td>13.0</td>\n",
       "      <td>6.082425</td>\n",
       "      <td>5.794025</td>\n",
       "    </tr>\n",
       "    <tr>\n",
       "      <th>K503</th>\n",
       "      <td>16.0</td>\n",
       "      <td>3.674517</td>\n",
       "      <td>3.587646</td>\n",
       "    </tr>\n",
       "    <tr>\n",
       "      <th>K263</th>\n",
       "      <td>14.0</td>\n",
       "      <td>5.088919</td>\n",
       "      <td>4.870812</td>\n",
       "    </tr>\n",
       "    <tr>\n",
       "      <th>K556</th>\n",
       "      <td>27.0</td>\n",
       "      <td>12.033744</td>\n",
       "      <td>11.607960</td>\n",
       "    </tr>\n",
       "    <tr>\n",
       "      <th>K557</th>\n",
       "      <td>27.0</td>\n",
       "      <td>12.413916</td>\n",
       "      <td>11.607960</td>\n",
       "    </tr>\n",
       "    <tr>\n",
       "      <th>K559</th>\n",
       "      <td>28.0</td>\n",
       "      <td>13.200926</td>\n",
       "      <td>11.503046</td>\n",
       "    </tr>\n",
       "    <tr>\n",
       "      <th>K561</th>\n",
       "      <td>24.0</td>\n",
       "      <td>11.315079</td>\n",
       "      <td>11.034592</td>\n",
       "    </tr>\n",
       "    <tr>\n",
       "      <th>K198</th>\n",
       "      <td>28.0</td>\n",
       "      <td>11.614921</td>\n",
       "      <td>10.840069</td>\n",
       "    </tr>\n",
       "  </tbody>\n",
       "</table>\n",
       "</div>"
      ],
      "text/plain": [
       "         0          1          2\n",
       "K502  17.0   7.953941   6.581471\n",
       "K504  13.0   6.082425   5.794025\n",
       "K503  16.0   3.674517   3.587646\n",
       "K263  14.0   5.088919   4.870812\n",
       "K556  27.0  12.033744  11.607960\n",
       "K557  27.0  12.413916  11.607960\n",
       "K559  28.0  13.200926  11.503046\n",
       "K561  24.0  11.315079  11.034592\n",
       "K198  28.0  11.614921  10.840069"
      ]
     },
     "execution_count": 59,
     "metadata": {},
     "output_type": "execute_result"
    }
   ],
   "source": [
    "temp2"
   ]
  },
  {
   "cell_type": "code",
   "execution_count": 66,
   "metadata": {},
   "outputs": [
    {
     "data": {
      "text/plain": [
       "array([[ 5.88451228,  7.98631253,  8.76416242, ..., 19.52396743,\n",
       "         8.93451764,  8.11603002],\n",
       "       [13.03872917,  8.53337788, 16.27987158, ..., 16.60562073,\n",
       "        14.52707614, 15.79520361],\n",
       "       [12.25591678,  9.87049421, 14.31073331, ..., 25.74764848,\n",
       "        17.02123224, 28.91502877],\n",
       "       ...,\n",
       "       [16.56042983, 13.29413395, 15.29007718, ..., 31.08993165,\n",
       "        28.30310678, 29.9121107 ],\n",
       "       [14.5622421 , 13.00756001, 15.98760939, ..., 27.69862685,\n",
       "        33.12919221, 42.64442389],\n",
       "       [22.0166774 , 14.47573141, 14.1927761 , ..., 36.42481365,\n",
       "        32.75264748, 30.01020415]])"
      ]
     },
     "execution_count": 66,
     "metadata": {},
     "output_type": "execute_result"
    }
   ],
   "source": [
    "temp = df.iloc[0:1].values* ae_score.values\n",
    "temp"
   ]
  },
  {
   "cell_type": "code",
   "execution_count": 39,
   "metadata": {},
   "outputs": [
    {
     "data": {
      "text/plain": [
       "array([80.13877944, 84.50761822, 51.75220818, 66.4695678 , 88.39995972,\n",
       "       87.83429633, 85.69117257, 88.86722821, 82.78218594])"
      ]
     },
     "execution_count": 39,
     "metadata": {},
     "output_type": "execute_result"
    }
   ],
   "source": [
    "# get sum of each row in temp\n",
    "temp.sum(axis=1)"
   ]
  },
  {
   "cell_type": "code",
   "execution_count": null,
   "metadata": {},
   "outputs": [],
   "source": []
  },
  {
   "cell_type": "code",
   "execution_count": null,
   "metadata": {},
   "outputs": [],
   "source": []
  },
  {
   "cell_type": "code",
   "execution_count": null,
   "metadata": {},
   "outputs": [],
   "source": []
  },
  {
   "cell_type": "code",
   "execution_count": null,
   "metadata": {},
   "outputs": [],
   "source": []
  },
  {
   "cell_type": "code",
   "execution_count": null,
   "metadata": {},
   "outputs": [
    {
     "data": {
      "text/plain": [
       "{'T1_North_0.5': 13.207560391278088,\n",
       " 'T1_South_0.5': 15.087792905225621,\n",
       " 'T2_South_0.5': 13.155181768909424,\n",
       " 'T2_North_0.5': 15.316885931184128}"
      ]
     },
     "execution_count": 368,
     "metadata": {},
     "output_type": "execute_result"
    }
   ],
   "source": [
    "AE_results"
   ]
  },
  {
   "cell_type": "code",
   "execution_count": null,
   "metadata": {},
   "outputs": [],
   "source": []
  },
  {
   "cell_type": "code",
   "execution_count": null,
   "metadata": {},
   "outputs": [],
   "source": []
  },
  {
   "cell_type": "code",
   "execution_count": null,
   "metadata": {},
   "outputs": [],
   "source": []
  },
  {
   "cell_type": "code",
   "execution_count": null,
   "metadata": {},
   "outputs": [],
   "source": []
  },
  {
   "cell_type": "code",
   "execution_count": null,
   "metadata": {},
   "outputs": [],
   "source": []
  },
  {
   "cell_type": "code",
   "execution_count": null,
   "metadata": {},
   "outputs": [],
   "source": []
  },
  {
   "cell_type": "code",
   "execution_count": null,
   "metadata": {},
   "outputs": [],
   "source": []
  },
  {
   "cell_type": "code",
   "execution_count": null,
   "metadata": {},
   "outputs": [],
   "source": []
  },
  {
   "cell_type": "code",
   "execution_count": null,
   "metadata": {},
   "outputs": [],
   "source": []
  },
  {
   "cell_type": "code",
   "execution_count": null,
   "metadata": {},
   "outputs": [],
   "source": []
  },
  {
   "attachments": {},
   "cell_type": "markdown",
   "metadata": {},
   "source": [
    "# EXTRA"
   ]
  },
  {
   "cell_type": "code",
   "execution_count": 292,
   "metadata": {},
   "outputs": [],
   "source": [
    "c = [a.cpu().detach().numpy(),b.cpu().detach().numpy()]"
   ]
  },
  {
   "cell_type": "code",
   "execution_count": 293,
   "metadata": {},
   "outputs": [],
   "source": [
    "d = np.vstack(c)"
   ]
  },
  {
   "cell_type": "code",
   "execution_count": 300,
   "metadata": {},
   "outputs": [
    {
     "data": {
      "text/plain": [
       "torch.Size([64, 9])"
      ]
     },
     "execution_count": 300,
     "metadata": {},
     "output_type": "execute_result"
    }
   ],
   "source": [
    "a.shape"
   ]
  },
  {
   "cell_type": "code",
   "execution_count": 304,
   "metadata": {},
   "outputs": [],
   "source": [
    "temp = test_y[:64,:].shape"
   ]
  },
  {
   "cell_type": "code",
   "execution_count": 251,
   "metadata": {},
   "outputs": [
    {
     "data": {
      "text/plain": [
       "torch.Size([64, 9])"
      ]
     },
     "execution_count": 251,
     "metadata": {},
     "output_type": "execute_result"
    }
   ],
   "source": [
    "test_y"
   ]
  },
  {
   "cell_type": "code",
   "execution_count": 264,
   "metadata": {},
   "outputs": [
    {
     "data": {
      "text/plain": [
       "35.592785"
      ]
     },
     "execution_count": 264,
     "metadata": {},
     "output_type": "execute_result"
    }
   ],
   "source": [
    "mean_squared_error(bt.cpu().detach().numpy(),y.cpu().detach().numpy())"
   ]
  },
  {
   "cell_type": "code",
   "execution_count": 266,
   "metadata": {},
   "outputs": [
    {
     "data": {
      "text/plain": [
       "tensor(35.5928, device='mps:0', grad_fn=<MseLossBackward0>)"
      ]
     },
     "execution_count": 266,
     "metadata": {},
     "output_type": "execute_result"
    }
   ],
   "source": [
    "loss_fn(bt.reshape(-1),y.reshape(-1))"
   ]
  },
  {
   "cell_type": "code",
   "execution_count": 268,
   "metadata": {},
   "outputs": [
    {
     "data": {
      "text/plain": [
       "torch.Size([576])"
      ]
     },
     "execution_count": 268,
     "metadata": {},
     "output_type": "execute_result"
    }
   ],
   "source": []
  },
  {
   "cell_type": "code",
   "execution_count": 239,
   "metadata": {},
   "outputs": [
    {
     "data": {
      "text/plain": [
       "(107021, 12, 90)"
      ]
     },
     "execution_count": 239,
     "metadata": {},
     "output_type": "execute_result"
    }
   ],
   "source": [
    "train_X.shape"
   ]
  },
  {
   "cell_type": "code",
   "execution_count": 241,
   "metadata": {},
   "outputs": [
    {
     "data": {
      "text/plain": [
       "LSTM_uni(\n",
       "  (lstm): LSTM(9, 64, batch_first=True, dropout=0.2)\n",
       "  (fc): Linear(in_features=64, out_features=9, bias=True)\n",
       ")"
      ]
     },
     "execution_count": 241,
     "metadata": {},
     "output_type": "execute_result"
    }
   ],
   "source": [
    "model"
   ]
  },
  {
   "cell_type": "code",
   "execution_count": 91,
   "metadata": {},
   "outputs": [
    {
     "data": {
      "text/plain": [
       "(15, 15)"
      ]
     },
     "execution_count": 91,
     "metadata": {},
     "output_type": "execute_result"
    }
   ],
   "source": [
    "b = ae_score.corr().values\n",
    "b.shape"
   ]
  },
  {
   "cell_type": "code",
   "execution_count": 144,
   "metadata": {},
   "outputs": [],
   "source": [
    "b_tiled = np.tile(b, (12, 1, 1))"
   ]
  },
  {
   "cell_type": "code",
   "execution_count": 151,
   "metadata": {},
   "outputs": [
    {
     "data": {
      "text/plain": [
       "(12, 15, 15)"
      ]
     },
     "execution_count": 151,
     "metadata": {},
     "output_type": "execute_result"
    }
   ],
   "source": [
    "b_tiled.shape"
   ]
  },
  {
   "cell_type": "code",
   "execution_count": 145,
   "metadata": {},
   "outputs": [],
   "source": [
    "b_tiled_temp = np.tile(b, (78327, 12, 1, 1))"
   ]
  },
  {
   "cell_type": "code",
   "execution_count": 146,
   "metadata": {},
   "outputs": [
    {
     "data": {
      "text/plain": [
       "(78327, 12, 15, 15)"
      ]
     },
     "execution_count": 146,
     "metadata": {},
     "output_type": "execute_result"
    }
   ],
   "source": [
    "b_tiled_temp.shape"
   ]
  },
  {
   "cell_type": "code",
   "execution_count": 147,
   "metadata": {},
   "outputs": [
    {
     "data": {
      "text/plain": [
       "array([[[[1.        , 0.52009281, 0.59531289, ..., 0.47456496,\n",
       "          0.50346994, 0.55122234],\n",
       "         [0.52009281, 1.        , 0.51728952, ..., 0.44649454,\n",
       "          0.54981047, 0.59161937],\n",
       "         [0.59531289, 0.51728952, 1.        , ..., 0.46227573,\n",
       "          0.48162972, 0.52886381],\n",
       "         ...,\n",
       "         [0.47456496, 0.44649454, 0.46227573, ..., 1.        ,\n",
       "          0.44934213, 0.51765878],\n",
       "         [0.50346994, 0.54981047, 0.48162972, ..., 0.44934213,\n",
       "          1.        , 0.58109163],\n",
       "         [0.55122234, 0.59161937, 0.52886381, ..., 0.51765878,\n",
       "          0.58109163, 1.        ]],\n",
       "\n",
       "        [[1.        , 0.52009281, 0.59531289, ..., 0.47456496,\n",
       "          0.50346994, 0.55122234],\n",
       "         [0.52009281, 1.        , 0.51728952, ..., 0.44649454,\n",
       "          0.54981047, 0.59161937],\n",
       "         [0.59531289, 0.51728952, 1.        , ..., 0.46227573,\n",
       "          0.48162972, 0.52886381],\n",
       "         ...,\n",
       "         [0.47456496, 0.44649454, 0.46227573, ..., 1.        ,\n",
       "          0.44934213, 0.51765878],\n",
       "         [0.50346994, 0.54981047, 0.48162972, ..., 0.44934213,\n",
       "          1.        , 0.58109163],\n",
       "         [0.55122234, 0.59161937, 0.52886381, ..., 0.51765878,\n",
       "          0.58109163, 1.        ]],\n",
       "\n",
       "        [[1.        , 0.52009281, 0.59531289, ..., 0.47456496,\n",
       "          0.50346994, 0.55122234],\n",
       "         [0.52009281, 1.        , 0.51728952, ..., 0.44649454,\n",
       "          0.54981047, 0.59161937],\n",
       "         [0.59531289, 0.51728952, 1.        , ..., 0.46227573,\n",
       "          0.48162972, 0.52886381],\n",
       "         ...,\n",
       "         [0.47456496, 0.44649454, 0.46227573, ..., 1.        ,\n",
       "          0.44934213, 0.51765878],\n",
       "         [0.50346994, 0.54981047, 0.48162972, ..., 0.44934213,\n",
       "          1.        , 0.58109163],\n",
       "         [0.55122234, 0.59161937, 0.52886381, ..., 0.51765878,\n",
       "          0.58109163, 1.        ]],\n",
       "\n",
       "        ...,\n",
       "\n",
       "        [[1.        , 0.52009281, 0.59531289, ..., 0.47456496,\n",
       "          0.50346994, 0.55122234],\n",
       "         [0.52009281, 1.        , 0.51728952, ..., 0.44649454,\n",
       "          0.54981047, 0.59161937],\n",
       "         [0.59531289, 0.51728952, 1.        , ..., 0.46227573,\n",
       "          0.48162972, 0.52886381],\n",
       "         ...,\n",
       "         [0.47456496, 0.44649454, 0.46227573, ..., 1.        ,\n",
       "          0.44934213, 0.51765878],\n",
       "         [0.50346994, 0.54981047, 0.48162972, ..., 0.44934213,\n",
       "          1.        , 0.58109163],\n",
       "         [0.55122234, 0.59161937, 0.52886381, ..., 0.51765878,\n",
       "          0.58109163, 1.        ]],\n",
       "\n",
       "        [[1.        , 0.52009281, 0.59531289, ..., 0.47456496,\n",
       "          0.50346994, 0.55122234],\n",
       "         [0.52009281, 1.        , 0.51728952, ..., 0.44649454,\n",
       "          0.54981047, 0.59161937],\n",
       "         [0.59531289, 0.51728952, 1.        , ..., 0.46227573,\n",
       "          0.48162972, 0.52886381],\n",
       "         ...,\n",
       "         [0.47456496, 0.44649454, 0.46227573, ..., 1.        ,\n",
       "          0.44934213, 0.51765878],\n",
       "         [0.50346994, 0.54981047, 0.48162972, ..., 0.44934213,\n",
       "          1.        , 0.58109163],\n",
       "         [0.55122234, 0.59161937, 0.52886381, ..., 0.51765878,\n",
       "          0.58109163, 1.        ]],\n",
       "\n",
       "        [[1.        , 0.52009281, 0.59531289, ..., 0.47456496,\n",
       "          0.50346994, 0.55122234],\n",
       "         [0.52009281, 1.        , 0.51728952, ..., 0.44649454,\n",
       "          0.54981047, 0.59161937],\n",
       "         [0.59531289, 0.51728952, 1.        , ..., 0.46227573,\n",
       "          0.48162972, 0.52886381],\n",
       "         ...,\n",
       "         [0.47456496, 0.44649454, 0.46227573, ..., 1.        ,\n",
       "          0.44934213, 0.51765878],\n",
       "         [0.50346994, 0.54981047, 0.48162972, ..., 0.44934213,\n",
       "          1.        , 0.58109163],\n",
       "         [0.55122234, 0.59161937, 0.52886381, ..., 0.51765878,\n",
       "          0.58109163, 1.        ]]],\n",
       "\n",
       "\n",
       "       [[[1.        , 0.52009281, 0.59531289, ..., 0.47456496,\n",
       "          0.50346994, 0.55122234],\n",
       "         [0.52009281, 1.        , 0.51728952, ..., 0.44649454,\n",
       "          0.54981047, 0.59161937],\n",
       "         [0.59531289, 0.51728952, 1.        , ..., 0.46227573,\n",
       "          0.48162972, 0.52886381],\n",
       "         ...,\n",
       "         [0.47456496, 0.44649454, 0.46227573, ..., 1.        ,\n",
       "          0.44934213, 0.51765878],\n",
       "         [0.50346994, 0.54981047, 0.48162972, ..., 0.44934213,\n",
       "          1.        , 0.58109163],\n",
       "         [0.55122234, 0.59161937, 0.52886381, ..., 0.51765878,\n",
       "          0.58109163, 1.        ]],\n",
       "\n",
       "        [[1.        , 0.52009281, 0.59531289, ..., 0.47456496,\n",
       "          0.50346994, 0.55122234],\n",
       "         [0.52009281, 1.        , 0.51728952, ..., 0.44649454,\n",
       "          0.54981047, 0.59161937],\n",
       "         [0.59531289, 0.51728952, 1.        , ..., 0.46227573,\n",
       "          0.48162972, 0.52886381],\n",
       "         ...,\n",
       "         [0.47456496, 0.44649454, 0.46227573, ..., 1.        ,\n",
       "          0.44934213, 0.51765878],\n",
       "         [0.50346994, 0.54981047, 0.48162972, ..., 0.44934213,\n",
       "          1.        , 0.58109163],\n",
       "         [0.55122234, 0.59161937, 0.52886381, ..., 0.51765878,\n",
       "          0.58109163, 1.        ]],\n",
       "\n",
       "        [[1.        , 0.52009281, 0.59531289, ..., 0.47456496,\n",
       "          0.50346994, 0.55122234],\n",
       "         [0.52009281, 1.        , 0.51728952, ..., 0.44649454,\n",
       "          0.54981047, 0.59161937],\n",
       "         [0.59531289, 0.51728952, 1.        , ..., 0.46227573,\n",
       "          0.48162972, 0.52886381],\n",
       "         ...,\n",
       "         [0.47456496, 0.44649454, 0.46227573, ..., 1.        ,\n",
       "          0.44934213, 0.51765878],\n",
       "         [0.50346994, 0.54981047, 0.48162972, ..., 0.44934213,\n",
       "          1.        , 0.58109163],\n",
       "         [0.55122234, 0.59161937, 0.52886381, ..., 0.51765878,\n",
       "          0.58109163, 1.        ]],\n",
       "\n",
       "        ...,\n",
       "\n",
       "        [[1.        , 0.52009281, 0.59531289, ..., 0.47456496,\n",
       "          0.50346994, 0.55122234],\n",
       "         [0.52009281, 1.        , 0.51728952, ..., 0.44649454,\n",
       "          0.54981047, 0.59161937],\n",
       "         [0.59531289, 0.51728952, 1.        , ..., 0.46227573,\n",
       "          0.48162972, 0.52886381],\n",
       "         ...,\n",
       "         [0.47456496, 0.44649454, 0.46227573, ..., 1.        ,\n",
       "          0.44934213, 0.51765878],\n",
       "         [0.50346994, 0.54981047, 0.48162972, ..., 0.44934213,\n",
       "          1.        , 0.58109163],\n",
       "         [0.55122234, 0.59161937, 0.52886381, ..., 0.51765878,\n",
       "          0.58109163, 1.        ]],\n",
       "\n",
       "        [[1.        , 0.52009281, 0.59531289, ..., 0.47456496,\n",
       "          0.50346994, 0.55122234],\n",
       "         [0.52009281, 1.        , 0.51728952, ..., 0.44649454,\n",
       "          0.54981047, 0.59161937],\n",
       "         [0.59531289, 0.51728952, 1.        , ..., 0.46227573,\n",
       "          0.48162972, 0.52886381],\n",
       "         ...,\n",
       "         [0.47456496, 0.44649454, 0.46227573, ..., 1.        ,\n",
       "          0.44934213, 0.51765878],\n",
       "         [0.50346994, 0.54981047, 0.48162972, ..., 0.44934213,\n",
       "          1.        , 0.58109163],\n",
       "         [0.55122234, 0.59161937, 0.52886381, ..., 0.51765878,\n",
       "          0.58109163, 1.        ]],\n",
       "\n",
       "        [[1.        , 0.52009281, 0.59531289, ..., 0.47456496,\n",
       "          0.50346994, 0.55122234],\n",
       "         [0.52009281, 1.        , 0.51728952, ..., 0.44649454,\n",
       "          0.54981047, 0.59161937],\n",
       "         [0.59531289, 0.51728952, 1.        , ..., 0.46227573,\n",
       "          0.48162972, 0.52886381],\n",
       "         ...,\n",
       "         [0.47456496, 0.44649454, 0.46227573, ..., 1.        ,\n",
       "          0.44934213, 0.51765878],\n",
       "         [0.50346994, 0.54981047, 0.48162972, ..., 0.44934213,\n",
       "          1.        , 0.58109163],\n",
       "         [0.55122234, 0.59161937, 0.52886381, ..., 0.51765878,\n",
       "          0.58109163, 1.        ]]],\n",
       "\n",
       "\n",
       "       [[[1.        , 0.52009281, 0.59531289, ..., 0.47456496,\n",
       "          0.50346994, 0.55122234],\n",
       "         [0.52009281, 1.        , 0.51728952, ..., 0.44649454,\n",
       "          0.54981047, 0.59161937],\n",
       "         [0.59531289, 0.51728952, 1.        , ..., 0.46227573,\n",
       "          0.48162972, 0.52886381],\n",
       "         ...,\n",
       "         [0.47456496, 0.44649454, 0.46227573, ..., 1.        ,\n",
       "          0.44934213, 0.51765878],\n",
       "         [0.50346994, 0.54981047, 0.48162972, ..., 0.44934213,\n",
       "          1.        , 0.58109163],\n",
       "         [0.55122234, 0.59161937, 0.52886381, ..., 0.51765878,\n",
       "          0.58109163, 1.        ]],\n",
       "\n",
       "        [[1.        , 0.52009281, 0.59531289, ..., 0.47456496,\n",
       "          0.50346994, 0.55122234],\n",
       "         [0.52009281, 1.        , 0.51728952, ..., 0.44649454,\n",
       "          0.54981047, 0.59161937],\n",
       "         [0.59531289, 0.51728952, 1.        , ..., 0.46227573,\n",
       "          0.48162972, 0.52886381],\n",
       "         ...,\n",
       "         [0.47456496, 0.44649454, 0.46227573, ..., 1.        ,\n",
       "          0.44934213, 0.51765878],\n",
       "         [0.50346994, 0.54981047, 0.48162972, ..., 0.44934213,\n",
       "          1.        , 0.58109163],\n",
       "         [0.55122234, 0.59161937, 0.52886381, ..., 0.51765878,\n",
       "          0.58109163, 1.        ]],\n",
       "\n",
       "        [[1.        , 0.52009281, 0.59531289, ..., 0.47456496,\n",
       "          0.50346994, 0.55122234],\n",
       "         [0.52009281, 1.        , 0.51728952, ..., 0.44649454,\n",
       "          0.54981047, 0.59161937],\n",
       "         [0.59531289, 0.51728952, 1.        , ..., 0.46227573,\n",
       "          0.48162972, 0.52886381],\n",
       "         ...,\n",
       "         [0.47456496, 0.44649454, 0.46227573, ..., 1.        ,\n",
       "          0.44934213, 0.51765878],\n",
       "         [0.50346994, 0.54981047, 0.48162972, ..., 0.44934213,\n",
       "          1.        , 0.58109163],\n",
       "         [0.55122234, 0.59161937, 0.52886381, ..., 0.51765878,\n",
       "          0.58109163, 1.        ]],\n",
       "\n",
       "        ...,\n",
       "\n",
       "        [[1.        , 0.52009281, 0.59531289, ..., 0.47456496,\n",
       "          0.50346994, 0.55122234],\n",
       "         [0.52009281, 1.        , 0.51728952, ..., 0.44649454,\n",
       "          0.54981047, 0.59161937],\n",
       "         [0.59531289, 0.51728952, 1.        , ..., 0.46227573,\n",
       "          0.48162972, 0.52886381],\n",
       "         ...,\n",
       "         [0.47456496, 0.44649454, 0.46227573, ..., 1.        ,\n",
       "          0.44934213, 0.51765878],\n",
       "         [0.50346994, 0.54981047, 0.48162972, ..., 0.44934213,\n",
       "          1.        , 0.58109163],\n",
       "         [0.55122234, 0.59161937, 0.52886381, ..., 0.51765878,\n",
       "          0.58109163, 1.        ]],\n",
       "\n",
       "        [[1.        , 0.52009281, 0.59531289, ..., 0.47456496,\n",
       "          0.50346994, 0.55122234],\n",
       "         [0.52009281, 1.        , 0.51728952, ..., 0.44649454,\n",
       "          0.54981047, 0.59161937],\n",
       "         [0.59531289, 0.51728952, 1.        , ..., 0.46227573,\n",
       "          0.48162972, 0.52886381],\n",
       "         ...,\n",
       "         [0.47456496, 0.44649454, 0.46227573, ..., 1.        ,\n",
       "          0.44934213, 0.51765878],\n",
       "         [0.50346994, 0.54981047, 0.48162972, ..., 0.44934213,\n",
       "          1.        , 0.58109163],\n",
       "         [0.55122234, 0.59161937, 0.52886381, ..., 0.51765878,\n",
       "          0.58109163, 1.        ]],\n",
       "\n",
       "        [[1.        , 0.52009281, 0.59531289, ..., 0.47456496,\n",
       "          0.50346994, 0.55122234],\n",
       "         [0.52009281, 1.        , 0.51728952, ..., 0.44649454,\n",
       "          0.54981047, 0.59161937],\n",
       "         [0.59531289, 0.51728952, 1.        , ..., 0.46227573,\n",
       "          0.48162972, 0.52886381],\n",
       "         ...,\n",
       "         [0.47456496, 0.44649454, 0.46227573, ..., 1.        ,\n",
       "          0.44934213, 0.51765878],\n",
       "         [0.50346994, 0.54981047, 0.48162972, ..., 0.44934213,\n",
       "          1.        , 0.58109163],\n",
       "         [0.55122234, 0.59161937, 0.52886381, ..., 0.51765878,\n",
       "          0.58109163, 1.        ]]],\n",
       "\n",
       "\n",
       "       ...,\n",
       "\n",
       "\n",
       "       [[[1.        , 0.52009281, 0.59531289, ..., 0.47456496,\n",
       "          0.50346994, 0.55122234],\n",
       "         [0.52009281, 1.        , 0.51728952, ..., 0.44649454,\n",
       "          0.54981047, 0.59161937],\n",
       "         [0.59531289, 0.51728952, 1.        , ..., 0.46227573,\n",
       "          0.48162972, 0.52886381],\n",
       "         ...,\n",
       "         [0.47456496, 0.44649454, 0.46227573, ..., 1.        ,\n",
       "          0.44934213, 0.51765878],\n",
       "         [0.50346994, 0.54981047, 0.48162972, ..., 0.44934213,\n",
       "          1.        , 0.58109163],\n",
       "         [0.55122234, 0.59161937, 0.52886381, ..., 0.51765878,\n",
       "          0.58109163, 1.        ]],\n",
       "\n",
       "        [[1.        , 0.52009281, 0.59531289, ..., 0.47456496,\n",
       "          0.50346994, 0.55122234],\n",
       "         [0.52009281, 1.        , 0.51728952, ..., 0.44649454,\n",
       "          0.54981047, 0.59161937],\n",
       "         [0.59531289, 0.51728952, 1.        , ..., 0.46227573,\n",
       "          0.48162972, 0.52886381],\n",
       "         ...,\n",
       "         [0.47456496, 0.44649454, 0.46227573, ..., 1.        ,\n",
       "          0.44934213, 0.51765878],\n",
       "         [0.50346994, 0.54981047, 0.48162972, ..., 0.44934213,\n",
       "          1.        , 0.58109163],\n",
       "         [0.55122234, 0.59161937, 0.52886381, ..., 0.51765878,\n",
       "          0.58109163, 1.        ]],\n",
       "\n",
       "        [[1.        , 0.52009281, 0.59531289, ..., 0.47456496,\n",
       "          0.50346994, 0.55122234],\n",
       "         [0.52009281, 1.        , 0.51728952, ..., 0.44649454,\n",
       "          0.54981047, 0.59161937],\n",
       "         [0.59531289, 0.51728952, 1.        , ..., 0.46227573,\n",
       "          0.48162972, 0.52886381],\n",
       "         ...,\n",
       "         [0.47456496, 0.44649454, 0.46227573, ..., 1.        ,\n",
       "          0.44934213, 0.51765878],\n",
       "         [0.50346994, 0.54981047, 0.48162972, ..., 0.44934213,\n",
       "          1.        , 0.58109163],\n",
       "         [0.55122234, 0.59161937, 0.52886381, ..., 0.51765878,\n",
       "          0.58109163, 1.        ]],\n",
       "\n",
       "        ...,\n",
       "\n",
       "        [[1.        , 0.52009281, 0.59531289, ..., 0.47456496,\n",
       "          0.50346994, 0.55122234],\n",
       "         [0.52009281, 1.        , 0.51728952, ..., 0.44649454,\n",
       "          0.54981047, 0.59161937],\n",
       "         [0.59531289, 0.51728952, 1.        , ..., 0.46227573,\n",
       "          0.48162972, 0.52886381],\n",
       "         ...,\n",
       "         [0.47456496, 0.44649454, 0.46227573, ..., 1.        ,\n",
       "          0.44934213, 0.51765878],\n",
       "         [0.50346994, 0.54981047, 0.48162972, ..., 0.44934213,\n",
       "          1.        , 0.58109163],\n",
       "         [0.55122234, 0.59161937, 0.52886381, ..., 0.51765878,\n",
       "          0.58109163, 1.        ]],\n",
       "\n",
       "        [[1.        , 0.52009281, 0.59531289, ..., 0.47456496,\n",
       "          0.50346994, 0.55122234],\n",
       "         [0.52009281, 1.        , 0.51728952, ..., 0.44649454,\n",
       "          0.54981047, 0.59161937],\n",
       "         [0.59531289, 0.51728952, 1.        , ..., 0.46227573,\n",
       "          0.48162972, 0.52886381],\n",
       "         ...,\n",
       "         [0.47456496, 0.44649454, 0.46227573, ..., 1.        ,\n",
       "          0.44934213, 0.51765878],\n",
       "         [0.50346994, 0.54981047, 0.48162972, ..., 0.44934213,\n",
       "          1.        , 0.58109163],\n",
       "         [0.55122234, 0.59161937, 0.52886381, ..., 0.51765878,\n",
       "          0.58109163, 1.        ]],\n",
       "\n",
       "        [[1.        , 0.52009281, 0.59531289, ..., 0.47456496,\n",
       "          0.50346994, 0.55122234],\n",
       "         [0.52009281, 1.        , 0.51728952, ..., 0.44649454,\n",
       "          0.54981047, 0.59161937],\n",
       "         [0.59531289, 0.51728952, 1.        , ..., 0.46227573,\n",
       "          0.48162972, 0.52886381],\n",
       "         ...,\n",
       "         [0.47456496, 0.44649454, 0.46227573, ..., 1.        ,\n",
       "          0.44934213, 0.51765878],\n",
       "         [0.50346994, 0.54981047, 0.48162972, ..., 0.44934213,\n",
       "          1.        , 0.58109163],\n",
       "         [0.55122234, 0.59161937, 0.52886381, ..., 0.51765878,\n",
       "          0.58109163, 1.        ]]],\n",
       "\n",
       "\n",
       "       [[[1.        , 0.52009281, 0.59531289, ..., 0.47456496,\n",
       "          0.50346994, 0.55122234],\n",
       "         [0.52009281, 1.        , 0.51728952, ..., 0.44649454,\n",
       "          0.54981047, 0.59161937],\n",
       "         [0.59531289, 0.51728952, 1.        , ..., 0.46227573,\n",
       "          0.48162972, 0.52886381],\n",
       "         ...,\n",
       "         [0.47456496, 0.44649454, 0.46227573, ..., 1.        ,\n",
       "          0.44934213, 0.51765878],\n",
       "         [0.50346994, 0.54981047, 0.48162972, ..., 0.44934213,\n",
       "          1.        , 0.58109163],\n",
       "         [0.55122234, 0.59161937, 0.52886381, ..., 0.51765878,\n",
       "          0.58109163, 1.        ]],\n",
       "\n",
       "        [[1.        , 0.52009281, 0.59531289, ..., 0.47456496,\n",
       "          0.50346994, 0.55122234],\n",
       "         [0.52009281, 1.        , 0.51728952, ..., 0.44649454,\n",
       "          0.54981047, 0.59161937],\n",
       "         [0.59531289, 0.51728952, 1.        , ..., 0.46227573,\n",
       "          0.48162972, 0.52886381],\n",
       "         ...,\n",
       "         [0.47456496, 0.44649454, 0.46227573, ..., 1.        ,\n",
       "          0.44934213, 0.51765878],\n",
       "         [0.50346994, 0.54981047, 0.48162972, ..., 0.44934213,\n",
       "          1.        , 0.58109163],\n",
       "         [0.55122234, 0.59161937, 0.52886381, ..., 0.51765878,\n",
       "          0.58109163, 1.        ]],\n",
       "\n",
       "        [[1.        , 0.52009281, 0.59531289, ..., 0.47456496,\n",
       "          0.50346994, 0.55122234],\n",
       "         [0.52009281, 1.        , 0.51728952, ..., 0.44649454,\n",
       "          0.54981047, 0.59161937],\n",
       "         [0.59531289, 0.51728952, 1.        , ..., 0.46227573,\n",
       "          0.48162972, 0.52886381],\n",
       "         ...,\n",
       "         [0.47456496, 0.44649454, 0.46227573, ..., 1.        ,\n",
       "          0.44934213, 0.51765878],\n",
       "         [0.50346994, 0.54981047, 0.48162972, ..., 0.44934213,\n",
       "          1.        , 0.58109163],\n",
       "         [0.55122234, 0.59161937, 0.52886381, ..., 0.51765878,\n",
       "          0.58109163, 1.        ]],\n",
       "\n",
       "        ...,\n",
       "\n",
       "        [[1.        , 0.52009281, 0.59531289, ..., 0.47456496,\n",
       "          0.50346994, 0.55122234],\n",
       "         [0.52009281, 1.        , 0.51728952, ..., 0.44649454,\n",
       "          0.54981047, 0.59161937],\n",
       "         [0.59531289, 0.51728952, 1.        , ..., 0.46227573,\n",
       "          0.48162972, 0.52886381],\n",
       "         ...,\n",
       "         [0.47456496, 0.44649454, 0.46227573, ..., 1.        ,\n",
       "          0.44934213, 0.51765878],\n",
       "         [0.50346994, 0.54981047, 0.48162972, ..., 0.44934213,\n",
       "          1.        , 0.58109163],\n",
       "         [0.55122234, 0.59161937, 0.52886381, ..., 0.51765878,\n",
       "          0.58109163, 1.        ]],\n",
       "\n",
       "        [[1.        , 0.52009281, 0.59531289, ..., 0.47456496,\n",
       "          0.50346994, 0.55122234],\n",
       "         [0.52009281, 1.        , 0.51728952, ..., 0.44649454,\n",
       "          0.54981047, 0.59161937],\n",
       "         [0.59531289, 0.51728952, 1.        , ..., 0.46227573,\n",
       "          0.48162972, 0.52886381],\n",
       "         ...,\n",
       "         [0.47456496, 0.44649454, 0.46227573, ..., 1.        ,\n",
       "          0.44934213, 0.51765878],\n",
       "         [0.50346994, 0.54981047, 0.48162972, ..., 0.44934213,\n",
       "          1.        , 0.58109163],\n",
       "         [0.55122234, 0.59161937, 0.52886381, ..., 0.51765878,\n",
       "          0.58109163, 1.        ]],\n",
       "\n",
       "        [[1.        , 0.52009281, 0.59531289, ..., 0.47456496,\n",
       "          0.50346994, 0.55122234],\n",
       "         [0.52009281, 1.        , 0.51728952, ..., 0.44649454,\n",
       "          0.54981047, 0.59161937],\n",
       "         [0.59531289, 0.51728952, 1.        , ..., 0.46227573,\n",
       "          0.48162972, 0.52886381],\n",
       "         ...,\n",
       "         [0.47456496, 0.44649454, 0.46227573, ..., 1.        ,\n",
       "          0.44934213, 0.51765878],\n",
       "         [0.50346994, 0.54981047, 0.48162972, ..., 0.44934213,\n",
       "          1.        , 0.58109163],\n",
       "         [0.55122234, 0.59161937, 0.52886381, ..., 0.51765878,\n",
       "          0.58109163, 1.        ]]],\n",
       "\n",
       "\n",
       "       [[[1.        , 0.52009281, 0.59531289, ..., 0.47456496,\n",
       "          0.50346994, 0.55122234],\n",
       "         [0.52009281, 1.        , 0.51728952, ..., 0.44649454,\n",
       "          0.54981047, 0.59161937],\n",
       "         [0.59531289, 0.51728952, 1.        , ..., 0.46227573,\n",
       "          0.48162972, 0.52886381],\n",
       "         ...,\n",
       "         [0.47456496, 0.44649454, 0.46227573, ..., 1.        ,\n",
       "          0.44934213, 0.51765878],\n",
       "         [0.50346994, 0.54981047, 0.48162972, ..., 0.44934213,\n",
       "          1.        , 0.58109163],\n",
       "         [0.55122234, 0.59161937, 0.52886381, ..., 0.51765878,\n",
       "          0.58109163, 1.        ]],\n",
       "\n",
       "        [[1.        , 0.52009281, 0.59531289, ..., 0.47456496,\n",
       "          0.50346994, 0.55122234],\n",
       "         [0.52009281, 1.        , 0.51728952, ..., 0.44649454,\n",
       "          0.54981047, 0.59161937],\n",
       "         [0.59531289, 0.51728952, 1.        , ..., 0.46227573,\n",
       "          0.48162972, 0.52886381],\n",
       "         ...,\n",
       "         [0.47456496, 0.44649454, 0.46227573, ..., 1.        ,\n",
       "          0.44934213, 0.51765878],\n",
       "         [0.50346994, 0.54981047, 0.48162972, ..., 0.44934213,\n",
       "          1.        , 0.58109163],\n",
       "         [0.55122234, 0.59161937, 0.52886381, ..., 0.51765878,\n",
       "          0.58109163, 1.        ]],\n",
       "\n",
       "        [[1.        , 0.52009281, 0.59531289, ..., 0.47456496,\n",
       "          0.50346994, 0.55122234],\n",
       "         [0.52009281, 1.        , 0.51728952, ..., 0.44649454,\n",
       "          0.54981047, 0.59161937],\n",
       "         [0.59531289, 0.51728952, 1.        , ..., 0.46227573,\n",
       "          0.48162972, 0.52886381],\n",
       "         ...,\n",
       "         [0.47456496, 0.44649454, 0.46227573, ..., 1.        ,\n",
       "          0.44934213, 0.51765878],\n",
       "         [0.50346994, 0.54981047, 0.48162972, ..., 0.44934213,\n",
       "          1.        , 0.58109163],\n",
       "         [0.55122234, 0.59161937, 0.52886381, ..., 0.51765878,\n",
       "          0.58109163, 1.        ]],\n",
       "\n",
       "        ...,\n",
       "\n",
       "        [[1.        , 0.52009281, 0.59531289, ..., 0.47456496,\n",
       "          0.50346994, 0.55122234],\n",
       "         [0.52009281, 1.        , 0.51728952, ..., 0.44649454,\n",
       "          0.54981047, 0.59161937],\n",
       "         [0.59531289, 0.51728952, 1.        , ..., 0.46227573,\n",
       "          0.48162972, 0.52886381],\n",
       "         ...,\n",
       "         [0.47456496, 0.44649454, 0.46227573, ..., 1.        ,\n",
       "          0.44934213, 0.51765878],\n",
       "         [0.50346994, 0.54981047, 0.48162972, ..., 0.44934213,\n",
       "          1.        , 0.58109163],\n",
       "         [0.55122234, 0.59161937, 0.52886381, ..., 0.51765878,\n",
       "          0.58109163, 1.        ]],\n",
       "\n",
       "        [[1.        , 0.52009281, 0.59531289, ..., 0.47456496,\n",
       "          0.50346994, 0.55122234],\n",
       "         [0.52009281, 1.        , 0.51728952, ..., 0.44649454,\n",
       "          0.54981047, 0.59161937],\n",
       "         [0.59531289, 0.51728952, 1.        , ..., 0.46227573,\n",
       "          0.48162972, 0.52886381],\n",
       "         ...,\n",
       "         [0.47456496, 0.44649454, 0.46227573, ..., 1.        ,\n",
       "          0.44934213, 0.51765878],\n",
       "         [0.50346994, 0.54981047, 0.48162972, ..., 0.44934213,\n",
       "          1.        , 0.58109163],\n",
       "         [0.55122234, 0.59161937, 0.52886381, ..., 0.51765878,\n",
       "          0.58109163, 1.        ]],\n",
       "\n",
       "        [[1.        , 0.52009281, 0.59531289, ..., 0.47456496,\n",
       "          0.50346994, 0.55122234],\n",
       "         [0.52009281, 1.        , 0.51728952, ..., 0.44649454,\n",
       "          0.54981047, 0.59161937],\n",
       "         [0.59531289, 0.51728952, 1.        , ..., 0.46227573,\n",
       "          0.48162972, 0.52886381],\n",
       "         ...,\n",
       "         [0.47456496, 0.44649454, 0.46227573, ..., 1.        ,\n",
       "          0.44934213, 0.51765878],\n",
       "         [0.50346994, 0.54981047, 0.48162972, ..., 0.44934213,\n",
       "          1.        , 0.58109163],\n",
       "         [0.55122234, 0.59161937, 0.52886381, ..., 0.51765878,\n",
       "          0.58109163, 1.        ]]]])"
      ]
     },
     "execution_count": 147,
     "metadata": {},
     "output_type": "execute_result"
    }
   ],
   "source": [
    "b_tiled_temp"
   ]
  },
  {
   "cell_type": "code",
   "execution_count": 133,
   "metadata": {},
   "outputs": [
    {
     "data": {
      "text/plain": [
       "(12, 15, 15)"
      ]
     },
     "execution_count": 133,
     "metadata": {},
     "output_type": "execute_result"
    }
   ],
   "source": [
    "b_tiled.shape"
   ]
  },
  {
   "cell_type": "code",
   "execution_count": 153,
   "metadata": {},
   "outputs": [],
   "source": [
    "c = np.concatenate([train_X[:, :, :, np.newaxis], b_tiled_temp], axis=3)"
   ]
  },
  {
   "cell_type": "code",
   "execution_count": null,
   "metadata": {},
   "outputs": [],
   "source": []
  },
  {
   "cell_type": "code",
   "execution_count": 152,
   "metadata": {},
   "outputs": [
    {
     "data": {
      "text/plain": [
       "(78327, 12, 15)"
      ]
     },
     "execution_count": 152,
     "metadata": {},
     "output_type": "execute_result"
    }
   ],
   "source": [
    "train_X.shape"
   ]
  },
  {
   "cell_type": "code",
   "execution_count": 149,
   "metadata": {},
   "outputs": [
    {
     "data": {
      "text/plain": [
       "(12, 15)"
      ]
     },
     "execution_count": 149,
     "metadata": {},
     "output_type": "execute_result"
    }
   ],
   "source": [
    "a.shape"
   ]
  },
  {
   "cell_type": "code",
   "execution_count": 139,
   "metadata": {},
   "outputs": [
    {
     "data": {
      "text/plain": [
       "array([[24.        ,  1.        ,  0.52009281,  0.59531289,  0.4905096 ,\n",
       "         0.59030765,  0.53083411,  0.42160134,  0.44977888,  0.41419196,\n",
       "         0.43560344,  0.54621173,  0.5127304 ,  0.47456496,  0.50346994,\n",
       "         0.55122234],\n",
       "       [42.        ,  0.52009281,  1.        ,  0.51728952,  0.45122571,\n",
       "         0.49783694,  0.3569048 ,  0.40421719,  0.3800037 ,  0.30118805,\n",
       "         0.41944514,  0.36872095,  0.51981267,  0.44649454,  0.54981047,\n",
       "         0.59161937],\n",
       "       [55.        ,  0.59531289,  0.51728952,  1.        ,  0.48578304,\n",
       "         0.5503211 ,  0.56126153,  0.41188402,  0.47546262,  0.42028723,\n",
       "         0.40471204,  0.55828677,  0.49244704,  0.46227573,  0.48162972,\n",
       "         0.52886381],\n",
       "       [26.        ,  0.4905096 ,  0.45122571,  0.48578304,  1.        ,\n",
       "         0.49171092,  0.41857639,  0.38567624,  0.39845473,  0.33828968,\n",
       "         0.37756179,  0.43709072,  0.42578968,  0.40196755,  0.42904218,\n",
       "         0.48198089],\n",
       "       [14.        ,  0.59030765,  0.49783694,  0.5503211 ,  0.49171092,\n",
       "         1.        ,  0.5057194 ,  0.41738819,  0.45516972,  0.40246901,\n",
       "         0.42746746,  0.49505185,  0.50251473,  0.47448538,  0.49752636,\n",
       "         0.54897284],\n",
       "       [38.        ,  0.53083411,  0.3569048 ,  0.56126153,  0.41857639,\n",
       "         0.5057194 ,  1.        ,  0.41514667,  0.40266409,  0.42453297,\n",
       "         0.3655757 ,  0.55644634,  0.4603858 ,  0.43061673,  0.39560533,\n",
       "         0.45242428],\n",
       "       [29.        ,  0.42160134,  0.40421719,  0.41188402,  0.38567624,\n",
       "         0.41738819,  0.41514667,  1.        ,  0.36183555,  0.31486398,\n",
       "         0.35329506,  0.3926476 ,  0.42524214,  0.36517658,  0.39324711,\n",
       "         0.43368568],\n",
       "       [31.        ,  0.44977888,  0.3800037 ,  0.47546262,  0.39845473,\n",
       "         0.45516972,  0.40266409,  0.36183555,  1.        ,  0.34720721,\n",
       "         0.33318969,  0.42348962,  0.39795036,  0.38398166,  0.3881271 ,\n",
       "         0.4244861 ],\n",
       "       [57.        ,  0.41419196,  0.30118805,  0.42028723,  0.33828968,\n",
       "         0.40246901,  0.42453297,  0.31486398,  0.34720721,  1.        ,\n",
       "         0.30937541,  0.41493068,  0.36170076,  0.34114198,  0.33592066,\n",
       "         0.3681671 ],\n",
       "       [29.        ,  0.43560344,  0.41944514,  0.40471204,  0.37756179,\n",
       "         0.42746746,  0.3655757 ,  0.35329506,  0.33318969,  0.30937541,\n",
       "         1.        ,  0.4258141 ,  0.46153398,  0.37872644,  0.42915902,\n",
       "         0.44698577],\n",
       "       [21.        ,  0.54621173,  0.36872095,  0.55828677,  0.43709072,\n",
       "         0.49505185,  0.55644634,  0.3926476 ,  0.42348962,  0.41493068,\n",
       "         0.4258141 ,  1.        ,  0.48384509,  0.45728789,  0.42881622,\n",
       "         0.45967648],\n",
       "       [ 4.        ,  0.5127304 ,  0.51981267,  0.49244704,  0.42578968,\n",
       "         0.50251473,  0.4603858 ,  0.42524214,  0.39795036,  0.36170076,\n",
       "         0.46153398,  0.48384509,  1.        ,  0.45854127,  0.51950919,\n",
       "         0.54984524],\n",
       "       [21.        ,  0.47456496,  0.44649454,  0.46227573,  0.40196755,\n",
       "         0.47448538,  0.43061673,  0.36517658,  0.38398166,  0.34114198,\n",
       "         0.37872644,  0.45728789,  0.45854127,  1.        ,  0.44934213,\n",
       "         0.51765878],\n",
       "       [ 6.        ,  0.50346994,  0.54981047,  0.48162972,  0.42904218,\n",
       "         0.49752636,  0.39560533,  0.39324711,  0.3881271 ,  0.33592066,\n",
       "         0.42915902,  0.42881622,  0.51950919,  0.44934213,  1.        ,\n",
       "         0.58109163],\n",
       "       [ 6.        ,  0.55122234,  0.59161937,  0.52886381,  0.48198089,\n",
       "         0.54897284,  0.45242428,  0.43368568,  0.4244861 ,  0.3681671 ,\n",
       "         0.44698577,  0.45967648,  0.54984524,  0.51765878,  0.58109163,\n",
       "         1.        ]])"
      ]
     },
     "execution_count": 139,
     "metadata": {},
     "output_type": "execute_result"
    }
   ],
   "source": [
    "c[1]"
   ]
  },
  {
   "cell_type": "code",
   "execution_count": 140,
   "metadata": {},
   "outputs": [
    {
     "data": {
      "text/plain": [
       "array([[28., 24., 54., 44., 26., 34., 31., 30., 56., 59., 36.,  6., 30.,\n",
       "         9., 15.],\n",
       "       [24., 42., 55., 26., 14., 38., 29., 31., 57., 29., 21.,  4., 21.,\n",
       "         6.,  6.],\n",
       "       [40., 41., 52., 30., 17., 27., 25., 22., 48., 33., 30.,  6., 20.,\n",
       "         3.,  7.],\n",
       "       [46., 43., 53., 41., 18., 42., 20., 13., 51., 55., 22.,  0., 19.,\n",
       "         5.,  8.],\n",
       "       [ 6., 46., 60., 32.,  5., 27., 34., 34.,  9., 57., 21.,  0., 27.,\n",
       "        12., 19.],\n",
       "       [41., 63., 84., 38., 22., 28., 18., 22., 48., 55., 26.,  3., 22.,\n",
       "         0., 14.],\n",
       "       [34., 51., 69., 30., 10., 27., 25., 11., 42., 54., 30.,  7., 22.,\n",
       "        10., 13.],\n",
       "       [27., 39., 45., 33.,  3., 38., 26., 36., 34., 36., 34.,  0., 20.,\n",
       "         5.,  5.],\n",
       "       [28., 63., 74., 27., 11., 37., 37., 26., 44., 54., 35.,  7., 10.,\n",
       "         6., 19.],\n",
       "       [35., 51., 52., 34., 19., 18., 23., 38., 47., 40., 24.,  5., 23.,\n",
       "        13., 15.],\n",
       "       [31., 40., 36., 30., 21., 31., 36., 29., 50., 52., 31.,  3., 22.,\n",
       "        15., 27.],\n",
       "       [33., 47., 56., 31., 22., 31., 24., 29., 40., 44., 12.,  0., 22.,\n",
       "         8., 16.]], dtype=float32)"
      ]
     },
     "execution_count": 140,
     "metadata": {},
     "output_type": "execute_result"
    }
   ],
   "source": [
    "train_X[0]"
   ]
  },
  {
   "cell_type": "code",
   "execution_count": 128,
   "metadata": {},
   "outputs": [
    {
     "ename": "ValueError",
     "evalue": "all the input array dimensions for the concatenation axis must match exactly, but along dimension 0, the array at index 0 has size 12 and the array at index 1 has size 1",
     "output_type": "error",
     "traceback": [
      "\u001b[0;31m---------------------------------------------------------------------------\u001b[0m",
      "\u001b[0;31mValueError\u001b[0m                                Traceback (most recent call last)",
      "Cell \u001b[0;32mIn[128], line 1\u001b[0m\n\u001b[0;32m----> 1\u001b[0m c \u001b[39m=\u001b[39m np\u001b[39m.\u001b[39;49mconcatenate([a[:, :, np\u001b[39m.\u001b[39;49mnewaxis], b_reshaped], axis\u001b[39m=\u001b[39;49m\u001b[39m2\u001b[39;49m)\n",
      "File \u001b[0;32m<__array_function__ internals>:180\u001b[0m, in \u001b[0;36mconcatenate\u001b[0;34m(*args, **kwargs)\u001b[0m\n",
      "\u001b[0;31mValueError\u001b[0m: all the input array dimensions for the concatenation axis must match exactly, but along dimension 0, the array at index 0 has size 12 and the array at index 1 has size 1"
     ]
    }
   ],
   "source": [
    "c = np.concatenate([a[:, :, np.newaxis], b_reshaped], axis=2)"
   ]
  },
  {
   "cell_type": "code",
   "execution_count": 104,
   "metadata": {},
   "outputs": [
    {
     "data": {
      "text/plain": [
       "(15,)"
      ]
     },
     "execution_count": 104,
     "metadata": {},
     "output_type": "execute_result"
    }
   ],
   "source": [
    "# stack each row of b with each element of a\n",
    "a[0].shape"
   ]
  },
  {
   "cell_type": "code",
   "execution_count": 119,
   "metadata": {},
   "outputs": [
    {
     "data": {
      "text/plain": [
       "array([[28.        ,  1.        ,  0.52009281,  0.59531289,  0.4905096 ,\n",
       "         0.59030765,  0.53083411,  0.42160134,  0.44977888,  0.41419196,\n",
       "         0.43560344,  0.54621173,  0.5127304 ,  0.47456496,  0.50346994,\n",
       "         0.55122234],\n",
       "       [24.        ,  0.52009281,  1.        ,  0.51728952,  0.45122571,\n",
       "         0.49783694,  0.3569048 ,  0.40421719,  0.3800037 ,  0.30118805,\n",
       "         0.41944514,  0.36872095,  0.51981267,  0.44649454,  0.54981047,\n",
       "         0.59161937],\n",
       "       [54.        ,  0.59531289,  0.51728952,  1.        ,  0.48578304,\n",
       "         0.5503211 ,  0.56126153,  0.41188402,  0.47546262,  0.42028723,\n",
       "         0.40471204,  0.55828677,  0.49244704,  0.46227573,  0.48162972,\n",
       "         0.52886381],\n",
       "       [44.        ,  0.4905096 ,  0.45122571,  0.48578304,  1.        ,\n",
       "         0.49171092,  0.41857639,  0.38567624,  0.39845473,  0.33828968,\n",
       "         0.37756179,  0.43709072,  0.42578968,  0.40196755,  0.42904218,\n",
       "         0.48198089],\n",
       "       [26.        ,  0.59030765,  0.49783694,  0.5503211 ,  0.49171092,\n",
       "         1.        ,  0.5057194 ,  0.41738819,  0.45516972,  0.40246901,\n",
       "         0.42746746,  0.49505185,  0.50251473,  0.47448538,  0.49752636,\n",
       "         0.54897284],\n",
       "       [34.        ,  0.53083411,  0.3569048 ,  0.56126153,  0.41857639,\n",
       "         0.5057194 ,  1.        ,  0.41514667,  0.40266409,  0.42453297,\n",
       "         0.3655757 ,  0.55644634,  0.4603858 ,  0.43061673,  0.39560533,\n",
       "         0.45242428],\n",
       "       [31.        ,  0.42160134,  0.40421719,  0.41188402,  0.38567624,\n",
       "         0.41738819,  0.41514667,  1.        ,  0.36183555,  0.31486398,\n",
       "         0.35329506,  0.3926476 ,  0.42524214,  0.36517658,  0.39324711,\n",
       "         0.43368568],\n",
       "       [30.        ,  0.44977888,  0.3800037 ,  0.47546262,  0.39845473,\n",
       "         0.45516972,  0.40266409,  0.36183555,  1.        ,  0.34720721,\n",
       "         0.33318969,  0.42348962,  0.39795036,  0.38398166,  0.3881271 ,\n",
       "         0.4244861 ],\n",
       "       [56.        ,  0.41419196,  0.30118805,  0.42028723,  0.33828968,\n",
       "         0.40246901,  0.42453297,  0.31486398,  0.34720721,  1.        ,\n",
       "         0.30937541,  0.41493068,  0.36170076,  0.34114198,  0.33592066,\n",
       "         0.3681671 ],\n",
       "       [59.        ,  0.43560344,  0.41944514,  0.40471204,  0.37756179,\n",
       "         0.42746746,  0.3655757 ,  0.35329506,  0.33318969,  0.30937541,\n",
       "         1.        ,  0.4258141 ,  0.46153398,  0.37872644,  0.42915902,\n",
       "         0.44698577],\n",
       "       [36.        ,  0.54621173,  0.36872095,  0.55828677,  0.43709072,\n",
       "         0.49505185,  0.55644634,  0.3926476 ,  0.42348962,  0.41493068,\n",
       "         0.4258141 ,  1.        ,  0.48384509,  0.45728789,  0.42881622,\n",
       "         0.45967648],\n",
       "       [ 6.        ,  0.5127304 ,  0.51981267,  0.49244704,  0.42578968,\n",
       "         0.50251473,  0.4603858 ,  0.42524214,  0.39795036,  0.36170076,\n",
       "         0.46153398,  0.48384509,  1.        ,  0.45854127,  0.51950919,\n",
       "         0.54984524],\n",
       "       [30.        ,  0.47456496,  0.44649454,  0.46227573,  0.40196755,\n",
       "         0.47448538,  0.43061673,  0.36517658,  0.38398166,  0.34114198,\n",
       "         0.37872644,  0.45728789,  0.45854127,  1.        ,  0.44934213,\n",
       "         0.51765878],\n",
       "       [ 9.        ,  0.50346994,  0.54981047,  0.48162972,  0.42904218,\n",
       "         0.49752636,  0.39560533,  0.39324711,  0.3881271 ,  0.33592066,\n",
       "         0.42915902,  0.42881622,  0.51950919,  0.44934213,  1.        ,\n",
       "         0.58109163],\n",
       "       [15.        ,  0.55122234,  0.59161937,  0.52886381,  0.48198089,\n",
       "         0.54897284,  0.45242428,  0.43368568,  0.4244861 ,  0.3681671 ,\n",
       "         0.44698577,  0.45967648,  0.54984524,  0.51765878,  0.58109163,\n",
       "         1.        ]])"
      ]
     },
     "execution_count": 119,
     "metadata": {},
     "output_type": "execute_result"
    }
   ],
   "source": [
    "np.hstack((a[0].reshape(-1,1),b))"
   ]
  },
  {
   "cell_type": "code",
   "execution_count": 126,
   "metadata": {},
   "outputs": [
    {
     "data": {
      "text/plain": [
       "array([[1.        , 0.52009281, 0.59531289, 0.4905096 , 0.59030765,\n",
       "        0.53083411, 0.42160134, 0.44977888, 0.41419196, 0.43560344,\n",
       "        0.54621173, 0.5127304 , 0.47456496, 0.50346994, 0.55122234],\n",
       "       [0.52009281, 1.        , 0.51728952, 0.45122571, 0.49783694,\n",
       "        0.3569048 , 0.40421719, 0.3800037 , 0.30118805, 0.41944514,\n",
       "        0.36872095, 0.51981267, 0.44649454, 0.54981047, 0.59161937],\n",
       "       [0.59531289, 0.51728952, 1.        , 0.48578304, 0.5503211 ,\n",
       "        0.56126153, 0.41188402, 0.47546262, 0.42028723, 0.40471204,\n",
       "        0.55828677, 0.49244704, 0.46227573, 0.48162972, 0.52886381],\n",
       "       [0.4905096 , 0.45122571, 0.48578304, 1.        , 0.49171092,\n",
       "        0.41857639, 0.38567624, 0.39845473, 0.33828968, 0.37756179,\n",
       "        0.43709072, 0.42578968, 0.40196755, 0.42904218, 0.48198089],\n",
       "       [0.59030765, 0.49783694, 0.5503211 , 0.49171092, 1.        ,\n",
       "        0.5057194 , 0.41738819, 0.45516972, 0.40246901, 0.42746746,\n",
       "        0.49505185, 0.50251473, 0.47448538, 0.49752636, 0.54897284],\n",
       "       [0.53083411, 0.3569048 , 0.56126153, 0.41857639, 0.5057194 ,\n",
       "        1.        , 0.41514667, 0.40266409, 0.42453297, 0.3655757 ,\n",
       "        0.55644634, 0.4603858 , 0.43061673, 0.39560533, 0.45242428],\n",
       "       [0.42160134, 0.40421719, 0.41188402, 0.38567624, 0.41738819,\n",
       "        0.41514667, 1.        , 0.36183555, 0.31486398, 0.35329506,\n",
       "        0.3926476 , 0.42524214, 0.36517658, 0.39324711, 0.43368568],\n",
       "       [0.44977888, 0.3800037 , 0.47546262, 0.39845473, 0.45516972,\n",
       "        0.40266409, 0.36183555, 1.        , 0.34720721, 0.33318969,\n",
       "        0.42348962, 0.39795036, 0.38398166, 0.3881271 , 0.4244861 ],\n",
       "       [0.41419196, 0.30118805, 0.42028723, 0.33828968, 0.40246901,\n",
       "        0.42453297, 0.31486398, 0.34720721, 1.        , 0.30937541,\n",
       "        0.41493068, 0.36170076, 0.34114198, 0.33592066, 0.3681671 ],\n",
       "       [0.43560344, 0.41944514, 0.40471204, 0.37756179, 0.42746746,\n",
       "        0.3655757 , 0.35329506, 0.33318969, 0.30937541, 1.        ,\n",
       "        0.4258141 , 0.46153398, 0.37872644, 0.42915902, 0.44698577],\n",
       "       [0.54621173, 0.36872095, 0.55828677, 0.43709072, 0.49505185,\n",
       "        0.55644634, 0.3926476 , 0.42348962, 0.41493068, 0.4258141 ,\n",
       "        1.        , 0.48384509, 0.45728789, 0.42881622, 0.45967648],\n",
       "       [0.5127304 , 0.51981267, 0.49244704, 0.42578968, 0.50251473,\n",
       "        0.4603858 , 0.42524214, 0.39795036, 0.36170076, 0.46153398,\n",
       "        0.48384509, 1.        , 0.45854127, 0.51950919, 0.54984524],\n",
       "       [0.47456496, 0.44649454, 0.46227573, 0.40196755, 0.47448538,\n",
       "        0.43061673, 0.36517658, 0.38398166, 0.34114198, 0.37872644,\n",
       "        0.45728789, 0.45854127, 1.        , 0.44934213, 0.51765878],\n",
       "       [0.50346994, 0.54981047, 0.48162972, 0.42904218, 0.49752636,\n",
       "        0.39560533, 0.39324711, 0.3881271 , 0.33592066, 0.42915902,\n",
       "        0.42881622, 0.51950919, 0.44934213, 1.        , 0.58109163],\n",
       "       [0.55122234, 0.59161937, 0.52886381, 0.48198089, 0.54897284,\n",
       "        0.45242428, 0.43368568, 0.4244861 , 0.3681671 , 0.44698577,\n",
       "        0.45967648, 0.54984524, 0.51765878, 0.58109163, 1.        ]])"
      ]
     },
     "execution_count": 126,
     "metadata": {},
     "output_type": "execute_result"
    }
   ],
   "source": [
    "b"
   ]
  },
  {
   "cell_type": "code",
   "execution_count": 88,
   "metadata": {},
   "outputs": [
    {
     "ename": "ValueError",
     "evalue": "all the input array dimensions for the concatenation axis must match exactly, but along dimension 1, the array at index 0 has size 1 and the array at index 1 has size 15",
     "output_type": "error",
     "traceback": [
      "\u001b[0;31m---------------------------------------------------------------------------\u001b[0m",
      "\u001b[0;31mValueError\u001b[0m                                Traceback (most recent call last)",
      "Cell \u001b[0;32mIn[88], line 2\u001b[0m\n\u001b[1;32m      1\u001b[0m \u001b[39m# merge a and b to make it 12 x 15 x 15 array\u001b[39;00m\n\u001b[0;32m----> 2\u001b[0m c \u001b[39m=\u001b[39m np\u001b[39m.\u001b[39;49mconcatenate((a,b), axis\u001b[39m=\u001b[39;49m\u001b[39m0\u001b[39;49m)\n",
      "File \u001b[0;32m<__array_function__ internals>:180\u001b[0m, in \u001b[0;36mconcatenate\u001b[0;34m(*args, **kwargs)\u001b[0m\n",
      "\u001b[0;31mValueError\u001b[0m: all the input array dimensions for the concatenation axis must match exactly, but along dimension 1, the array at index 0 has size 1 and the array at index 1 has size 15"
     ]
    }
   ],
   "source": [
    "# merge a and b to make it 12 x 15 x 15 array\n",
    "c = np.concatenate((a,b), axis=0)"
   ]
  },
  {
   "cell_type": "code",
   "execution_count": 89,
   "metadata": {},
   "outputs": [
    {
     "data": {
      "text/plain": [
       "array([[28.        , 24.        , 54.        , 44.        , 26.        ,\n",
       "        34.        , 31.        , 30.        , 56.        , 59.        ,\n",
       "        36.        ,  6.        , 30.        ,  9.        , 15.        ],\n",
       "       [24.        , 42.        , 55.        , 26.        , 14.        ,\n",
       "        38.        , 29.        , 31.        , 57.        , 29.        ,\n",
       "        21.        ,  4.        , 21.        ,  6.        ,  6.        ],\n",
       "       [40.        , 41.        , 52.        , 30.        , 17.        ,\n",
       "        27.        , 25.        , 22.        , 48.        , 33.        ,\n",
       "        30.        ,  6.        , 20.        ,  3.        ,  7.        ],\n",
       "       [46.        , 43.        , 53.        , 41.        , 18.        ,\n",
       "        42.        , 20.        , 13.        , 51.        , 55.        ,\n",
       "        22.        ,  0.        , 19.        ,  5.        ,  8.        ],\n",
       "       [ 6.        , 46.        , 60.        , 32.        ,  5.        ,\n",
       "        27.        , 34.        , 34.        ,  9.        , 57.        ,\n",
       "        21.        ,  0.        , 27.        , 12.        , 19.        ],\n",
       "       [41.        , 63.        , 84.        , 38.        , 22.        ,\n",
       "        28.        , 18.        , 22.        , 48.        , 55.        ,\n",
       "        26.        ,  3.        , 22.        ,  0.        , 14.        ],\n",
       "       [34.        , 51.        , 69.        , 30.        , 10.        ,\n",
       "        27.        , 25.        , 11.        , 42.        , 54.        ,\n",
       "        30.        ,  7.        , 22.        , 10.        , 13.        ],\n",
       "       [27.        , 39.        , 45.        , 33.        ,  3.        ,\n",
       "        38.        , 26.        , 36.        , 34.        , 36.        ,\n",
       "        34.        ,  0.        , 20.        ,  5.        ,  5.        ],\n",
       "       [28.        , 63.        , 74.        , 27.        , 11.        ,\n",
       "        37.        , 37.        , 26.        , 44.        , 54.        ,\n",
       "        35.        ,  7.        , 10.        ,  6.        , 19.        ],\n",
       "       [35.        , 51.        , 52.        , 34.        , 19.        ,\n",
       "        18.        , 23.        , 38.        , 47.        , 40.        ,\n",
       "        24.        ,  5.        , 23.        , 13.        , 15.        ],\n",
       "       [31.        , 40.        , 36.        , 30.        , 21.        ,\n",
       "        31.        , 36.        , 29.        , 50.        , 52.        ,\n",
       "        31.        ,  3.        , 22.        , 15.        , 27.        ],\n",
       "       [33.        , 47.        , 56.        , 31.        , 22.        ,\n",
       "        31.        , 24.        , 29.        , 40.        , 44.        ,\n",
       "        12.        ,  0.        , 22.        ,  8.        , 16.        ],\n",
       "       [ 1.        ,  0.52009281,  0.59531289,  0.4905096 ,  0.59030765,\n",
       "         0.53083411,  0.42160134,  0.44977888,  0.41419196,  0.43560344,\n",
       "         0.54621173,  0.5127304 ,  0.47456496,  0.50346994,  0.55122234],\n",
       "       [ 0.52009281,  1.        ,  0.51728952,  0.45122571,  0.49783694,\n",
       "         0.3569048 ,  0.40421719,  0.3800037 ,  0.30118805,  0.41944514,\n",
       "         0.36872095,  0.51981267,  0.44649454,  0.54981047,  0.59161937],\n",
       "       [ 0.59531289,  0.51728952,  1.        ,  0.48578304,  0.5503211 ,\n",
       "         0.56126153,  0.41188402,  0.47546262,  0.42028723,  0.40471204,\n",
       "         0.55828677,  0.49244704,  0.46227573,  0.48162972,  0.52886381],\n",
       "       [ 0.4905096 ,  0.45122571,  0.48578304,  1.        ,  0.49171092,\n",
       "         0.41857639,  0.38567624,  0.39845473,  0.33828968,  0.37756179,\n",
       "         0.43709072,  0.42578968,  0.40196755,  0.42904218,  0.48198089],\n",
       "       [ 0.59030765,  0.49783694,  0.5503211 ,  0.49171092,  1.        ,\n",
       "         0.5057194 ,  0.41738819,  0.45516972,  0.40246901,  0.42746746,\n",
       "         0.49505185,  0.50251473,  0.47448538,  0.49752636,  0.54897284],\n",
       "       [ 0.53083411,  0.3569048 ,  0.56126153,  0.41857639,  0.5057194 ,\n",
       "         1.        ,  0.41514667,  0.40266409,  0.42453297,  0.3655757 ,\n",
       "         0.55644634,  0.4603858 ,  0.43061673,  0.39560533,  0.45242428],\n",
       "       [ 0.42160134,  0.40421719,  0.41188402,  0.38567624,  0.41738819,\n",
       "         0.41514667,  1.        ,  0.36183555,  0.31486398,  0.35329506,\n",
       "         0.3926476 ,  0.42524214,  0.36517658,  0.39324711,  0.43368568],\n",
       "       [ 0.44977888,  0.3800037 ,  0.47546262,  0.39845473,  0.45516972,\n",
       "         0.40266409,  0.36183555,  1.        ,  0.34720721,  0.33318969,\n",
       "         0.42348962,  0.39795036,  0.38398166,  0.3881271 ,  0.4244861 ],\n",
       "       [ 0.41419196,  0.30118805,  0.42028723,  0.33828968,  0.40246901,\n",
       "         0.42453297,  0.31486398,  0.34720721,  1.        ,  0.30937541,\n",
       "         0.41493068,  0.36170076,  0.34114198,  0.33592066,  0.3681671 ],\n",
       "       [ 0.43560344,  0.41944514,  0.40471204,  0.37756179,  0.42746746,\n",
       "         0.3655757 ,  0.35329506,  0.33318969,  0.30937541,  1.        ,\n",
       "         0.4258141 ,  0.46153398,  0.37872644,  0.42915902,  0.44698577],\n",
       "       [ 0.54621173,  0.36872095,  0.55828677,  0.43709072,  0.49505185,\n",
       "         0.55644634,  0.3926476 ,  0.42348962,  0.41493068,  0.4258141 ,\n",
       "         1.        ,  0.48384509,  0.45728789,  0.42881622,  0.45967648],\n",
       "       [ 0.5127304 ,  0.51981267,  0.49244704,  0.42578968,  0.50251473,\n",
       "         0.4603858 ,  0.42524214,  0.39795036,  0.36170076,  0.46153398,\n",
       "         0.48384509,  1.        ,  0.45854127,  0.51950919,  0.54984524],\n",
       "       [ 0.47456496,  0.44649454,  0.46227573,  0.40196755,  0.47448538,\n",
       "         0.43061673,  0.36517658,  0.38398166,  0.34114198,  0.37872644,\n",
       "         0.45728789,  0.45854127,  1.        ,  0.44934213,  0.51765878],\n",
       "       [ 0.50346994,  0.54981047,  0.48162972,  0.42904218,  0.49752636,\n",
       "         0.39560533,  0.39324711,  0.3881271 ,  0.33592066,  0.42915902,\n",
       "         0.42881622,  0.51950919,  0.44934213,  1.        ,  0.58109163],\n",
       "       [ 0.55122234,  0.59161937,  0.52886381,  0.48198089,  0.54897284,\n",
       "         0.45242428,  0.43368568,  0.4244861 ,  0.3681671 ,  0.44698577,\n",
       "         0.45967648,  0.54984524,  0.51765878,  0.58109163,  1.        ]])"
      ]
     },
     "execution_count": 89,
     "metadata": {},
     "output_type": "execute_result"
    }
   ],
   "source": [
    "c"
   ]
  },
  {
   "cell_type": "code",
   "execution_count": null,
   "metadata": {},
   "outputs": [],
   "source": []
  },
  {
   "cell_type": "code",
   "execution_count": null,
   "metadata": {},
   "outputs": [],
   "source": []
  },
  {
   "cell_type": "code",
   "execution_count": 67,
   "metadata": {},
   "outputs": [
    {
     "data": {
      "text/plain": [
       "['K704',\n",
       " 'K702',\n",
       " 'K703',\n",
       " 'K159',\n",
       " 'K182',\n",
       " 'K183',\n",
       " 'K128',\n",
       " 'K139',\n",
       " 'K104',\n",
       " 'K101',\n",
       " 'K206',\n",
       " 'K074',\n",
       " 'K414',\n",
       " 'K415',\n",
       " 'K250']"
      ]
     },
     "execution_count": 67,
     "metadata": {},
     "output_type": "execute_result"
    }
   ],
   "source": [
    "ae_score.corr().columns.to_list()"
   ]
  },
  {
   "cell_type": "code",
   "execution_count": 29,
   "metadata": {},
   "outputs": [
    {
     "data": {
      "text/html": [
       "<div>\n",
       "<style scoped>\n",
       "    .dataframe tbody tr th:only-of-type {\n",
       "        vertical-align: middle;\n",
       "    }\n",
       "\n",
       "    .dataframe tbody tr th {\n",
       "        vertical-align: top;\n",
       "    }\n",
       "\n",
       "    .dataframe thead th {\n",
       "        text-align: right;\n",
       "    }\n",
       "</style>\n",
       "<table border=\"1\" class=\"dataframe\">\n",
       "  <thead>\n",
       "    <tr style=\"text-align: right;\">\n",
       "      <th></th>\n",
       "      <th>K703</th>\n",
       "      <th>K704</th>\n",
       "      <th>K183</th>\n",
       "      <th>K206</th>\n",
       "      <th>K182</th>\n",
       "      <th>K250</th>\n",
       "      <th>K702</th>\n",
       "      <th>K074</th>\n",
       "    </tr>\n",
       "  </thead>\n",
       "  <tbody>\n",
       "    <tr>\n",
       "      <th>K704</th>\n",
       "      <td>0.595313</td>\n",
       "      <td>1.000000</td>\n",
       "      <td>0.530834</td>\n",
       "      <td>0.546212</td>\n",
       "      <td>0.590308</td>\n",
       "      <td>0.551222</td>\n",
       "      <td>0.520093</td>\n",
       "      <td>0.512730</td>\n",
       "    </tr>\n",
       "    <tr>\n",
       "      <th>K702</th>\n",
       "      <td>0.517290</td>\n",
       "      <td>0.520093</td>\n",
       "      <td>0.356905</td>\n",
       "      <td>0.368721</td>\n",
       "      <td>0.497837</td>\n",
       "      <td>0.591619</td>\n",
       "      <td>1.000000</td>\n",
       "      <td>0.519813</td>\n",
       "    </tr>\n",
       "    <tr>\n",
       "      <th>K703</th>\n",
       "      <td>1.000000</td>\n",
       "      <td>0.595313</td>\n",
       "      <td>0.561262</td>\n",
       "      <td>0.558287</td>\n",
       "      <td>0.550321</td>\n",
       "      <td>0.528864</td>\n",
       "      <td>0.517290</td>\n",
       "      <td>0.492447</td>\n",
       "    </tr>\n",
       "    <tr>\n",
       "      <th>K159</th>\n",
       "      <td>0.485783</td>\n",
       "      <td>0.490510</td>\n",
       "      <td>0.418576</td>\n",
       "      <td>0.437091</td>\n",
       "      <td>0.491711</td>\n",
       "      <td>0.481981</td>\n",
       "      <td>0.451226</td>\n",
       "      <td>0.425790</td>\n",
       "    </tr>\n",
       "    <tr>\n",
       "      <th>K182</th>\n",
       "      <td>0.550321</td>\n",
       "      <td>0.590308</td>\n",
       "      <td>0.505719</td>\n",
       "      <td>0.495052</td>\n",
       "      <td>1.000000</td>\n",
       "      <td>0.548973</td>\n",
       "      <td>0.497837</td>\n",
       "      <td>0.502515</td>\n",
       "    </tr>\n",
       "    <tr>\n",
       "      <th>K183</th>\n",
       "      <td>0.561262</td>\n",
       "      <td>0.530834</td>\n",
       "      <td>1.000000</td>\n",
       "      <td>0.556446</td>\n",
       "      <td>0.505719</td>\n",
       "      <td>0.452424</td>\n",
       "      <td>0.356905</td>\n",
       "      <td>0.460386</td>\n",
       "    </tr>\n",
       "    <tr>\n",
       "      <th>K128</th>\n",
       "      <td>0.411884</td>\n",
       "      <td>0.421601</td>\n",
       "      <td>0.415147</td>\n",
       "      <td>0.392648</td>\n",
       "      <td>0.417388</td>\n",
       "      <td>0.433686</td>\n",
       "      <td>0.404217</td>\n",
       "      <td>0.425242</td>\n",
       "    </tr>\n",
       "    <tr>\n",
       "      <th>K139</th>\n",
       "      <td>0.475463</td>\n",
       "      <td>0.449779</td>\n",
       "      <td>0.402664</td>\n",
       "      <td>0.423490</td>\n",
       "      <td>0.455170</td>\n",
       "      <td>0.424486</td>\n",
       "      <td>0.380004</td>\n",
       "      <td>0.397950</td>\n",
       "    </tr>\n",
       "    <tr>\n",
       "      <th>K104</th>\n",
       "      <td>0.420287</td>\n",
       "      <td>0.414192</td>\n",
       "      <td>0.424533</td>\n",
       "      <td>0.414931</td>\n",
       "      <td>0.402469</td>\n",
       "      <td>0.368167</td>\n",
       "      <td>0.301188</td>\n",
       "      <td>0.361701</td>\n",
       "    </tr>\n",
       "    <tr>\n",
       "      <th>K101</th>\n",
       "      <td>0.404712</td>\n",
       "      <td>0.435603</td>\n",
       "      <td>0.365576</td>\n",
       "      <td>0.425814</td>\n",
       "      <td>0.427467</td>\n",
       "      <td>0.446986</td>\n",
       "      <td>0.419445</td>\n",
       "      <td>0.461534</td>\n",
       "    </tr>\n",
       "    <tr>\n",
       "      <th>K206</th>\n",
       "      <td>0.558287</td>\n",
       "      <td>0.546212</td>\n",
       "      <td>0.556446</td>\n",
       "      <td>1.000000</td>\n",
       "      <td>0.495052</td>\n",
       "      <td>0.459676</td>\n",
       "      <td>0.368721</td>\n",
       "      <td>0.483845</td>\n",
       "    </tr>\n",
       "    <tr>\n",
       "      <th>K074</th>\n",
       "      <td>0.492447</td>\n",
       "      <td>0.512730</td>\n",
       "      <td>0.460386</td>\n",
       "      <td>0.483845</td>\n",
       "      <td>0.502515</td>\n",
       "      <td>0.549845</td>\n",
       "      <td>0.519813</td>\n",
       "      <td>1.000000</td>\n",
       "    </tr>\n",
       "    <tr>\n",
       "      <th>K414</th>\n",
       "      <td>0.462276</td>\n",
       "      <td>0.474565</td>\n",
       "      <td>0.430617</td>\n",
       "      <td>0.457288</td>\n",
       "      <td>0.474485</td>\n",
       "      <td>0.517659</td>\n",
       "      <td>0.446495</td>\n",
       "      <td>0.458541</td>\n",
       "    </tr>\n",
       "    <tr>\n",
       "      <th>K415</th>\n",
       "      <td>0.481630</td>\n",
       "      <td>0.503470</td>\n",
       "      <td>0.395605</td>\n",
       "      <td>0.428816</td>\n",
       "      <td>0.497526</td>\n",
       "      <td>0.581092</td>\n",
       "      <td>0.549810</td>\n",
       "      <td>0.519509</td>\n",
       "    </tr>\n",
       "    <tr>\n",
       "      <th>K250</th>\n",
       "      <td>0.528864</td>\n",
       "      <td>0.551222</td>\n",
       "      <td>0.452424</td>\n",
       "      <td>0.459676</td>\n",
       "      <td>0.548973</td>\n",
       "      <td>1.000000</td>\n",
       "      <td>0.591619</td>\n",
       "      <td>0.549845</td>\n",
       "    </tr>\n",
       "  </tbody>\n",
       "</table>\n",
       "</div>"
      ],
      "text/plain": [
       "          K703      K704      K183      K206      K182      K250      K702  \\\n",
       "K704  0.595313  1.000000  0.530834  0.546212  0.590308  0.551222  0.520093   \n",
       "K702  0.517290  0.520093  0.356905  0.368721  0.497837  0.591619  1.000000   \n",
       "K703  1.000000  0.595313  0.561262  0.558287  0.550321  0.528864  0.517290   \n",
       "K159  0.485783  0.490510  0.418576  0.437091  0.491711  0.481981  0.451226   \n",
       "K182  0.550321  0.590308  0.505719  0.495052  1.000000  0.548973  0.497837   \n",
       "K183  0.561262  0.530834  1.000000  0.556446  0.505719  0.452424  0.356905   \n",
       "K128  0.411884  0.421601  0.415147  0.392648  0.417388  0.433686  0.404217   \n",
       "K139  0.475463  0.449779  0.402664  0.423490  0.455170  0.424486  0.380004   \n",
       "K104  0.420287  0.414192  0.424533  0.414931  0.402469  0.368167  0.301188   \n",
       "K101  0.404712  0.435603  0.365576  0.425814  0.427467  0.446986  0.419445   \n",
       "K206  0.558287  0.546212  0.556446  1.000000  0.495052  0.459676  0.368721   \n",
       "K074  0.492447  0.512730  0.460386  0.483845  0.502515  0.549845  0.519813   \n",
       "K414  0.462276  0.474565  0.430617  0.457288  0.474485  0.517659  0.446495   \n",
       "K415  0.481630  0.503470  0.395605  0.428816  0.497526  0.581092  0.549810   \n",
       "K250  0.528864  0.551222  0.452424  0.459676  0.548973  1.000000  0.591619   \n",
       "\n",
       "          K074  \n",
       "K704  0.512730  \n",
       "K702  0.519813  \n",
       "K703  0.492447  \n",
       "K159  0.425790  \n",
       "K182  0.502515  \n",
       "K183  0.460386  \n",
       "K128  0.425242  \n",
       "K139  0.397950  \n",
       "K104  0.361701  \n",
       "K101  0.461534  \n",
       "K206  0.483845  \n",
       "K074  1.000000  \n",
       "K414  0.458541  \n",
       "K415  0.519509  \n",
       "K250  0.549845  "
      ]
     },
     "execution_count": 29,
     "metadata": {},
     "output_type": "execute_result"
    }
   ],
   "source": [
    "ae_score.corr()[isct_inc]"
   ]
  },
  {
   "cell_type": "code",
   "execution_count": 59,
   "metadata": {},
   "outputs": [
    {
     "data": {
      "text/plain": [
       "['K704',\n",
       " 'K702',\n",
       " 'K703',\n",
       " 'K159',\n",
       " 'K182',\n",
       " 'K183',\n",
       " 'K128',\n",
       " 'K139',\n",
       " 'K104',\n",
       " 'K101',\n",
       " 'K206',\n",
       " 'K074',\n",
       " 'K414',\n",
       " 'K415',\n",
       " 'K250']"
      ]
     },
     "execution_count": 59,
     "metadata": {},
     "output_type": "execute_result"
    }
   ],
   "source": [
    "data.columns.to_list()"
   ]
  },
  {
   "cell_type": "code",
   "execution_count": 58,
   "metadata": {},
   "outputs": [
    {
     "data": {
      "text/html": [
       "<div>\n",
       "<style scoped>\n",
       "    .dataframe tbody tr th:only-of-type {\n",
       "        vertical-align: middle;\n",
       "    }\n",
       "\n",
       "    .dataframe tbody tr th {\n",
       "        vertical-align: top;\n",
       "    }\n",
       "\n",
       "    .dataframe thead th {\n",
       "        text-align: right;\n",
       "    }\n",
       "</style>\n",
       "<table border=\"1\" class=\"dataframe\">\n",
       "  <thead>\n",
       "    <tr style=\"text-align: right;\">\n",
       "      <th></th>\n",
       "      <th>K704</th>\n",
       "      <th>K702</th>\n",
       "      <th>K703</th>\n",
       "      <th>K159</th>\n",
       "      <th>K182</th>\n",
       "      <th>K183</th>\n",
       "      <th>K128</th>\n",
       "      <th>K139</th>\n",
       "      <th>K104</th>\n",
       "      <th>K101</th>\n",
       "      <th>K206</th>\n",
       "      <th>K074</th>\n",
       "      <th>K414</th>\n",
       "      <th>K415</th>\n",
       "      <th>K250</th>\n",
       "    </tr>\n",
       "    <tr>\n",
       "      <th>timestamp</th>\n",
       "      <th></th>\n",
       "      <th></th>\n",
       "      <th></th>\n",
       "      <th></th>\n",
       "      <th></th>\n",
       "      <th></th>\n",
       "      <th></th>\n",
       "      <th></th>\n",
       "      <th></th>\n",
       "      <th></th>\n",
       "      <th></th>\n",
       "      <th></th>\n",
       "      <th></th>\n",
       "      <th></th>\n",
       "      <th></th>\n",
       "    </tr>\n",
       "  </thead>\n",
       "  <tbody>\n",
       "    <tr>\n",
       "      <th>2018-01-01 01:00:00</th>\n",
       "      <td>28.0</td>\n",
       "      <td>24.0</td>\n",
       "      <td>54.0</td>\n",
       "      <td>44.0</td>\n",
       "      <td>26.0</td>\n",
       "      <td>34.0</td>\n",
       "      <td>31.0</td>\n",
       "      <td>30.0</td>\n",
       "      <td>56.0</td>\n",
       "      <td>59.0</td>\n",
       "      <td>36.0</td>\n",
       "      <td>6.0</td>\n",
       "      <td>30.0</td>\n",
       "      <td>9.0</td>\n",
       "      <td>15.0</td>\n",
       "    </tr>\n",
       "    <tr>\n",
       "      <th>2018-01-01 01:05:00</th>\n",
       "      <td>24.0</td>\n",
       "      <td>42.0</td>\n",
       "      <td>55.0</td>\n",
       "      <td>26.0</td>\n",
       "      <td>14.0</td>\n",
       "      <td>38.0</td>\n",
       "      <td>29.0</td>\n",
       "      <td>31.0</td>\n",
       "      <td>57.0</td>\n",
       "      <td>29.0</td>\n",
       "      <td>21.0</td>\n",
       "      <td>4.0</td>\n",
       "      <td>21.0</td>\n",
       "      <td>6.0</td>\n",
       "      <td>6.0</td>\n",
       "    </tr>\n",
       "    <tr>\n",
       "      <th>2018-01-01 01:10:00</th>\n",
       "      <td>40.0</td>\n",
       "      <td>41.0</td>\n",
       "      <td>52.0</td>\n",
       "      <td>30.0</td>\n",
       "      <td>17.0</td>\n",
       "      <td>27.0</td>\n",
       "      <td>25.0</td>\n",
       "      <td>22.0</td>\n",
       "      <td>48.0</td>\n",
       "      <td>33.0</td>\n",
       "      <td>30.0</td>\n",
       "      <td>6.0</td>\n",
       "      <td>20.0</td>\n",
       "      <td>3.0</td>\n",
       "      <td>7.0</td>\n",
       "    </tr>\n",
       "    <tr>\n",
       "      <th>2018-01-01 01:15:00</th>\n",
       "      <td>46.0</td>\n",
       "      <td>43.0</td>\n",
       "      <td>53.0</td>\n",
       "      <td>41.0</td>\n",
       "      <td>18.0</td>\n",
       "      <td>42.0</td>\n",
       "      <td>20.0</td>\n",
       "      <td>13.0</td>\n",
       "      <td>51.0</td>\n",
       "      <td>55.0</td>\n",
       "      <td>22.0</td>\n",
       "      <td>0.0</td>\n",
       "      <td>19.0</td>\n",
       "      <td>5.0</td>\n",
       "      <td>8.0</td>\n",
       "    </tr>\n",
       "    <tr>\n",
       "      <th>2018-01-01 01:20:00</th>\n",
       "      <td>6.0</td>\n",
       "      <td>46.0</td>\n",
       "      <td>60.0</td>\n",
       "      <td>32.0</td>\n",
       "      <td>5.0</td>\n",
       "      <td>27.0</td>\n",
       "      <td>34.0</td>\n",
       "      <td>34.0</td>\n",
       "      <td>9.0</td>\n",
       "      <td>57.0</td>\n",
       "      <td>21.0</td>\n",
       "      <td>0.0</td>\n",
       "      <td>27.0</td>\n",
       "      <td>12.0</td>\n",
       "      <td>19.0</td>\n",
       "    </tr>\n",
       "    <tr>\n",
       "      <th>...</th>\n",
       "      <td>...</td>\n",
       "      <td>...</td>\n",
       "      <td>...</td>\n",
       "      <td>...</td>\n",
       "      <td>...</td>\n",
       "      <td>...</td>\n",
       "      <td>...</td>\n",
       "      <td>...</td>\n",
       "      <td>...</td>\n",
       "      <td>...</td>\n",
       "      <td>...</td>\n",
       "      <td>...</td>\n",
       "      <td>...</td>\n",
       "      <td>...</td>\n",
       "      <td>...</td>\n",
       "    </tr>\n",
       "    <tr>\n",
       "      <th>2020-03-31 23:35:00</th>\n",
       "      <td>4.0</td>\n",
       "      <td>4.0</td>\n",
       "      <td>9.0</td>\n",
       "      <td>10.0</td>\n",
       "      <td>13.0</td>\n",
       "      <td>4.0</td>\n",
       "      <td>10.0</td>\n",
       "      <td>19.0</td>\n",
       "      <td>14.0</td>\n",
       "      <td>21.0</td>\n",
       "      <td>13.0</td>\n",
       "      <td>3.0</td>\n",
       "      <td>4.0</td>\n",
       "      <td>1.0</td>\n",
       "      <td>2.0</td>\n",
       "    </tr>\n",
       "    <tr>\n",
       "      <th>2020-03-31 23:40:00</th>\n",
       "      <td>1.0</td>\n",
       "      <td>5.0</td>\n",
       "      <td>5.0</td>\n",
       "      <td>6.0</td>\n",
       "      <td>5.0</td>\n",
       "      <td>7.0</td>\n",
       "      <td>12.0</td>\n",
       "      <td>5.0</td>\n",
       "      <td>14.0</td>\n",
       "      <td>13.0</td>\n",
       "      <td>12.0</td>\n",
       "      <td>3.0</td>\n",
       "      <td>7.0</td>\n",
       "      <td>3.0</td>\n",
       "      <td>3.0</td>\n",
       "    </tr>\n",
       "    <tr>\n",
       "      <th>2020-03-31 23:45:00</th>\n",
       "      <td>8.0</td>\n",
       "      <td>7.0</td>\n",
       "      <td>4.0</td>\n",
       "      <td>7.0</td>\n",
       "      <td>4.0</td>\n",
       "      <td>12.0</td>\n",
       "      <td>6.0</td>\n",
       "      <td>8.0</td>\n",
       "      <td>17.0</td>\n",
       "      <td>12.0</td>\n",
       "      <td>13.0</td>\n",
       "      <td>3.0</td>\n",
       "      <td>19.0</td>\n",
       "      <td>5.0</td>\n",
       "      <td>3.0</td>\n",
       "    </tr>\n",
       "    <tr>\n",
       "      <th>2020-03-31 23:50:00</th>\n",
       "      <td>5.0</td>\n",
       "      <td>1.0</td>\n",
       "      <td>2.0</td>\n",
       "      <td>5.0</td>\n",
       "      <td>8.0</td>\n",
       "      <td>13.0</td>\n",
       "      <td>9.0</td>\n",
       "      <td>3.0</td>\n",
       "      <td>27.0</td>\n",
       "      <td>14.0</td>\n",
       "      <td>8.0</td>\n",
       "      <td>0.0</td>\n",
       "      <td>4.0</td>\n",
       "      <td>4.0</td>\n",
       "      <td>5.0</td>\n",
       "    </tr>\n",
       "    <tr>\n",
       "      <th>2020-03-31 23:55:00</th>\n",
       "      <td>0.0</td>\n",
       "      <td>5.0</td>\n",
       "      <td>5.0</td>\n",
       "      <td>9.0</td>\n",
       "      <td>7.0</td>\n",
       "      <td>2.0</td>\n",
       "      <td>8.0</td>\n",
       "      <td>7.0</td>\n",
       "      <td>17.0</td>\n",
       "      <td>10.0</td>\n",
       "      <td>11.0</td>\n",
       "      <td>0.0</td>\n",
       "      <td>9.0</td>\n",
       "      <td>3.0</td>\n",
       "      <td>7.0</td>\n",
       "    </tr>\n",
       "  </tbody>\n",
       "</table>\n",
       "<p>97920 rows × 15 columns</p>\n",
       "</div>"
      ],
      "text/plain": [
       "                     K704  K702  K703  K159  K182  K183  K128  K139  K104  \\\n",
       "timestamp                                                                   \n",
       "2018-01-01 01:00:00  28.0  24.0  54.0  44.0  26.0  34.0  31.0  30.0  56.0   \n",
       "2018-01-01 01:05:00  24.0  42.0  55.0  26.0  14.0  38.0  29.0  31.0  57.0   \n",
       "2018-01-01 01:10:00  40.0  41.0  52.0  30.0  17.0  27.0  25.0  22.0  48.0   \n",
       "2018-01-01 01:15:00  46.0  43.0  53.0  41.0  18.0  42.0  20.0  13.0  51.0   \n",
       "2018-01-01 01:20:00   6.0  46.0  60.0  32.0   5.0  27.0  34.0  34.0   9.0   \n",
       "...                   ...   ...   ...   ...   ...   ...   ...   ...   ...   \n",
       "2020-03-31 23:35:00   4.0   4.0   9.0  10.0  13.0   4.0  10.0  19.0  14.0   \n",
       "2020-03-31 23:40:00   1.0   5.0   5.0   6.0   5.0   7.0  12.0   5.0  14.0   \n",
       "2020-03-31 23:45:00   8.0   7.0   4.0   7.0   4.0  12.0   6.0   8.0  17.0   \n",
       "2020-03-31 23:50:00   5.0   1.0   2.0   5.0   8.0  13.0   9.0   3.0  27.0   \n",
       "2020-03-31 23:55:00   0.0   5.0   5.0   9.0   7.0   2.0   8.0   7.0  17.0   \n",
       "\n",
       "                     K101  K206  K074  K414  K415  K250  \n",
       "timestamp                                                \n",
       "2018-01-01 01:00:00  59.0  36.0   6.0  30.0   9.0  15.0  \n",
       "2018-01-01 01:05:00  29.0  21.0   4.0  21.0   6.0   6.0  \n",
       "2018-01-01 01:10:00  33.0  30.0   6.0  20.0   3.0   7.0  \n",
       "2018-01-01 01:15:00  55.0  22.0   0.0  19.0   5.0   8.0  \n",
       "2018-01-01 01:20:00  57.0  21.0   0.0  27.0  12.0  19.0  \n",
       "...                   ...   ...   ...   ...   ...   ...  \n",
       "2020-03-31 23:35:00  21.0  13.0   3.0   4.0   1.0   2.0  \n",
       "2020-03-31 23:40:00  13.0  12.0   3.0   7.0   3.0   3.0  \n",
       "2020-03-31 23:45:00  12.0  13.0   3.0  19.0   5.0   3.0  \n",
       "2020-03-31 23:50:00  14.0   8.0   0.0   4.0   4.0   5.0  \n",
       "2020-03-31 23:55:00  10.0  11.0   0.0   9.0   3.0   7.0  \n",
       "\n",
       "[97920 rows x 15 columns]"
      ]
     },
     "execution_count": 58,
     "metadata": {},
     "output_type": "execute_result"
    }
   ],
   "source": [
    "data"
   ]
  },
  {
   "cell_type": "code",
   "execution_count": null,
   "metadata": {},
   "outputs": [],
   "source": [
    "AE_results={}\n",
    "for trajectory in errors.keys():\n",
    "    for direction in errors[trajectory].keys():\n",
    "        for threshold in errors[trajectory][direction].keys():\n",
    "            AE_results[trajectory+'_'+direction+'_'+str(threshold)] = errors[trajectory][direction][threshold]['RMSE']"
   ]
  },
  {
   "cell_type": "code",
   "execution_count": null,
   "metadata": {},
   "outputs": [
    {
     "data": {
      "text/plain": [
       "{'T1_North_0': 10.59151633354107,\n",
       " 'T1_North_0.25': 10.196899412467983,\n",
       " 'T1_North_0.5': 9.955075986889941,\n",
       " 'T1_North_0.75': 10.05299665551894,\n",
       " 'T1_North_1': 9.830371060706703,\n",
       " 'T1_South_0': 18.641919656471167,\n",
       " 'T1_South_0.25': 17.971930531215893,\n",
       " 'T1_South_0.5': 17.78031504964693,\n",
       " 'T1_South_0.75': 17.8761927808514,\n",
       " 'T1_South_1': 17.471410650736853,\n",
       " 'T2_South_0': 15.783835842420112,\n",
       " 'T2_South_0.25': 14.955686164952139,\n",
       " 'T2_South_0.5': 14.87429694295857,\n",
       " 'T2_South_0.75': 14.916430099779108,\n",
       " 'T2_South_1': 14.930474792897037,\n",
       " 'T2_North_0': 15.473913778461938,\n",
       " 'T2_North_0.25': 14.940598792684167,\n",
       " 'T2_North_0.5': 15.136461083171628,\n",
       " 'T2_North_0.75': 15.01907330839573,\n",
       " 'T2_North_1': 15.349926838139215}"
      ]
     },
     "execution_count": 306,
     "metadata": {},
     "output_type": "execute_result"
    }
   ],
   "source": [
    "AE_results"
   ]
  },
  {
   "cell_type": "code",
   "execution_count": null,
   "metadata": {},
   "outputs": [],
   "source": []
  },
  {
   "cell_type": "code",
   "execution_count": null,
   "metadata": {},
   "outputs": [],
   "source": []
  },
  {
   "cell_type": "code",
   "execution_count": null,
   "metadata": {},
   "outputs": [],
   "source": []
  }
 ],
 "metadata": {
  "kernelspec": {
   "display_name": "OWRI",
   "language": "python",
   "name": "python3"
  },
  "language_info": {
   "codemirror_mode": {
    "name": "ipython",
    "version": 3
   },
   "file_extension": ".py",
   "mimetype": "text/x-python",
   "name": "python",
   "nbconvert_exporter": "python",
   "pygments_lexer": "ipython3",
   "version": "3.10.10"
  },
  "orig_nbformat": 4
 },
 "nbformat": 4,
 "nbformat_minor": 2
}
