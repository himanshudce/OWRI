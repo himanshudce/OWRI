{
 "cells": [
  {
   "cell_type": "code",
   "execution_count": 196,
   "metadata": {},
   "outputs": [],
   "source": [
    "import keras\n",
    "import math\n",
    "import pandas as pd\n",
    "import numpy as np\n",
    "from keras.callbacks import EarlyStopping\n",
    "from sklearn.model_selection import train_test_split\n",
    "from sklearn.model_selection import GridSearchCV\n",
    "from sklearn.preprocessing import StandardScaler\n",
    "from sklearn.metrics import roc_auc_score\n",
    "import matplotlib.pyplot as plt\n",
    "from sklearn.metrics import mean_squared_error, mean_absolute_error\n",
    "import time\n",
    "import pickle\n",
    "pd.set_option('display.max_rows', 500)\n",
    "import os\n",
    "import tensorflow as tf\n",
    "import torch\n",
    "from math import sqrt\n",
    "\n",
    "\n",
    "# define random seeds for Neural Networks\n",
    "torch.manual_seed(0)\n",
    "np.random.seed(0)\n",
    "tf.random.set_seed(0)\n",
    "# ignore warnings jupyter notebook\n",
    "import warnings\n",
    "warnings.filterwarnings('ignore')"
   ]
  },
  {
   "attachments": {},
   "cell_type": "markdown",
   "metadata": {},
   "source": [
    "# OWRI FRAMEWORK"
   ]
  },
  {
   "cell_type": "code",
   "execution_count": 355,
   "metadata": {},
   "outputs": [],
   "source": [
    "# results save path\n",
    "base_result_path = '../results/hauge/LSTM'\n",
    "exp_name = 'univariate_AE_real_time_results.pkl'\n",
    "results_save_path = os.path.join(base_result_path, exp_name)"
   ]
  },
  {
   "cell_type": "code",
   "execution_count": 356,
   "metadata": {},
   "outputs": [],
   "source": [
    "with open('../data/hauge/processed/featured_fpds_raw.pickle', 'rb') as f:\n",
    "    results = pickle.load(f)"
   ]
  },
  {
   "cell_type": "code",
   "execution_count": 357,
   "metadata": {},
   "outputs": [],
   "source": [
    "# load data of correlated results from pickle file\n",
    "with open('../results/hauge/outlier_scores/AE/correlated_results.pickle', 'rb') as f:\n",
    "    correlated_results = pickle.load(f)"
   ]
  },
  {
   "cell_type": "code",
   "execution_count": 358,
   "metadata": {},
   "outputs": [],
   "source": [
    "# get target intersections for each trajectory and direction\n",
    "target_intersections={\"T1\":{\"North\":\"K504\", \"South\":\"K561\"},\n",
    "                      \"T2\":{\"North\":\"K703\", \"South\":\"K206\"}}"
   ]
  },
  {
   "cell_type": "code",
   "execution_count": 359,
   "metadata": {},
   "outputs": [],
   "source": [
    "thresholds = [0,0.25,0.5,0.75,1]\n",
    "# thresholds = [0.5]"
   ]
  },
  {
   "cell_type": "code",
   "execution_count": 360,
   "metadata": {},
   "outputs": [],
   "source": [
    "def merge_trejectory_data(results, trajectory, direction):\n",
    "    data = pd.DataFrame()\n",
    "    for intersection_name in results[trajectory][direction]['raw']:\n",
    "        intersection = results[trajectory][direction]['raw'][intersection_name]\n",
    "        intersection = intersection.rename(columns={\"cars\": intersection_name})\n",
    "        intersection = intersection.set_index(pd.DatetimeIndex(intersection['timestamp']))\n",
    "        intersection = intersection.drop(columns=['timestamp'])\n",
    "        data = pd.merge(data, intersection, left_index=True, right_index=True, how='outer')\n",
    "    data.dropna(inplace=True)\n",
    "    return data"
   ]
  },
  {
   "cell_type": "code",
   "execution_count": 361,
   "metadata": {},
   "outputs": [],
   "source": [
    "def preprocess_df(df,n_obs, n_features, sequence_length):\n",
    "    #do scaling:\n",
    "    scaler = StandardScaler()\n",
    "    train_portion = 0.7\n",
    "    val_portion = 0.1\n",
    "    test_portion = 0.2\n",
    "    df_train = df[:math.ceil(len(df)*train_portion)].values\n",
    "    df_val = df[math.ceil(len(df)*train_portion):math.ceil(len(df)*(train_portion+val_portion))].values\n",
    "    df_test = df[math.ceil(len(df)*(train_portion+val_portion)):].values\n",
    "    train_X, train_y = df_train[:, :n_obs], df_train[:, -n_features]\n",
    "    val_X, val_y = df_val[:, :n_obs], df_val[:, -n_features]\n",
    "    test_X, test_y = df_test[:, :n_obs], df_test[:, -n_features]\n",
    "    scl = scaler.fit(train_X) # fit only on training data\n",
    "    train_X = scl.transform(train_X)\n",
    "    val_X = scl.transform(val_X)\n",
    "    test_X = scl.transform(test_X)\n",
    "    train_X = train_X.reshape((train_X.shape[0], sequence_length, n_features))\n",
    "    val_X = val_X.reshape((val_X.shape[0], sequence_length, n_features))\n",
    "    test_X = test_X.reshape((test_X.shape[0], sequence_length, n_features))\n",
    "    return train_X, train_y, val_X, val_y, test_X, test_y, scl"
   ]
  },
  {
   "cell_type": "code",
   "execution_count": 362,
   "metadata": {},
   "outputs": [],
   "source": [
    "def series_to_supervised(data, n_in=1, n_out=1, dropnan=True):\n",
    "\tn_vars = 1 if type(data) is list else data.shape[1]\n",
    "\tdf = pd.DataFrame(data)\n",
    "\tcols, names = list(), list()\n",
    "\t# input sequence (t-n, ... t-1)\n",
    "\tfor i in range(n_in, 0, -1):\n",
    "\t\tcols.append(df.shift(i))\n",
    "\t\tnames += [('var%d(t-%d)' % (j+1, i)) for j in range(n_vars)]\n",
    "\t# forecast sequence (t, t+1, ... t+n)\n",
    "\tfor i in range(0, n_out):\n",
    "\t\tcols.append(df.shift(-i))\n",
    "\t\tif i == 0:\n",
    "\t\t\tnames += [('var%d(t)' % (j+1)) for j in range(n_vars)]\n",
    "\t\telse:\n",
    "\t\t\tnames += [('var%d(t+%d)' % (j+1, i)) for j in range(n_vars)]\n",
    "\t# put it all together\n",
    "\tagg = pd.concat(cols, axis=1)\n",
    "\tagg.columns = names\n",
    "\t# drop rows with NaN values\n",
    "\tif dropnan:\n",
    "\t\tagg.dropna(inplace=True)\n",
    "\treturn agg"
   ]
  },
  {
   "cell_type": "code",
   "execution_count": 363,
   "metadata": {},
   "outputs": [],
   "source": [
    "def init_model(train_X):\n",
    "    model = keras.models.Sequential()\n",
    "    model.add(keras.layers.LSTM(50, input_shape=(train_X.shape[1], train_X.shape[2])))\n",
    "    model.add(keras.layers.Dense(1))\n",
    "    model.compile(loss=keras.losses.MeanSquaredLogarithmicError(), optimizer='adam')\n",
    "    return model"
   ]
  },
  {
   "cell_type": "code",
   "execution_count": 364,
   "metadata": {},
   "outputs": [],
   "source": [
    "def train_model(train_X,train_y,val_X,val_y,model):\n",
    "    es = EarlyStopping(monitor='val_loss', mode='min', verbose=1, patience=20)\n",
    "    history = model.fit(train_X, train_y, epochs=250, batch_size=64, validation_data=(val_X, val_y), \n",
    "                        verbose=0,callbacks=[es], shuffle=False)\n",
    "    return history"
   ]
  },
  {
   "cell_type": "code",
   "execution_count": 365,
   "metadata": {},
   "outputs": [
    {
     "name": "stdout",
     "output_type": "stream",
     "text": [
      "\n",
      " \n",
      " Starting trajectory: T1\n",
      "Starting direction: North\n",
      "training model for threshold: 0\n",
      "Epoch 83: early stopping\n",
      "Training time: 328.64207005500793\n",
      "evaluating model for threshold: 0\n",
      "837/837 [==============================] - 1s 663us/step\n",
      "training model for threshold: 0.25\n",
      "Epoch 45: early stopping\n",
      "Training time: 178.0862741470337\n",
      "evaluating model for threshold: 0.25\n",
      "837/837 [==============================] - 1s 689us/step\n",
      "training model for threshold: 0.5\n",
      "Epoch 54: early stopping\n",
      "Training time: 209.17061805725098\n",
      "evaluating model for threshold: 0.5\n",
      "837/837 [==============================] - 1s 676us/step\n",
      "training model for threshold: 0.75\n",
      "Epoch 45: early stopping\n",
      "Training time: 178.4835720062256\n",
      "evaluating model for threshold: 0.75\n",
      "837/837 [==============================] - 1s 682us/step\n",
      "training model for threshold: 1\n",
      "Epoch 44: early stopping\n",
      "Training time: 173.7394118309021\n",
      "evaluating model for threshold: 1\n",
      "837/837 [==============================] - 1s 679us/step\n",
      "Starting direction: South\n",
      "training model for threshold: 0\n",
      "Epoch 53: early stopping\n",
      "Training time: 203.4845860004425\n",
      "evaluating model for threshold: 0\n",
      "837/837 [==============================] - 1s 680us/step\n",
      "training model for threshold: 0.25\n",
      "Epoch 50: early stopping\n",
      "Training time: 200.75539994239807\n",
      "evaluating model for threshold: 0.25\n",
      "837/837 [==============================] - 1s 672us/step\n",
      "training model for threshold: 0.5\n",
      "Epoch 81: early stopping\n",
      "Training time: 332.97253823280334\n",
      "evaluating model for threshold: 0.5\n",
      "837/837 [==============================] - 1s 696us/step\n",
      "training model for threshold: 0.75\n",
      "Epoch 57: early stopping\n",
      "Training time: 232.0938560962677\n",
      "evaluating model for threshold: 0.75\n",
      "837/837 [==============================] - 1s 717us/step\n",
      "training model for threshold: 1\n",
      "Epoch 75: early stopping\n",
      "Training time: 309.1115493774414\n",
      "evaluating model for threshold: 1\n",
      "837/837 [==============================] - 1s 702us/step\n",
      "\n",
      " \n",
      " Starting trajectory: T2\n",
      "Starting direction: South\n",
      "training model for threshold: 0\n",
      "Epoch 108: early stopping\n",
      "Training time: 315.2971239089966\n",
      "evaluating model for threshold: 0\n",
      "612/612 [==============================] - 1s 734us/step\n",
      "training model for threshold: 0.25\n",
      "Epoch 59: early stopping\n",
      "Training time: 173.38959097862244\n",
      "evaluating model for threshold: 0.25\n",
      "612/612 [==============================] - 1s 681us/step\n",
      "training model for threshold: 0.5\n",
      "Epoch 58: early stopping\n",
      "Training time: 1215.9226241111755\n",
      "evaluating model for threshold: 0.5\n",
      "612/612 [==============================] - 1s 689us/step\n",
      "training model for threshold: 0.75\n",
      "Epoch 53: early stopping\n",
      "Training time: 1085.3561658859253\n",
      "evaluating model for threshold: 0.75\n",
      "612/612 [==============================] - 1s 696us/step\n",
      "training model for threshold: 1\n",
      "Epoch 67: early stopping\n",
      "Training time: 257.8120710849762\n",
      "evaluating model for threshold: 1\n",
      "612/612 [==============================] - 1s 740us/step\n",
      "Starting direction: North\n",
      "training model for threshold: 0\n",
      "Epoch 47: early stopping\n",
      "Training time: 135.7129487991333\n",
      "evaluating model for threshold: 0\n",
      "612/612 [==============================] - 1s 669us/step\n",
      "training model for threshold: 0.25\n",
      "Epoch 57: early stopping\n",
      "Training time: 168.79988193511963\n",
      "evaluating model for threshold: 0.25\n",
      "612/612 [==============================] - 1s 672us/step\n",
      "training model for threshold: 0.5\n",
      "Epoch 70: early stopping\n",
      "Training time: 207.8393590450287\n",
      "evaluating model for threshold: 0.5\n",
      "612/612 [==============================] - 1s 680us/step\n",
      "training model for threshold: 0.75\n",
      "Epoch 66: early stopping\n",
      "Training time: 197.6508240699768\n",
      "evaluating model for threshold: 0.75\n",
      "612/612 [==============================] - 1s 694us/step\n",
      "training model for threshold: 1\n",
      "Epoch 76: early stopping\n",
      "Training time: 240.86144304275513\n",
      "evaluating model for threshold: 1\n",
      "612/612 [==============================] - 1s 889us/step\n"
     ]
    }
   ],
   "source": [
    "errors={}\n",
    "dfs={}\n",
    "intersection_arrays = []\n",
    "for trajectory in results.keys():\n",
    "    errors[trajectory]={}\n",
    "    print(\"\\n \\n Starting trajectory: {}\".format(trajectory))\n",
    "    for direction in results[trajectory]:\n",
    "        target = target_intersections[trajectory][direction]\n",
    "        errors[trajectory][direction]={}\n",
    "        print(\"Starting direction: {}\".format(direction))\n",
    "        for threshold in thresholds:\n",
    "            errors[trajectory][direction][threshold]={}\n",
    "            # ------------------------------------ data processing ---------------------------------------- #\n",
    "            data = merge_trejectory_data(results, trajectory, direction)# get raw data of the current trajectory and direction\n",
    "            ae_score = correlated_results[trajectory][direction] # AE scores of the current trajectory and direction\n",
    "            number_of_cols = math.ceil(len(ae_score.columns)*threshold) # number of outlier weighted intersections\n",
    "            if number_of_cols==0: # if threshold is 0, then use the target intersection only\n",
    "                number_of_cols=1\n",
    "            top_corr_df = ae_score.corr()[target].sort_values(ascending=False)[:number_of_cols] # get the top correlated intersections\n",
    "            isct_inc = top_corr_df.index.tolist()\n",
    "            df = data[isct_inc].copy(deep=True)\n",
    "            df = df[ [target] + [ col for col in df.columns if col != target ] ]  #move target var to front of DF\n",
    "            # df = df.mul(top_corr_df, axis=1)\n",
    "            sequence_length = 12 # number of time steps to look back\n",
    "            n_features = len(isct_inc) # number of features (correlated intersections)\n",
    "            output_pred = 1 # number of time steps to predict\n",
    "            n_obs = sequence_length * n_features # number of columns in the input\n",
    "            reframed = series_to_supervised(df, sequence_length, output_pred)\n",
    "            train_X, train_y, val_X, val_y, test_X, test_y, scl = preprocess_df(reframed, n_obs, n_features, sequence_length)\n",
    "    #         break\n",
    "    #     break\n",
    "    # break\n",
    "            # ------------------------------------ modelling ---------------------------------------------- #\n",
    "            print('training model for threshold: {}'.format(threshold))\n",
    "            model=init_model(train_X)\n",
    "            start = time.time()\n",
    "            history = train_model(train_X,train_y,val_X,val_y,model)\n",
    "            end = time.time()\n",
    "            print(\"Training time: {}\".format(end-start))\n",
    "\n",
    "            # ------------------------------------ evaluation ---------------------------------------------- #\n",
    "            print('evaluating model for threshold: {}'.format(threshold))\n",
    "            yhat = model.predict(test_X)\n",
    "            errors[trajectory][direction][threshold]['RMSE'] = sqrt(mean_squared_error(yhat,test_y))\n",
    "            errors[trajectory][direction][threshold]['MAE'] = mean_absolute_error(yhat,test_y)\n",
    "            errors[trajectory][direction][threshold]['history'] = history\n",
    "            errors[trajectory][direction][threshold]['df'] = pd.DataFrame({\"Real\":test_y,\"Predicted\":yhat.reshape(-1)})\n",
    "            errors[trajectory][direction][threshold]['train_time'] = end-start\n",
    "\n",
    "\n",
    "# save errors in save path as pickle file\n",
    "with open(results_save_path, 'wb') as handle:\n",
    "    pickle.dump(errors, handle)"
   ]
  },
  {
   "cell_type": "code",
   "execution_count": 341,
   "metadata": {},
   "outputs": [
    {
     "data": {
      "text/plain": [
       "{'T1': {'North': {0: {'RMSE': 10.535132347551992,\n",
       "    'MAE': 7.485085318512258,\n",
       "    'history': <keras.callbacks.History at 0x38ea08eb0>,\n",
       "    'df':        Real  Predicted\n",
       "    0       6.0   3.959224\n",
       "    1      10.0   4.406097\n",
       "    2       6.0   6.557203\n",
       "    3       7.0   7.302107\n",
       "    4       9.0   8.405619\n",
       "    ...     ...        ...\n",
       "    26750   3.0   5.019311\n",
       "    26751   6.0   4.002414\n",
       "    26752   7.0   4.185501\n",
       "    26753   7.0   4.278893\n",
       "    26754   4.0   4.084305\n",
       "    \n",
       "    [26755 rows x 2 columns],\n",
       "    'train_time': 275.1172299385071},\n",
       "   0.25: {'RMSE': 10.264870137806325,\n",
       "    'MAE': 7.280481796528865,\n",
       "    'history': <keras.callbacks.History at 0x3480dba00>,\n",
       "    'df':        Real  Predicted\n",
       "    0       6.0   3.871505\n",
       "    1      10.0   5.117630\n",
       "    2       6.0   7.459230\n",
       "    3       7.0   7.674866\n",
       "    4       9.0   7.194969\n",
       "    ...     ...        ...\n",
       "    26750   3.0   7.050316\n",
       "    26751   6.0   2.982599\n",
       "    26752   7.0   3.312296\n",
       "    26753   7.0   3.360334\n",
       "    26754   4.0   3.263627\n",
       "    \n",
       "    [26755 rows x 2 columns],\n",
       "    'train_time': 246.2318902015686},\n",
       "   0.5: {'RMSE': 9.981852190981062,\n",
       "    'MAE': 7.049905087873882,\n",
       "    'history': <keras.callbacks.History at 0x345df3c70>,\n",
       "    'df':        Real  Predicted\n",
       "    0       6.0   3.836171\n",
       "    1      10.0   5.986810\n",
       "    2       6.0   8.085352\n",
       "    3       7.0   8.327448\n",
       "    4       9.0   7.616311\n",
       "    ...     ...        ...\n",
       "    26750   3.0   4.867198\n",
       "    26751   6.0   5.018717\n",
       "    26752   7.0   3.972417\n",
       "    26753   7.0   4.378416\n",
       "    26754   4.0   3.423766\n",
       "    \n",
       "    [26755 rows x 2 columns],\n",
       "    'train_time': 1190.7763588428497},\n",
       "   0.75: {'RMSE': 9.936356655526351,\n",
       "    'MAE': 7.017884149740309,\n",
       "    'history': <keras.callbacks.History at 0x3511311e0>,\n",
       "    'df':        Real  Predicted\n",
       "    0       6.0   4.067120\n",
       "    1      10.0   5.843589\n",
       "    2       6.0   7.700796\n",
       "    3       7.0   7.671109\n",
       "    4       9.0   6.285881\n",
       "    ...     ...        ...\n",
       "    26750   3.0   6.135290\n",
       "    26751   6.0   6.083097\n",
       "    26752   7.0   4.869997\n",
       "    26753   7.0   3.914133\n",
       "    26754   4.0   3.821352\n",
       "    \n",
       "    [26755 rows x 2 columns],\n",
       "    'train_time': 173.70372915267944},\n",
       "   1: {'RMSE': 9.816147274365582,\n",
       "    'MAE': 6.919184749176782,\n",
       "    'history': <keras.callbacks.History at 0x2cc407a30>,\n",
       "    'df':        Real  Predicted\n",
       "    0       6.0   4.630406\n",
       "    1      10.0   6.782380\n",
       "    2       6.0   8.784079\n",
       "    3       7.0   9.595969\n",
       "    4       9.0   8.487091\n",
       "    ...     ...        ...\n",
       "    26750   3.0   6.193440\n",
       "    26751   6.0   6.440511\n",
       "    26752   7.0   4.782252\n",
       "    26753   7.0   4.211543\n",
       "    26754   4.0   4.399640\n",
       "    \n",
       "    [26755 rows x 2 columns],\n",
       "    'train_time': 169.1815881729126}},\n",
       "  'South': {0: {'RMSE': 18.468399215410425,\n",
       "    'MAE': 13.356675641065756,\n",
       "    'history': <keras.callbacks.History at 0x37d519b70>,\n",
       "    'df':        Real  Predicted\n",
       "    0      16.0  13.720360\n",
       "    1      12.0  14.177942\n",
       "    2       6.0  14.365281\n",
       "    3      16.0  12.874639\n",
       "    4      16.0  14.379312\n",
       "    ...     ...        ...\n",
       "    26750  17.0  22.365002\n",
       "    26751   2.0  19.983688\n",
       "    26752  15.0  10.731522\n",
       "    26753  10.0  11.945496\n",
       "    26754  12.0  10.111793\n",
       "    \n",
       "    [26755 rows x 2 columns],\n",
       "    'train_time': 261.46719193458557},\n",
       "   0.25: {'RMSE': 17.93657610996099,\n",
       "    'MAE': 12.970015726408498,\n",
       "    'history': <keras.callbacks.History at 0x3867174f0>,\n",
       "    'df':        Real  Predicted\n",
       "    0      16.0  15.291790\n",
       "    1      12.0  13.661381\n",
       "    2       6.0  14.435452\n",
       "    3      16.0  13.101599\n",
       "    4      16.0  10.816340\n",
       "    ...     ...        ...\n",
       "    26750  17.0  19.773069\n",
       "    26751   2.0  17.029987\n",
       "    26752  15.0  12.040655\n",
       "    26753  10.0  10.949527\n",
       "    26754  12.0   9.414678\n",
       "    \n",
       "    [26755 rows x 2 columns],\n",
       "    'train_time': 293.81158900260925},\n",
       "   0.5: {'RMSE': 17.836112271458045,\n",
       "    'MAE': 13.0200928777874,\n",
       "    'history': <keras.callbacks.History at 0x3873cf5e0>,\n",
       "    'df':        Real  Predicted\n",
       "    0      16.0  18.049356\n",
       "    1      12.0  15.019785\n",
       "    2       6.0  18.199532\n",
       "    3      16.0  12.115767\n",
       "    4      16.0  12.722322\n",
       "    ...     ...        ...\n",
       "    26750  17.0  17.465954\n",
       "    26751   2.0  13.589183\n",
       "    26752  15.0   9.251136\n",
       "    26753  10.0   9.019561\n",
       "    26754  12.0   9.477845\n",
       "    \n",
       "    [26755 rows x 2 columns],\n",
       "    'train_time': 275.13490414619446},\n",
       "   0.75: {'RMSE': 17.81936074855347,\n",
       "    'MAE': 12.930208520714624,\n",
       "    'history': <keras.callbacks.History at 0x39b6d7070>,\n",
       "    'df':        Real  Predicted\n",
       "    0      16.0  18.504951\n",
       "    1      12.0  16.457661\n",
       "    2       6.0  18.825907\n",
       "    3      16.0  15.840340\n",
       "    4      16.0  17.207027\n",
       "    ...     ...        ...\n",
       "    26750  17.0  18.920277\n",
       "    26751   2.0  13.604526\n",
       "    26752  15.0   9.880511\n",
       "    26753  10.0   9.950737\n",
       "    26754  12.0  11.428186\n",
       "    \n",
       "    [26755 rows x 2 columns],\n",
       "    'train_time': 286.27669310569763},\n",
       "   1: {'RMSE': 17.60942828580208,\n",
       "    'MAE': 12.78638014535863,\n",
       "    'history': <keras.callbacks.History at 0x3a6caebc0>,\n",
       "    'df':        Real  Predicted\n",
       "    0      16.0  17.956169\n",
       "    1      12.0  15.866536\n",
       "    2       6.0  17.033724\n",
       "    3      16.0  14.179050\n",
       "    4      16.0  17.039204\n",
       "    ...     ...        ...\n",
       "    26750  17.0  16.029772\n",
       "    26751   2.0  12.700328\n",
       "    26752  15.0  10.470403\n",
       "    26753  10.0  10.087908\n",
       "    26754  12.0  12.491062\n",
       "    \n",
       "    [26755 rows x 2 columns],\n",
       "    'train_time': 1254.041140794754}}},\n",
       " 'T2': {'South': {0: {'RMSE': 15.418871755438703,\n",
       "    'MAE': 11.467617032209034,\n",
       "    'history': <keras.callbacks.History at 0x3691c3eb0>,\n",
       "    'df':        Real  Predicted\n",
       "    0      52.0  54.302998\n",
       "    1      25.0  52.829781\n",
       "    2      54.0  50.384491\n",
       "    3      35.0  49.558525\n",
       "    4      51.0  46.229023\n",
       "    ...     ...        ...\n",
       "    19576  14.0  18.391674\n",
       "    19577  19.0  15.733598\n",
       "    19578  23.0  16.485731\n",
       "    19579  10.0  15.889219\n",
       "    19580  16.0  13.714854\n",
       "    \n",
       "    [19581 rows x 2 columns],\n",
       "    'train_time': 2070.2692637443542},\n",
       "   0.25: {'RMSE': 14.892053154611016,\n",
       "    'MAE': 11.08619920328685,\n",
       "    'history': <keras.callbacks.History at 0x3a7f873a0>,\n",
       "    'df':        Real  Predicted\n",
       "    0      52.0  50.594128\n",
       "    1      25.0  49.354458\n",
       "    2      54.0  46.324368\n",
       "    3      35.0  45.782120\n",
       "    4      51.0  45.526997\n",
       "    ...     ...        ...\n",
       "    19576  14.0  20.388399\n",
       "    19577  19.0  19.286907\n",
       "    19578  23.0  18.754412\n",
       "    19579  10.0  18.668592\n",
       "    19580  16.0  16.245514\n",
       "    \n",
       "    [19581 rows x 2 columns],\n",
       "    'train_time': 778.3309030532837},\n",
       "   0.5: {'RMSE': 14.808390425994887,\n",
       "    'MAE': 11.046689478030311,\n",
       "    'history': <keras.callbacks.History at 0x3c168b730>,\n",
       "    'df':        Real  Predicted\n",
       "    0      52.0  50.572807\n",
       "    1      25.0  52.183025\n",
       "    2      54.0  48.381069\n",
       "    3      35.0  47.066948\n",
       "    4      51.0  44.343002\n",
       "    ...     ...        ...\n",
       "    19576  14.0  19.585676\n",
       "    19577  19.0  17.891542\n",
       "    19578  23.0  16.758516\n",
       "    19579  10.0  17.093914\n",
       "    19580  16.0  15.053977\n",
       "    \n",
       "    [19581 rows x 2 columns],\n",
       "    'train_time': 737.6511318683624},\n",
       "   0.75: {'RMSE': 15.275508976145279,\n",
       "    'MAE': 11.317016096890969,\n",
       "    'history': <keras.callbacks.History at 0x3d83d8ee0>,\n",
       "    'df':        Real  Predicted\n",
       "    0      52.0  50.047791\n",
       "    1      25.0  54.456600\n",
       "    2      54.0  52.414974\n",
       "    3      35.0  50.262028\n",
       "    4      51.0  45.947018\n",
       "    ...     ...        ...\n",
       "    19576  14.0  19.779348\n",
       "    19577  19.0  18.771729\n",
       "    19578  23.0  17.227354\n",
       "    19579  10.0  17.333464\n",
       "    19580  16.0  14.980056\n",
       "    \n",
       "    [19581 rows x 2 columns],\n",
       "    'train_time': 758.7954649925232},\n",
       "   1: {'RMSE': 14.818099250328288,\n",
       "    'MAE': 10.998496681425923,\n",
       "    'history': <keras.callbacks.History at 0x3cbecb490>,\n",
       "    'df':        Real  Predicted\n",
       "    0      52.0  48.396202\n",
       "    1      25.0  52.003632\n",
       "    2      54.0  49.466915\n",
       "    3      35.0  47.346832\n",
       "    4      51.0  46.614105\n",
       "    ...     ...        ...\n",
       "    19576  14.0  21.618849\n",
       "    19577  19.0  19.683718\n",
       "    19578  23.0  18.186106\n",
       "    19579  10.0  16.420719\n",
       "    19580  16.0  13.991331\n",
       "    \n",
       "    [19581 rows x 2 columns],\n",
       "    'train_time': 1055.0730781555176}},\n",
       "  'North': {0: {'RMSE': 15.45425024358104,\n",
       "    'MAE': 10.805811371344735,\n",
       "    'history': <keras.callbacks.History at 0x3cf1ddcc0>,\n",
       "    'df':        Real  Predicted\n",
       "    0      24.0  22.804270\n",
       "    1      19.0  21.899797\n",
       "    2      28.0  19.784897\n",
       "    3      27.0  20.594307\n",
       "    4      41.0  21.868101\n",
       "    ...     ...        ...\n",
       "    19576   9.0   7.687732\n",
       "    19577   5.0   7.093933\n",
       "    19578   4.0   6.376044\n",
       "    19579   2.0   5.537571\n",
       "    19580   5.0   4.732050\n",
       "    \n",
       "    [19581 rows x 2 columns],\n",
       "    'train_time': 1014.688579082489},\n",
       "   0.25: {'RMSE': 14.965960989755688,\n",
       "    'MAE': 10.433239989629909,\n",
       "    'history': <keras.callbacks.History at 0x3dfe7d180>,\n",
       "    'df':        Real  Predicted\n",
       "    0      24.0  27.874264\n",
       "    1      19.0  27.515026\n",
       "    2      28.0  27.175922\n",
       "    3      27.0  28.924732\n",
       "    4      41.0  27.569633\n",
       "    ...     ...        ...\n",
       "    19576   9.0   7.658014\n",
       "    19577   5.0   7.066935\n",
       "    19578   4.0   6.678876\n",
       "    19579   2.0   6.480537\n",
       "    19580   5.0   6.032692\n",
       "    \n",
       "    [19581 rows x 2 columns],\n",
       "    'train_time': 728.0565450191498},\n",
       "   0.5: {'RMSE': 14.932952037085133,\n",
       "    'MAE': 10.373150889403266,\n",
       "    'history': <keras.callbacks.History at 0x3f1d21cc0>,\n",
       "    'df':        Real  Predicted\n",
       "    0      24.0  32.119324\n",
       "    1      19.0  28.240892\n",
       "    2      28.0  27.786083\n",
       "    3      27.0  30.728617\n",
       "    4      41.0  28.584951\n",
       "    ...     ...        ...\n",
       "    19576   9.0   7.804592\n",
       "    19577   5.0   7.074411\n",
       "    19578   4.0   6.331622\n",
       "    19579   2.0   6.294121\n",
       "    19580   5.0   6.257021\n",
       "    \n",
       "    [19581 rows x 2 columns],\n",
       "    'train_time': 1713.3263680934906},\n",
       "   0.75: {'RMSE': 15.160100533590441,\n",
       "    'MAE': 10.533242988450054,\n",
       "    'history': <keras.callbacks.History at 0x3fbe19210>,\n",
       "    'df':        Real  Predicted\n",
       "    0      24.0  31.103367\n",
       "    1      19.0  30.415251\n",
       "    2      28.0  27.451500\n",
       "    3      27.0  27.796694\n",
       "    4      41.0  27.510536\n",
       "    ...     ...        ...\n",
       "    19576   9.0   7.236148\n",
       "    19577   5.0   6.776473\n",
       "    19578   4.0   6.854722\n",
       "    19579   2.0   5.896749\n",
       "    19580   5.0   6.656298\n",
       "    \n",
       "    [19581 rows x 2 columns],\n",
       "    'train_time': 1735.7168309688568},\n",
       "   1: {'RMSE': 15.18109814438314,\n",
       "    'MAE': 10.499770361802094,\n",
       "    'history': <keras.callbacks.History at 0x369b21b70>,\n",
       "    'df':        Real  Predicted\n",
       "    0      24.0  30.089169\n",
       "    1      19.0  29.048326\n",
       "    2      28.0  27.361338\n",
       "    3      27.0  28.038227\n",
       "    4      41.0  27.908411\n",
       "    ...     ...        ...\n",
       "    19576   9.0   7.257237\n",
       "    19577   5.0   7.547582\n",
       "    19578   4.0   6.930598\n",
       "    19579   2.0   5.805472\n",
       "    19580   5.0   6.099768\n",
       "    \n",
       "    [19581 rows x 2 columns],\n",
       "    'train_time': 1395.7266862392426}}}}"
      ]
     },
     "execution_count": 341,
     "metadata": {},
     "output_type": "execute_result"
    }
   ],
   "source": [
    "errors"
   ]
  },
  {
   "cell_type": "code",
   "execution_count": 342,
   "metadata": {},
   "outputs": [],
   "source": [
    "AE_results={}\n",
    "for trajectory in errors.keys():\n",
    "    for direction in errors[trajectory].keys():\n",
    "        for threshold in errors[trajectory][direction].keys():\n",
    "            AE_results[trajectory+'_'+direction+'_'+str(threshold)] = errors[trajectory][direction][threshold]['RMSE']"
   ]
  },
  {
   "cell_type": "code",
   "execution_count": null,
   "metadata": {},
   "outputs": [],
   "source": []
  },
  {
   "cell_type": "code",
   "execution_count": 343,
   "metadata": {},
   "outputs": [
    {
     "data": {
      "text/plain": [
       "{'T1_North_0': 10.535132347551992,\n",
       " 'T1_North_0.25': 10.264870137806325,\n",
       " 'T1_North_0.5': 9.981852190981062,\n",
       " 'T1_North_0.75': 9.936356655526351,\n",
       " 'T1_North_1': 9.816147274365582,\n",
       " 'T1_South_0': 18.468399215410425,\n",
       " 'T1_South_0.25': 17.93657610996099,\n",
       " 'T1_South_0.5': 17.836112271458045,\n",
       " 'T1_South_0.75': 17.81936074855347,\n",
       " 'T1_South_1': 17.60942828580208,\n",
       " 'T2_South_0': 15.418871755438703,\n",
       " 'T2_South_0.25': 14.892053154611016,\n",
       " 'T2_South_0.5': 14.808390425994887,\n",
       " 'T2_South_0.75': 15.275508976145279,\n",
       " 'T2_South_1': 14.818099250328288,\n",
       " 'T2_North_0': 15.45425024358104,\n",
       " 'T2_North_0.25': 14.965960989755688,\n",
       " 'T2_North_0.5': 14.932952037085133,\n",
       " 'T2_North_0.75': 15.160100533590441,\n",
       " 'T2_North_1': 15.18109814438314}"
      ]
     },
     "execution_count": 343,
     "metadata": {},
     "output_type": "execute_result"
    }
   ],
   "source": [
    "AE_results"
   ]
  },
  {
   "cell_type": "code",
   "execution_count": null,
   "metadata": {},
   "outputs": [],
   "source": []
  },
  {
   "cell_type": "code",
   "execution_count": 305,
   "metadata": {},
   "outputs": [],
   "source": [
    "AE_results={}\n",
    "for trajectory in errors.keys():\n",
    "    for direction in errors[trajectory].keys():\n",
    "        for threshold in errors[trajectory][direction].keys():\n",
    "            AE_results[trajectory+'_'+direction+'_'+str(threshold)] = errors[trajectory][direction][threshold]['RMSE']"
   ]
  },
  {
   "cell_type": "code",
   "execution_count": 306,
   "metadata": {},
   "outputs": [
    {
     "data": {
      "text/plain": [
       "{'T1_North_0': 10.59151633354107,\n",
       " 'T1_North_0.25': 10.196899412467983,\n",
       " 'T1_North_0.5': 9.955075986889941,\n",
       " 'T1_North_0.75': 10.05299665551894,\n",
       " 'T1_North_1': 9.830371060706703,\n",
       " 'T1_South_0': 18.641919656471167,\n",
       " 'T1_South_0.25': 17.971930531215893,\n",
       " 'T1_South_0.5': 17.78031504964693,\n",
       " 'T1_South_0.75': 17.8761927808514,\n",
       " 'T1_South_1': 17.471410650736853,\n",
       " 'T2_South_0': 15.783835842420112,\n",
       " 'T2_South_0.25': 14.955686164952139,\n",
       " 'T2_South_0.5': 14.87429694295857,\n",
       " 'T2_South_0.75': 14.916430099779108,\n",
       " 'T2_South_1': 14.930474792897037,\n",
       " 'T2_North_0': 15.473913778461938,\n",
       " 'T2_North_0.25': 14.940598792684167,\n",
       " 'T2_North_0.5': 15.136461083171628,\n",
       " 'T2_North_0.75': 15.01907330839573,\n",
       " 'T2_North_1': 15.349926838139215}"
      ]
     },
     "execution_count": 306,
     "metadata": {},
     "output_type": "execute_result"
    }
   ],
   "source": [
    "AE_results"
   ]
  },
  {
   "cell_type": "code",
   "execution_count": null,
   "metadata": {},
   "outputs": [],
   "source": []
  },
  {
   "cell_type": "code",
   "execution_count": null,
   "metadata": {},
   "outputs": [],
   "source": []
  },
  {
   "cell_type": "code",
   "execution_count": null,
   "metadata": {},
   "outputs": [],
   "source": []
  },
  {
   "cell_type": "code",
   "execution_count": null,
   "metadata": {},
   "outputs": [],
   "source": []
  },
  {
   "cell_type": "code",
   "execution_count": null,
   "metadata": {},
   "outputs": [],
   "source": []
  },
  {
   "cell_type": "code",
   "execution_count": null,
   "metadata": {},
   "outputs": [],
   "source": []
  },
  {
   "cell_type": "code",
   "execution_count": 190,
   "metadata": {},
   "outputs": [
    {
     "data": {
      "text/plain": [
       "0.2325527460714449"
      ]
     },
     "execution_count": 190,
     "metadata": {},
     "output_type": "execute_result"
    }
   ],
   "source": [
    "mse(yhat,test_y.reshape((test_y.shape[0], 1)))"
   ]
  },
  {
   "cell_type": "code",
   "execution_count": 171,
   "metadata": {},
   "outputs": [
    {
     "data": {
      "text/plain": [
       "(26755, 12, 9)"
      ]
     },
     "execution_count": 171,
     "metadata": {},
     "output_type": "execute_result"
    }
   ],
   "source": [
    "test_X.shape"
   ]
  },
  {
   "cell_type": "code",
   "execution_count": 165,
   "metadata": {},
   "outputs": [
    {
     "data": {
      "text/plain": [
       "array([[[-0.90355742, -0.9533622 , -0.79573109, ..., -0.7424034 ,\n",
       "         -0.95437715, -0.89496412],\n",
       "        [-0.75557919, -0.38073286, -1.11754366, ..., -0.69638785,\n",
       "         -1.01557695, -1.17619786],\n",
       "        [-0.79255873, -0.46661   , -0.99375869, ..., -0.51236917,\n",
       "         -1.09718131, -0.68401791],\n",
       "        ...,\n",
       "        [-0.23762361, -0.66690799, -0.52332379, ..., -0.74229107,\n",
       "         -0.68901399, -0.64877125],\n",
       "        [-0.90342489, -0.38060682, -0.77085419, ..., -0.46627684,\n",
       "         -0.54618666, -0.54330012],\n",
       "        [-0.97739437, -0.52373474, -0.22625324, ..., -0.60426475,\n",
       "         -0.40335927, -0.47297916]],\n",
       "\n",
       "       [[-0.75558877, -0.3807381 , -1.11755911, ..., -0.69639982,\n",
       "         -1.01558801, -1.17621218],\n",
       "        [-0.79257114, -0.46662612, -0.9937646 , ..., -0.51237487,\n",
       "         -1.09719095, -0.68401723],\n",
       "        [-1.27345058, -0.52387158, -0.89473577, ..., -0.74238459,\n",
       "         -0.81153376, -0.68401791],\n",
       "        ...,\n",
       "        [-0.90344436, -0.38061838, -0.77086864, ..., -0.46628633,\n",
       "         -0.54619826, -0.54330979],\n",
       "        [-0.97740432, -0.52375038, -0.22625974, ..., -0.6042783 ,\n",
       "         -0.40337202, -0.47299291],\n",
       "        [-0.45954114, -0.32333564, -0.32526988, ..., -0.88026551,\n",
       "         -0.36255546, -0.78935871]],\n",
       "\n",
       "       [[-0.79258093, -0.46663171, -0.9937791 , ..., -0.5123855 ,\n",
       "         -1.09720249, -0.68402807],\n",
       "        [-1.27346644, -0.52388829, -0.89474135, ..., -0.74239109,\n",
       "         -0.81154196, -0.68401723],\n",
       "        [-0.82955041, -0.29482525, -1.29082746, ..., -0.69638151,\n",
       "         -0.566693  , -0.61370636],\n",
       "        ...,\n",
       "        [-0.97742444, -0.52376319, -0.22626996, ..., -0.6042887 ,\n",
       "         -0.40338252, -0.47300215],\n",
       "        [-0.45954833, -0.32334939, -0.32527692, ..., -0.88028121,\n",
       "         -0.36256784, -0.78937538],\n",
       "        [-0.8294363 , -0.2947072 , -0.54805731, ..., -0.78826526,\n",
       "         -0.48496691, -0.82451199]],\n",
       "\n",
       "       ...,\n",
       "\n",
       "       [[-1.31047122, -1.38283028, -1.46414314, ..., -1.2484428 ,\n",
       "         -1.4032568 , -1.35199222],\n",
       "        [-1.34745034, -1.3828209 , -1.36510177, ..., -1.29443003,\n",
       "         -1.40324343, -1.35197666],\n",
       "        [-1.34743394, -1.38279534, -1.41460611, ..., -1.29442162,\n",
       "         -1.36242547, -1.2465103 ],\n",
       "        ...,\n",
       "        [-1.19936469, -1.35400307, -1.31546732, ..., -1.24829977,\n",
       "         -1.36228815, -1.38700147],\n",
       "        [-1.38429117, -1.35398304, -1.38971151, ..., -1.38628654,\n",
       "         -1.42347657, -1.45729392],\n",
       "        [-1.2733105 , -1.29670268, -1.46396121, ..., -1.11026615,\n",
       "         -1.44385663, -1.21119811]],\n",
       "\n",
       "       [[-1.34746339, -1.38283028, -1.36511913, ..., -1.29444638,\n",
       "         -1.4032568 , -1.35199222],\n",
       "        [-1.34745034, -1.3828209 , -1.4146134 , ..., -1.29443003,\n",
       "         -1.36243643, -1.24650938],\n",
       "        [-1.38442562, -1.29690297, -1.43936184, ..., -1.38642779,\n",
       "         -1.42363566, -1.45744495],\n",
       "        ...,\n",
       "        [-1.3843149 , -1.35400307, -1.38973077, ..., -1.38630215,\n",
       "         -1.4234949 , -1.45730911],\n",
       "        [-1.27332203, -1.29672561, -1.46397438, ..., -1.11028363,\n",
       "         -1.44387866, -1.21121867],\n",
       "        [-1.31030001, -1.43984489, -1.31543626, ..., -1.34026678,\n",
       "         -1.3826509 , -1.24635139]],\n",
       "\n",
       "       [[-1.34746339, -1.38283028, -1.41463114, ..., -1.29444638,\n",
       "         -1.36244956, -1.24652419],\n",
       "        [-1.38444228, -1.29692764, -1.43936921, ..., -1.38643652,\n",
       "         -1.42364693, -1.45744394],\n",
       "        [-1.38442562, -1.44005693, -1.36509465, ..., -1.06440619,\n",
       "         -1.40323226, -1.14104298],\n",
       "        ...,\n",
       "        [-1.27334477, -1.29674514, -1.46399423, ..., -1.1102974 ,\n",
       "         -1.44389714, -1.21123237],\n",
       "        [-1.31031174, -1.43986918, -1.31544863, ..., -1.34028606,\n",
       "         -1.38267238, -1.24637227],\n",
       "        [-1.34728953, -1.38258801, -1.26592794, ..., -1.29426666,\n",
       "         -1.40305281, -1.42211781]]])"
      ]
     },
     "execution_count": 165,
     "metadata": {},
     "output_type": "execute_result"
    }
   ],
   "source": [
    "df_train[:,:n_obs].reshape(-1,sequence_length,n_features)"
   ]
  },
  {
   "cell_type": "code",
   "execution_count": 144,
   "metadata": {},
   "outputs": [
    {
     "data": {
      "text/plain": [
       "(144924, 12, 9)"
      ]
     },
     "execution_count": 144,
     "metadata": {},
     "output_type": "execute_result"
    }
   ],
   "source": [
    "reframed.values.reshape(-1, sequence_length, n_features).shape"
   ]
  },
  {
   "cell_type": "code",
   "execution_count": 148,
   "metadata": {},
   "outputs": [
    {
     "ename": "TypeError",
     "evalue": "tuple indices must be integers or slices, not tuple",
     "output_type": "error",
     "traceback": [
      "\u001b[0;31m---------------------------------------------------------------------------\u001b[0m",
      "\u001b[0;31mTypeError\u001b[0m                                 Traceback (most recent call last)",
      "Cell \u001b[0;32mIn[148], line 1\u001b[0m\n\u001b[0;32m----> 1\u001b[0m reframed\u001b[39m.\u001b[39;49mshape[:,:n_obs]\n",
      "\u001b[0;31mTypeError\u001b[0m: tuple indices must be integers or slices, not tuple"
     ]
    }
   ],
   "source": [
    "reframed.shape[:,:n_obs]"
   ]
  },
  {
   "cell_type": "code",
   "execution_count": 133,
   "metadata": {},
   "outputs": [
    {
     "data": {
      "text/plain": [
       "((93644, 117), (13377, 117), (26755, 117))"
      ]
     },
     "execution_count": 133,
     "metadata": {},
     "output_type": "execute_result"
    }
   ],
   "source": [
    "df_train.shape, df_val.shape, df_test.shape"
   ]
  },
  {
   "cell_type": "code",
   "execution_count": null,
   "metadata": {},
   "outputs": [],
   "source": []
  },
  {
   "cell_type": "code",
   "execution_count": null,
   "metadata": {},
   "outputs": [],
   "source": []
  },
  {
   "cell_type": "code",
   "execution_count": 89,
   "metadata": {},
   "outputs": [],
   "source": [
    "ae_score = correlated_results[trajectory][direction]"
   ]
  },
  {
   "cell_type": "code",
   "execution_count": 124,
   "metadata": {},
   "outputs": [
    {
     "data": {
      "text/plain": [
       "['K703']"
      ]
     },
     "execution_count": 124,
     "metadata": {},
     "output_type": "execute_result"
    }
   ],
   "source": [
    "ae_score.corr()[target].sort_values(ascending=False)[:1].index.tolist()"
   ]
  },
  {
   "cell_type": "code",
   "execution_count": 90,
   "metadata": {},
   "outputs": [],
   "source": []
  },
  {
   "cell_type": "code",
   "execution_count": 91,
   "metadata": {},
   "outputs": [
    {
     "data": {
      "text/plain": [
       "['K703', 'K704', 'K183', 'K206', 'K182']"
      ]
     },
     "execution_count": 91,
     "metadata": {},
     "output_type": "execute_result"
    }
   ],
   "source": [
    "isct_inc"
   ]
  },
  {
   "cell_type": "code",
   "execution_count": 92,
   "metadata": {},
   "outputs": [],
   "source": [
    "df = data[isct_inc].copy(deep=True)\n",
    "#move target var to front of DF\n",
    "df = df[ [target] + [ col for col in df.columns if col != target ] ]"
   ]
  },
  {
   "cell_type": "code",
   "execution_count": 93,
   "metadata": {},
   "outputs": [],
   "source": []
  },
  {
   "cell_type": "code",
   "execution_count": null,
   "metadata": {},
   "outputs": [],
   "source": []
  },
  {
   "cell_type": "code",
   "execution_count": null,
   "metadata": {},
   "outputs": [],
   "source": []
  },
  {
   "cell_type": "code",
   "execution_count": null,
   "metadata": {},
   "outputs": [],
   "source": []
  },
  {
   "cell_type": "code",
   "execution_count": 94,
   "metadata": {},
   "outputs": [],
   "source": []
  },
  {
   "cell_type": "code",
   "execution_count": 49,
   "metadata": {},
   "outputs": [],
   "source": [
    "# specify the lag sequence\n",
    "sequence_length = 12\n",
    "n_features = len(isct_inc)\n",
    "# frame as supervised learning\n",
    "reframed = series_to_supervised(df, sequence_length, 1)"
   ]
  },
  {
   "cell_type": "code",
   "execution_count": null,
   "metadata": {},
   "outputs": [],
   "source": []
  },
  {
   "cell_type": "code",
   "execution_count": null,
   "metadata": {},
   "outputs": [],
   "source": []
  },
  {
   "cell_type": "code",
   "execution_count": null,
   "metadata": {},
   "outputs": [],
   "source": []
  },
  {
   "cell_type": "code",
   "execution_count": null,
   "metadata": {},
   "outputs": [],
   "source": []
  },
  {
   "cell_type": "code",
   "execution_count": 66,
   "metadata": {},
   "outputs": [],
   "source": [
    "values = reframed.values\n",
    "n_train_hours = math.ceil(len(df)*0.8)\n",
    "train = values[:n_train_hours, :]\n",
    "test = values[n_train_hours:, :]"
   ]
  },
  {
   "cell_type": "code",
   "execution_count": 68,
   "metadata": {},
   "outputs": [
    {
     "data": {
      "text/plain": [
       "(29892, 65)"
      ]
     },
     "execution_count": 68,
     "metadata": {},
     "output_type": "execute_result"
    }
   ],
   "source": [
    "train.shape"
   ]
  },
  {
   "cell_type": "code",
   "execution_count": 54,
   "metadata": {},
   "outputs": [],
   "source": [
    "# split into input and outputs\n",
    "n_obs = sequence_length * n_features\n",
    "train_X, train_y = train[:, :n_obs], train[:, -n_features]\n",
    "test_X, test_y = test[:, :n_obs], test[:, -n_features]"
   ]
  },
  {
   "cell_type": "code",
   "execution_count": 64,
   "metadata": {},
   "outputs": [],
   "source": [
    "train_X = train_X.reshape((train_X.shape[0], sequence_length, n_features))\n",
    "test_X = test_X.reshape((test_X.shape[0], sequence_length, n_features))"
   ]
  },
  {
   "cell_type": "code",
   "execution_count": 65,
   "metadata": {},
   "outputs": [
    {
     "data": {
      "text/plain": [
       "((29892, 12, 5), (29892,), (7460, 12, 5), (7460,))"
      ]
     },
     "execution_count": 65,
     "metadata": {},
     "output_type": "execute_result"
    }
   ],
   "source": [
    "train_X.shape, train_y.shape, test_X.shape, test_y.shape"
   ]
  },
  {
   "cell_type": "code",
   "execution_count": null,
   "metadata": {},
   "outputs": [],
   "source": []
  },
  {
   "cell_type": "code",
   "execution_count": null,
   "metadata": {},
   "outputs": [],
   "source": []
  },
  {
   "cell_type": "code",
   "execution_count": null,
   "metadata": {},
   "outputs": [],
   "source": []
  },
  {
   "cell_type": "code",
   "execution_count": null,
   "metadata": {},
   "outputs": [],
   "source": []
  },
  {
   "cell_type": "code",
   "execution_count": null,
   "metadata": {},
   "outputs": [],
   "source": []
  }
 ],
 "metadata": {
  "kernelspec": {
   "display_name": "OWRI",
   "language": "python",
   "name": "python3"
  },
  "language_info": {
   "codemirror_mode": {
    "name": "ipython",
    "version": 3
   },
   "file_extension": ".py",
   "mimetype": "text/x-python",
   "name": "python",
   "nbconvert_exporter": "python",
   "pygments_lexer": "ipython3",
   "version": "3.10.10"
  },
  "orig_nbformat": 4
 },
 "nbformat": 4,
 "nbformat_minor": 2
}
